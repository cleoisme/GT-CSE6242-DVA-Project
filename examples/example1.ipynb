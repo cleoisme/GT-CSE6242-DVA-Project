{
 "cells": [
  {
   "cell_type": "code",
   "execution_count": 94,
   "metadata": {},
   "outputs": [
    {
     "name": "stdout",
     "output_type": "stream",
     "text": [
      "Optimal Values of X [3.75       6.25       6.66666667]\n",
      "Basis: [[40  0  0]\n",
      " [ 0 16  0]\n",
      " [ 0  0 12]]\n",
      "B Inverse [[ 0.025       0.         -0.        ]\n",
      " [ 0.          0.0625     -0.        ]\n",
      " [ 0.          0.          0.08333333]]\n",
      "Optimal Dual Solution [0.025      0.0625     0.08333333]\n"
     ]
    }
   ],
   "source": [
    "import cvxpy as cp\n",
    "import cvxpy as cp\n",
    "import numpy as np\n",
    "import warnings\n",
    "from scipy.linalg import inv\n",
    "\n",
    "warnings.filterwarnings(\"ignore\")   \n",
    "\n",
    "x = cp.Variable(3, nonneg=True)\n",
    "objective = cp.Minimize(cp.sum(x))\n",
    "\n",
    "A = np.array([[40, 0, 0],\n",
    "              [0, 16, 0],\n",
    "              [0, 0, 12]])\n",
    "\n",
    "b = np.array([150, 100, 80])\n",
    "c = np.array([1, 1, 1])\n",
    "\n",
    "constraints = [A @ x == b, x>=0]\n",
    "\n",
    "prob = cp.Problem(objective, constraints)\n",
    "result = prob.solve()\n",
    "\n",
    "# print out the solution\n",
    "print(\"Optimal Values of X\", x.value)\n",
    "\n",
    "# print Basis\n",
    "print(\"Basis:\", A)\n",
    "print(\"B Inverse\", inv(A))\n",
    "print(\"Optimal Dual Solution\", c.T @ inv(A))\n",
    "\n"
   ]
  },
  {
   "cell_type": "code",
   "execution_count": 95,
   "metadata": {},
   "outputs": [
    {
     "name": "stdout",
     "output_type": "stream",
     "text": [
      "Optimal Values of X [40. 16. 12.]\n",
      "Z_bar -1.9996\n"
     ]
    }
   ],
   "source": [
    "# knapsac problem \n",
    "x = cp.Variable(3, integer=True)\n",
    "\n",
    "yt = np.array([0.025, 0.0625, 0.0833])\n",
    "objective = cp.Maximize(yt.T @ x)\n",
    "\n",
    "A = np.array([[5, 0, 0],\n",
    "              [0, 12, 0],\n",
    "              [0, 0, 16]])\n",
    "\n",
    "b = np.array([200, 200, 200])\n",
    "constraints = [A @ x <=b, x>=0]\n",
    "\n",
    "prob = cp.Problem(objective, constraints)\n",
    "result = prob.solve()\n",
    "\n",
    "# print out the solution\n",
    "print(\"Optimal Values of X\", x.value)\n",
    "print(\"Z_bar\", 1-(yt.T@x.value))\n"
   ]
  },
  {
   "cell_type": "code",
   "execution_count": 96,
   "metadata": {},
   "outputs": [
    {
     "name": "stdout",
     "output_type": "stream",
     "text": [
      "[[40. 40.  0.  0.]\n",
      " [16.  0. 16.  0.]\n",
      " [12.  0.  0. 12.]]\n",
      "Optimal Values of X [3.75000000e+00 4.64214789e-11 2.50000000e+00 2.91666667e+00]\n",
      "Basis: [[40.  0.  0.]\n",
      " [16. 16.  0.]\n",
      " [12.  0. 12.]]\n",
      "B Inverse [[ 0.025       0.         -0.        ]\n",
      " [-0.025       0.0625     -0.        ]\n",
      " [-0.025       0.          0.08333333]]\n",
      "Optimal Dual Solution [-0.025       0.0625      0.08333333]\n",
      "Optimal Values of X [-0. 16. 12.]\n",
      "Z_bar -1.0\n",
      "Solution(status=optimal, opt_val=2.0, primal_vars={2146: array([-0., 16., 12.])}, dual_vars={}, attr={'solver_specific_stats': {'mip_gap': 0.0}})\n"
     ]
    }
   ],
   "source": [
    "A = np.array([[40, 0, 0],\n",
    "              [0, 16, 0],\n",
    "              [0, 0, 12]])\n",
    "\n",
    "a_new = np.array([40., 16., 12.]).reshape(3, 1)\n",
    "\n",
    "newA=np.hstack([a_new, A])\n",
    "print(newA)\n",
    "\n",
    "x = cp.Variable(4, nonneg=True)\n",
    "objective = cp.Minimize(cp.sum(x))\n",
    "\n",
    "b = np.array([150, 100, 80])\n",
    "c = np.array([1, 1, 1])\n",
    "\n",
    "constraints = [newA @ x==b, x>=0]\n",
    "\n",
    "prob = cp.Problem(objective, constraints)\n",
    "result = prob.solve()\n",
    "\n",
    "# print out the solution\n",
    "print(\"Optimal Values of X\", x.value)\n",
    "\n",
    "# the optimal solution for x2 is zero so we can drop it\n",
    "cols = [0, 2, 3]\n",
    "Basis_Matrix = newA[:, cols]\n",
    "\n",
    "# print Basis\n",
    "print(\"Basis:\", Basis_Matrix)\n",
    "print(\"B Inverse\", inv(Basis_Matrix))\n",
    "print(\"Optimal Dual Solution\", c.T @ inv(Basis_Matrix))\n",
    "\n",
    "# knapsac problem \n",
    "x = cp.Variable(3, integer=True)\n",
    "\n",
    "yt = c.T @ inv(Basis_Matrix)\n",
    "objective = cp.Maximize(yt.T @ x)\n",
    "\n",
    "A = np.array([[5, 0, 0],\n",
    "              [0, 12, 0],\n",
    "              [0, 0, 16]])\n",
    "\n",
    "b = np.array([200, 200, 200])\n",
    "constraints = [A @ x <=b, x>=0]\n",
    "\n",
    "prob = cp.Problem(objective, constraints)\n",
    "result = prob.solve()\n",
    "\n",
    "# print out the solution\n",
    "print(\"Optimal Values of X\", x.value)\n",
    "print(\"Z_bar\", 1-(yt.T@x.value))\n",
    "print(prob.solution)\n",
    "\n",
    "\n",
    "\n",
    "\n",
    "\n"
   ]
  },
  {
   "cell_type": "code",
   "execution_count": 97,
   "metadata": {},
   "outputs": [
    {
     "name": "stdout",
     "output_type": "stream",
     "text": [
      "[[ 0. 40. 40.  0.  0.]\n",
      " [16. 16.  0. 16.  0.]\n",
      " [12. 12.  0.  0. 12.]]\n",
      "Optimal Values of X [2.50000000e+00 3.75000000e+00 1.51497610e-09 2.43920183e-09\n",
      " 4.16666669e-01]\n",
      "Basis: [[ 0. 40.  0.]\n",
      " [16. 16.  0.]\n",
      " [12. 12. 12.]]\n",
      "B Inverse [[-0.025       0.0625     -0.        ]\n",
      " [ 0.025       0.         -0.        ]\n",
      " [ 0.         -0.0625      0.08333333]]\n",
      "Optimal Dual Solution [0.         0.         0.08333333]\n",
      "Optimal Values of X [-0. -0. 12.]\n",
      "Z_bar 0.0\n",
      "Solution(status=optimal, opt_val=1.0, primal_vars={2224: array([-0., -0., 12.])}, dual_vars={}, attr={'solver_specific_stats': {'mip_gap': 0.0}})\n"
     ]
    }
   ],
   "source": [
    "# iteration 3\n",
    "a_new = np.array([0., 16., 12]).reshape(3, 1)\n",
    "newA = np.hstack([a_new, newA])\n",
    "print(newA)\n",
    "\n",
    "x = cp.Variable(5, nonneg=True)\n",
    "objective = cp.Minimize(cp.sum(x))\n",
    "\n",
    "b = np.array([150, 100, 80])\n",
    "c = np.array([1, 1, 1])\n",
    "\n",
    "constraints = [newA @ x==b, x>=0]\n",
    "\n",
    "prob = cp.Problem(objective, constraints)\n",
    "result = prob.solve()\n",
    "\n",
    "# print out the solution\n",
    "print(\"Optimal Values of X\", x.value)\n",
    "\n",
    "cols = [0, 1, 4]\n",
    "Basis_Matrix = newA[:, cols]\n",
    "\n",
    "# print Basis\n",
    "print(\"Basis:\", Basis_Matrix)\n",
    "print(\"B Inverse\", inv(Basis_Matrix))\n",
    "print(\"Optimal Dual Solution\", c.T @ inv(Basis_Matrix))\n",
    "\n",
    "# knapsac problem \n",
    "x = cp.Variable(3, integer=True)\n",
    "\n",
    "yt = c.T @ inv(Basis_Matrix)\n",
    "objective = cp.Maximize(yt.T @ x)\n",
    "\n",
    "A = np.array([[5, 0, 0],\n",
    "              [0, 12, 0],\n",
    "              [0, 0, 16]])\n",
    "\n",
    "b = np.array([200, 200, 200])\n",
    "constraints = [A @ x <=b, x>=0]\n",
    "\n",
    "prob = cp.Problem(objective, constraints)\n",
    "result = prob.solve()\n",
    "\n",
    "# print out the solution\n",
    "print(\"Optimal Values of X\", x.value)\n",
    "print(\"Z_bar\", 1-(yt.T@x.value))\n",
    "print(prob.solution)\n",
    "\n"
   ]
  },
  {
   "cell_type": "code",
   "execution_count": 98,
   "metadata": {},
   "outputs": [
    {
     "data": {
      "text/plain": [
       "array([[ 0., 40.,  0.],\n",
       "       [16., 16.,  0.],\n",
       "       [12., 12., 12.]])"
      ]
     },
     "execution_count": 98,
     "metadata": {},
     "output_type": "execute_result"
    }
   ],
   "source": [
    "Basis_Matrix"
   ]
  },
  {
   "cell_type": "code",
   "execution_count": 99,
   "metadata": {},
   "outputs": [
    {
     "data": {
      "text/plain": [
       "6.66666"
      ]
     },
     "execution_count": 99,
     "metadata": {},
     "output_type": "execute_result"
    }
   ],
   "source": [
    "2.5 + 3.75 + .41666"
   ]
  },
  {
   "cell_type": "code",
   "execution_count": 104,
   "metadata": {},
   "outputs": [
    {
     "name": "stdout",
     "output_type": "stream",
     "text": [
      "[[20  0]\n",
      " [ 1  1]]\n",
      "[[ 0.05 -0.  ]\n",
      " [-0.05  1.  ]]\n"
     ]
    }
   ],
   "source": [
    "B = np.array([[20, 0], [1, 1]])\n",
    "print(B)\n",
    "\n",
    "print(inv(B))"
   ]
  },
  {
   "cell_type": "code",
   "execution_count": 105,
   "metadata": {},
   "outputs": [
    {
     "name": "stdout",
     "output_type": "stream",
     "text": [
      "[ 0.5 20. ]\n",
      "[0.55 1.  ]\n"
     ]
    }
   ],
   "source": [
    "B_inv = inv(B)\n",
    "\n",
    "c = np.array([30, 20])\n",
    "c1 = np.array([12, 1])\n",
    "\n",
    "print(c @ B_inv)\n",
    "print(c1 @ B_inv)"
   ]
  },
  {
   "cell_type": "code",
   "execution_count": 106,
   "metadata": {},
   "outputs": [
    {
     "data": {
      "text/plain": [
       "(2,)"
      ]
     },
     "execution_count": 106,
     "metadata": {},
     "output_type": "execute_result"
    }
   ],
   "source": [
    "c1.shape"
   ]
  },
  {
   "cell_type": "code",
   "execution_count": 107,
   "metadata": {},
   "outputs": [
    {
     "data": {
      "text/plain": [
       "(2, 2)"
      ]
     },
     "execution_count": 107,
     "metadata": {},
     "output_type": "execute_result"
    }
   ],
   "source": [
    "B.shape"
   ]
  },
  {
   "cell_type": "code",
   "execution_count": 108,
   "metadata": {},
   "outputs": [
    {
     "data": {
      "text/plain": [
       "array([0.6, 0.4])"
      ]
     },
     "execution_count": 108,
     "metadata": {},
     "output_type": "execute_result"
    }
   ],
   "source": [
    "B_inv @ c1"
   ]
  },
  {
   "cell_type": "code",
   "execution_count": 2,
   "metadata": {},
   "outputs": [
    {
     "data": {
      "text/plain": [
       "(37104728, 10)"
      ]
     },
     "execution_count": 2,
     "metadata": {},
     "output_type": "execute_result"
    }
   ],
   "source": [
    "import pandas as pd\n",
    "\n",
    "p = r'C:\\Users\\jaman\\OneDrive\\CSE6242\\class_project\\liquidity_master.pkl'\n",
    "\n",
    "df = pd.read_pickle(p)\n",
    "\n",
    "df.shape\n"
   ]
  }
 ],
 "metadata": {
  "kernelspec": {
   "display_name": "base",
   "language": "python",
   "name": "python3"
  },
  "language_info": {
   "codemirror_mode": {
    "name": "ipython",
    "version": 3
   },
   "file_extension": ".py",
   "mimetype": "text/x-python",
   "name": "python",
   "nbconvert_exporter": "python",
   "pygments_lexer": "ipython3",
   "version": "3.11.5"
  }
 },
 "nbformat": 4,
 "nbformat_minor": 2
}
