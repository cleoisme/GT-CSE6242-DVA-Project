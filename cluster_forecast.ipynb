{
 "cells": [
  {
   "cell_type": "code",
   "execution_count": 97,
   "metadata": {},
   "outputs": [],
   "source": [
    "import pandas as pd\n",
    "import numpy as np\n",
    "from sklearn.ensemble import RandomForestRegressor\n",
    "from utils.ml_utils import *\n",
    "\n",
    "from sklearn.metrics import mean_squared_error\n",
    "from sklearn.model_selection import ParameterSampler\n",
    "from tqdm import tqdm\n",
    "\n",
    "from data_prep import load_features_data\n",
    "\n"
   ]
  },
  {
   "cell_type": "markdown",
   "metadata": {},
   "source": [
    "**Load the features data, these are popular trend following features used in prior literature**"
   ]
  },
  {
   "cell_type": "code",
   "execution_count": 98,
   "metadata": {},
   "outputs": [
    {
     "data": {
      "text/html": [
       "<div>\n",
       "<style scoped>\n",
       "    .dataframe tbody tr th:only-of-type {\n",
       "        vertical-align: middle;\n",
       "    }\n",
       "\n",
       "    .dataframe tbody tr th {\n",
       "        vertical-align: top;\n",
       "    }\n",
       "\n",
       "    .dataframe thead th {\n",
       "        text-align: right;\n",
       "    }\n",
       "</style>\n",
       "<table border=\"1\" class=\"dataframe\">\n",
       "  <thead>\n",
       "    <tr style=\"text-align: right;\">\n",
       "      <th></th>\n",
       "      <th></th>\n",
       "      <th>ret</th>\n",
       "      <th>rVol</th>\n",
       "      <th>1d_ret</th>\n",
       "      <th>1wk_ret</th>\n",
       "      <th>1m_ret</th>\n",
       "      <th>1Q_ret</th>\n",
       "      <th>6M_ret</th>\n",
       "      <th>12M_ret</th>\n",
       "      <th>feature_1d_ra</th>\n",
       "      <th>feature_1wk_ra</th>\n",
       "      <th>...</th>\n",
       "      <th>lag5_feature_MACD_short</th>\n",
       "      <th>lag5_feature_MACD_medium</th>\n",
       "      <th>lag5_feature_MACD_long</th>\n",
       "      <th>lag5_feature_skew6m</th>\n",
       "      <th>lag5_feature_skew12m</th>\n",
       "      <th>lag5_feature_kurt6m</th>\n",
       "      <th>lag5_feature_kurt12m</th>\n",
       "      <th>fwd_ret1d</th>\n",
       "      <th>target</th>\n",
       "      <th>targetBin</th>\n",
       "    </tr>\n",
       "    <tr>\n",
       "      <th>date</th>\n",
       "      <th>cluster</th>\n",
       "      <th></th>\n",
       "      <th></th>\n",
       "      <th></th>\n",
       "      <th></th>\n",
       "      <th></th>\n",
       "      <th></th>\n",
       "      <th></th>\n",
       "      <th></th>\n",
       "      <th></th>\n",
       "      <th></th>\n",
       "      <th></th>\n",
       "      <th></th>\n",
       "      <th></th>\n",
       "      <th></th>\n",
       "      <th></th>\n",
       "      <th></th>\n",
       "      <th></th>\n",
       "      <th></th>\n",
       "      <th></th>\n",
       "      <th></th>\n",
       "      <th></th>\n",
       "    </tr>\n",
       "  </thead>\n",
       "  <tbody>\n",
       "    <tr>\n",
       "      <th rowspan=\"5\" valign=\"top\">2024-03-15</th>\n",
       "      <th>15</th>\n",
       "      <td>0.052935</td>\n",
       "      <td>0.010646</td>\n",
       "      <td>-0.009848</td>\n",
       "      <td>-0.017287</td>\n",
       "      <td>0.002016</td>\n",
       "      <td>0.071679</td>\n",
       "      <td>0.201208</td>\n",
       "      <td>0.202884</td>\n",
       "      <td>-0.925114</td>\n",
       "      <td>-0.726237</td>\n",
       "      <td>...</td>\n",
       "      <td>0.118525</td>\n",
       "      <td>0.407592</td>\n",
       "      <td>0.856639</td>\n",
       "      <td>0.066425</td>\n",
       "      <td>0.395266</td>\n",
       "      <td>2.899242</td>\n",
       "      <td>4.029588</td>\n",
       "      <td>NaN</td>\n",
       "      <td>NaN</td>\n",
       "      <td>NaN</td>\n",
       "    </tr>\n",
       "    <tr>\n",
       "      <th>16</th>\n",
       "      <td>2.355712</td>\n",
       "      <td>0.010487</td>\n",
       "      <td>0.003585</td>\n",
       "      <td>0.054587</td>\n",
       "      <td>0.082955</td>\n",
       "      <td>0.095509</td>\n",
       "      <td>0.074083</td>\n",
       "      <td>0.173772</td>\n",
       "      <td>0.341819</td>\n",
       "      <td>2.327878</td>\n",
       "      <td>...</td>\n",
       "      <td>0.464299</td>\n",
       "      <td>0.561470</td>\n",
       "      <td>0.464375</td>\n",
       "      <td>0.051510</td>\n",
       "      <td>0.388949</td>\n",
       "      <td>2.898267</td>\n",
       "      <td>4.018791</td>\n",
       "      <td>NaN</td>\n",
       "      <td>NaN</td>\n",
       "      <td>NaN</td>\n",
       "    </tr>\n",
       "    <tr>\n",
       "      <th>17</th>\n",
       "      <td>6.049651</td>\n",
       "      <td>0.010363</td>\n",
       "      <td>0.005988</td>\n",
       "      <td>0.013662</td>\n",
       "      <td>0.008980</td>\n",
       "      <td>0.211590</td>\n",
       "      <td>0.529950</td>\n",
       "      <td>0.663190</td>\n",
       "      <td>0.577818</td>\n",
       "      <td>0.589546</td>\n",
       "      <td>...</td>\n",
       "      <td>0.115569</td>\n",
       "      <td>0.447172</td>\n",
       "      <td>0.922814</td>\n",
       "      <td>0.039734</td>\n",
       "      <td>0.385207</td>\n",
       "      <td>2.909077</td>\n",
       "      <td>4.015372</td>\n",
       "      <td>NaN</td>\n",
       "      <td>NaN</td>\n",
       "      <td>NaN</td>\n",
       "    </tr>\n",
       "    <tr>\n",
       "      <th>18</th>\n",
       "      <td>1.818130</td>\n",
       "      <td>0.010196</td>\n",
       "      <td>-0.001021</td>\n",
       "      <td>0.011817</td>\n",
       "      <td>0.038944</td>\n",
       "      <td>-0.010944</td>\n",
       "      <td>0.054041</td>\n",
       "      <td>0.345464</td>\n",
       "      <td>-0.100130</td>\n",
       "      <td>0.518333</td>\n",
       "      <td>...</td>\n",
       "      <td>-0.049638</td>\n",
       "      <td>-0.360213</td>\n",
       "      <td>-0.198844</td>\n",
       "      <td>0.021089</td>\n",
       "      <td>0.386226</td>\n",
       "      <td>2.867876</td>\n",
       "      <td>4.029249</td>\n",
       "      <td>NaN</td>\n",
       "      <td>NaN</td>\n",
       "      <td>NaN</td>\n",
       "    </tr>\n",
       "    <tr>\n",
       "      <th>19</th>\n",
       "      <td>1.014050</td>\n",
       "      <td>0.010568</td>\n",
       "      <td>-0.018105</td>\n",
       "      <td>-0.010729</td>\n",
       "      <td>0.088893</td>\n",
       "      <td>0.143403</td>\n",
       "      <td>-0.036800</td>\n",
       "      <td>-0.004099</td>\n",
       "      <td>-1.713252</td>\n",
       "      <td>-0.454027</td>\n",
       "      <td>...</td>\n",
       "      <td>0.627858</td>\n",
       "      <td>0.650850</td>\n",
       "      <td>0.180584</td>\n",
       "      <td>-0.006129</td>\n",
       "      <td>0.376940</td>\n",
       "      <td>2.834308</td>\n",
       "      <td>3.977828</td>\n",
       "      <td>NaN</td>\n",
       "      <td>NaN</td>\n",
       "      <td>NaN</td>\n",
       "    </tr>\n",
       "  </tbody>\n",
       "</table>\n",
       "<p>5 rows × 89 columns</p>\n",
       "</div>"
      ],
      "text/plain": [
       "                         ret      rVol    1d_ret   1wk_ret    1m_ret  \\\n",
       "date       cluster                                                     \n",
       "2024-03-15 15       0.052935  0.010646 -0.009848 -0.017287  0.002016   \n",
       "           16       2.355712  0.010487  0.003585  0.054587  0.082955   \n",
       "           17       6.049651  0.010363  0.005988  0.013662  0.008980   \n",
       "           18       1.818130  0.010196 -0.001021  0.011817  0.038944   \n",
       "           19       1.014050  0.010568 -0.018105 -0.010729  0.088893   \n",
       "\n",
       "                      1Q_ret    6M_ret   12M_ret  feature_1d_ra  \\\n",
       "date       cluster                                                \n",
       "2024-03-15 15       0.071679  0.201208  0.202884      -0.925114   \n",
       "           16       0.095509  0.074083  0.173772       0.341819   \n",
       "           17       0.211590  0.529950  0.663190       0.577818   \n",
       "           18      -0.010944  0.054041  0.345464      -0.100130   \n",
       "           19       0.143403 -0.036800 -0.004099      -1.713252   \n",
       "\n",
       "                    feature_1wk_ra  ...  lag5_feature_MACD_short  \\\n",
       "date       cluster                  ...                            \n",
       "2024-03-15 15            -0.726237  ...                 0.118525   \n",
       "           16             2.327878  ...                 0.464299   \n",
       "           17             0.589546  ...                 0.115569   \n",
       "           18             0.518333  ...                -0.049638   \n",
       "           19            -0.454027  ...                 0.627858   \n",
       "\n",
       "                    lag5_feature_MACD_medium  lag5_feature_MACD_long  \\\n",
       "date       cluster                                                     \n",
       "2024-03-15 15                       0.407592                0.856639   \n",
       "           16                       0.561470                0.464375   \n",
       "           17                       0.447172                0.922814   \n",
       "           18                      -0.360213               -0.198844   \n",
       "           19                       0.650850                0.180584   \n",
       "\n",
       "                    lag5_feature_skew6m  lag5_feature_skew12m  \\\n",
       "date       cluster                                              \n",
       "2024-03-15 15                  0.066425              0.395266   \n",
       "           16                  0.051510              0.388949   \n",
       "           17                  0.039734              0.385207   \n",
       "           18                  0.021089              0.386226   \n",
       "           19                 -0.006129              0.376940   \n",
       "\n",
       "                    lag5_feature_kurt6m  lag5_feature_kurt12m  fwd_ret1d  \\\n",
       "date       cluster                                                         \n",
       "2024-03-15 15                  2.899242              4.029588        NaN   \n",
       "           16                  2.898267              4.018791        NaN   \n",
       "           17                  2.909077              4.015372        NaN   \n",
       "           18                  2.867876              4.029249        NaN   \n",
       "           19                  2.834308              3.977828        NaN   \n",
       "\n",
       "                    target  targetBin  \n",
       "date       cluster                     \n",
       "2024-03-15 15          NaN        NaN  \n",
       "           16          NaN        NaN  \n",
       "           17          NaN        NaN  \n",
       "           18          NaN        NaN  \n",
       "           19          NaN        NaN  \n",
       "\n",
       "[5 rows x 89 columns]"
      ]
     },
     "execution_count": 98,
     "metadata": {},
     "output_type": "execute_result"
    }
   ],
   "source": [
    "feats = load_features_data()\n",
    "feats.tail()"
   ]
  },
  {
   "cell_type": "code",
   "execution_count": 99,
   "metadata": {},
   "outputs": [
    {
     "name": "stdout",
     "output_type": "stream",
     "text": [
      "count    122159.000000\n",
      "mean          0.021593\n",
      "std           1.174714\n",
      "min         -85.683531\n",
      "25%          -0.488733\n",
      "50%           0.016550\n",
      "75%           0.557727\n",
      "max          46.648605\n",
      "Name: target, dtype: float64\n"
     ]
    },
    {
     "data": {
      "image/png": "[encoded data removed]",
      "text/plain": [
       "<Figure size 640x480 with 1 Axes>"
      ]
     },
     "metadata": {},
     "output_type": "display_data"
    }
   ],
   "source": [
    "# distribution of tragets\n",
    "feats['target'].plot(kind='hist', bins=200)\n",
    "print(feats['target'].describe())"
   ]
  },
  {
   "cell_type": "markdown",
   "metadata": {},
   "source": [
    "**Extract the predictive features and target, which is one day forward risk adjusted return - drop na on this subset**"
   ]
  },
  {
   "cell_type": "code",
   "execution_count": 100,
   "metadata": {},
   "outputs": [
    {
     "name": "stdout",
     "output_type": "stream",
     "text": [
      "Shape of features (117040, 79)\n"
     ]
    }
   ],
   "source": [
    "features = [f for f in feats.columns if f.startswith(\"feature\")]\n",
    "lag_feats = [f for f in feats.columns if f.startswith(\"lag\")]\n",
    "target = [\"target\"]\n",
    "\n",
    "all_feats = features + target + lag_feats\n",
    "feats.dropna(subset=all_feats, inplace=True)\n",
    "feats = feats[all_feats]\n",
    "\n",
    "print(\"Shape of features\", feats.shape)"
   ]
  },
  {
   "cell_type": "markdown",
   "metadata": {},
   "source": [
    "**Break out X and y and set up cross-validation**"
   ]
  },
  {
   "cell_type": "code",
   "execution_count": 101,
   "metadata": {},
   "outputs": [],
   "source": [
    "X = feats[all_feats].copy()\n",
    "\n",
    "baseRF = RandomForestRegressor(max_depth=5, \n",
    "                               n_estimators=1000,\n",
    "                               max_features=int(1),\n",
    "                               n_jobs=-3)\n",
    "\n",
    "# simple-grid\n",
    "grid = {'n_estimators': np.arange(100, 1000, 100),\n",
    "        'max_depth': [3, 6, 9],\n",
    "        'max_features': [int(1), 'sqrt'],\n",
    "        'min_weight_fraction_leaf': np.arange(0.0, 0.05, 0.005)}\n",
    "\n",
    "params = ParameterSampler(n_iter=25, param_distributions=grid)\n"
   ]
  },
  {
   "cell_type": "markdown",
   "metadata": {},
   "source": [
    "**Form the training loop, here we train on 3 year expanding windows, using 90% of each split for training and 10% for tuning hyper-parameters, we then use the same model to forecast forward 3-years before re-training again.**"
   ]
  },
  {
   "cell_type": "code",
   "execution_count": 102,
   "metadata": {},
   "outputs": [
    {
     "name": "stderr",
     "output_type": "stream",
     "text": [
      "0it [00:00, ?it/s]"
     ]
    },
    {
     "name": "stdout",
     "output_type": "stream",
     "text": [
      "7\n",
      "(13626, 13) (1500, 13)\n",
      "Iter: 0: Score: 1.3356528959045066\n",
      "Iter: 1: Score: 1.3401901400480514\n",
      "Iter: 2: Score: 1.3371788110928007\n",
      "Iter: 3: Score: 1.3389459347784523\n",
      "Iter: 4: Score: 1.3367579902944304\n",
      "Iter: 5: Score: 1.3376106982769962\n",
      "Iter: 6: Score: 1.3373074892181627\n",
      "Iter: 7: Score: 1.336285657235613\n",
      "Iter: 8: Score: 1.3458355936637518\n",
      "Iter: 9: Score: 1.3559949414729318\n",
      "Iter: 10: Score: 1.33850237951508\n",
      "Iter: 11: Score: 1.338196317999299\n",
      "Iter: 12: Score: 1.3370494347640436\n",
      "Iter: 13: Score: 1.3356134868759562\n",
      "Iter: 14: Score: 1.3583102282146415\n",
      "Iter: 15: Score: 1.3378598375565913\n",
      "Iter: 16: Score: 1.3372478160806223\n",
      "Iter: 17: Score: 1.3398512040463495\n",
      "Iter: 18: Score: 1.3368598996490337\n",
      "Iter: 19: Score: 1.3389385704744354\n",
      "Iter: 20: Score: 1.3370059912740637\n",
      "Iter: 21: Score: 1.3385335469102853\n",
      "Iter: 22: Score: 1.337010334414161\n",
      "Iter: 23: Score: 1.336751303074715\n",
      "Iter: 24: Score: 1.3369021896196531\n",
      "{'n_estimators': 500, 'min_weight_fraction_leaf': 0.02, 'max_features': 1, 'max_depth': 3}\n"
     ]
    },
    {
     "name": "stderr",
     "output_type": "stream",
     "text": [
      "1it [00:26, 26.31s/it]"
     ]
    },
    {
     "name": "stdout",
     "output_type": "stream",
     "text": [
      "(27252, 13) (3020, 13)\n",
      "Iter: 0: Score: 1.443166955591281\n",
      "Iter: 1: Score: 1.443135663745645\n",
      "Iter: 2: Score: 1.4430257496705041\n",
      "Iter: 3: Score: 1.4429357513787489\n",
      "Iter: 4: Score: 1.4432797273842344\n",
      "Iter: 5: Score: 1.443443784542019\n",
      "Iter: 6: Score: 1.4427189572312147\n",
      "Iter: 7: Score: 1.442742070266363\n",
      "Iter: 8: Score: 1.4443338600791644\n",
      "Iter: 9: Score: 1.4443656681716421\n",
      "Iter: 10: Score: 1.4430486524153616\n",
      "Iter: 11: Score: 1.4447978508455577\n",
      "Iter: 12: Score: 1.44324412173748\n",
      "Iter: 13: Score: 1.4429513860807277\n",
      "Iter: 14: Score: 1.443007186737475\n",
      "Iter: 15: Score: 1.4452556656786661\n",
      "Iter: 16: Score: 1.444406881136853\n",
      "Iter: 17: Score: 1.4425686320719338\n",
      "Iter: 18: Score: 1.4432981902957898\n",
      "Iter: 19: Score: 1.443017977227201\n",
      "Iter: 20: Score: 1.4521314227695183\n",
      "Iter: 21: Score: 1.4432345707117273\n",
      "Iter: 22: Score: 1.4436007854720927\n",
      "Iter: 23: Score: 1.4428609436771076\n",
      "Iter: 24: Score: 1.4429042255360394\n",
      "{'n_estimators': 200, 'min_weight_fraction_leaf': 0.035, 'max_features': 1, 'max_depth': 9}\n"
     ]
    },
    {
     "name": "stderr",
     "output_type": "stream",
     "text": [
      "2it [00:57, 28.93s/it]"
     ]
    },
    {
     "name": "stdout",
     "output_type": "stream",
     "text": [
      "(40860, 13) (4540, 13)\n",
      "Iter: 0: Score: 1.3534552695372644\n",
      "Iter: 1: Score: 1.3533123589072389\n",
      "Iter: 2: Score: 1.3539029100713658\n",
      "Iter: 3: Score: 1.3538795579759086\n",
      "Iter: 4: Score: 1.3545620697753908\n",
      "Iter: 5: Score: 1.3542759376375701\n",
      "Iter: 6: Score: 1.3535185048969864\n",
      "Iter: 7: Score: 1.3537306686949326\n",
      "Iter: 8: Score: 1.3538955868893932\n",
      "Iter: 9: Score: 1.3543412457297528\n",
      "Iter: 10: Score: 1.3554144089753992\n",
      "Iter: 11: Score: 1.3543863098210618\n",
      "Iter: 12: Score: 1.3535907265662817\n",
      "Iter: 13: Score: 1.3549703626370526\n",
      "Iter: 14: Score: 1.3541242183536466\n",
      "Iter: 15: Score: 1.352555075400812\n",
      "Iter: 16: Score: 1.3547321669310577\n",
      "Iter: 17: Score: 1.3531614514674115\n",
      "Iter: 18: Score: 1.3550003457277233\n",
      "Iter: 19: Score: 1.3534103799042596\n",
      "Iter: 20: Score: 1.3535732581726108\n",
      "Iter: 21: Score: 1.3547199359907138\n",
      "Iter: 22: Score: 1.3529059557795846\n",
      "Iter: 23: Score: 1.3536664394394806\n",
      "Iter: 24: Score: 1.354804497228558\n",
      "{'n_estimators': 900, 'min_weight_fraction_leaf': 0.0, 'max_features': 1, 'max_depth': 3}\n"
     ]
    },
    {
     "name": "stderr",
     "output_type": "stream",
     "text": [
      "3it [02:03, 46.01s/it]"
     ]
    },
    {
     "name": "stdout",
     "output_type": "stream",
     "text": [
      "(54468, 13) (6040, 13)\n",
      "Iter: 0: Score: 1.3276127560489168\n",
      "Iter: 1: Score: 1.3274575075428505\n",
      "Iter: 2: Score: 1.3276104428780866\n",
      "Iter: 3: Score: 1.327684261574867\n",
      "Iter: 4: Score: 1.327769426188635\n",
      "Iter: 5: Score: 1.3280268037204894\n",
      "Iter: 6: Score: 1.3275900693331708\n",
      "Iter: 7: Score: 1.3276168127333483\n",
      "Iter: 8: Score: 1.3284332523135662\n",
      "Iter: 9: Score: 1.3279014248976493\n",
      "Iter: 10: Score: 1.3283451492879759\n",
      "Iter: 11: Score: 1.3278857020642745\n",
      "Iter: 12: Score: 1.3279337118591443\n",
      "Iter: 13: Score: 1.3280014790891497\n",
      "Iter: 14: Score: 1.328894542026481\n",
      "Iter: 15: Score: 1.327578810186692\n",
      "Iter: 16: Score: 1.3278220315415383\n",
      "Iter: 17: Score: 1.3275189624847614\n",
      "Iter: 18: Score: 1.3275546556538778\n",
      "Iter: 19: Score: 1.3283380820838249\n",
      "Iter: 20: Score: 1.3275948529405865\n",
      "Iter: 21: Score: 1.3286998151250542\n",
      "Iter: 22: Score: 1.3279834710953473\n",
      "Iter: 23: Score: 1.3305215227032807\n",
      "Iter: 24: Score: 1.3283020896734872\n",
      "{'n_estimators': 100, 'min_weight_fraction_leaf': 0.025, 'max_features': 1, 'max_depth': 3}\n"
     ]
    },
    {
     "name": "stderr",
     "output_type": "stream",
     "text": [
      "4it [02:55, 48.56s/it]"
     ]
    },
    {
     "name": "stdout",
     "output_type": "stream",
     "text": [
      "(68076, 13) (7560, 13)\n",
      "Iter: 0: Score: 1.3017837716660503\n",
      "Iter: 1: Score: 1.3019673199113386\n",
      "Iter: 2: Score: 1.301745518762805\n",
      "Iter: 3: Score: 1.3018178495604156\n",
      "Iter: 4: Score: 1.3016878853359068\n",
      "Iter: 5: Score: 1.301682654465436\n",
      "Iter: 6: Score: 1.3014745034345083\n",
      "Iter: 7: Score: 1.3018977980675244\n",
      "Iter: 8: Score: 1.302173135450865\n",
      "Iter: 9: Score: 1.3016118750520196\n",
      "Iter: 10: Score: 1.3018419661571912\n",
      "Iter: 11: Score: 1.301797814807748\n",
      "Iter: 12: Score: 1.3019384479764085\n",
      "Iter: 13: Score: 1.3024163249273226\n",
      "Iter: 14: Score: 1.3020239899320913\n",
      "Iter: 15: Score: 1.3021111257437687\n",
      "Iter: 16: Score: 1.301887406927072\n",
      "Iter: 17: Score: 1.301564963514542\n",
      "Iter: 18: Score: 1.3017604410848989\n",
      "Iter: 19: Score: 1.302140636852039\n",
      "Iter: 20: Score: 1.3018552215094248\n",
      "Iter: 21: Score: 1.3020143951660583\n",
      "Iter: 22: Score: 1.3015377499049459\n",
      "Iter: 23: Score: 1.3018361623777515\n",
      "Iter: 24: Score: 1.301866076355313\n",
      "{'n_estimators': 900, 'min_weight_fraction_leaf': 0.01, 'max_features': 1, 'max_depth': 6}\n"
     ]
    },
    {
     "name": "stderr",
     "output_type": "stream",
     "text": [
      "5it [04:26, 63.87s/it]"
     ]
    },
    {
     "name": "stdout",
     "output_type": "stream",
     "text": [
      "(81684, 13) (9060, 13)\n",
      "Iter: 0: Score: 1.342386628658598\n",
      "Iter: 1: Score: 1.34236187586943\n",
      "Iter: 2: Score: 1.3422576934813617\n",
      "Iter: 3: Score: 1.342208518418052\n",
      "Iter: 4: Score: 1.3424756091929484\n",
      "Iter: 5: Score: 1.342137853864526\n",
      "Iter: 6: Score: 1.3423660420633874\n",
      "Iter: 7: Score: 1.342164810636625\n",
      "Iter: 8: Score: 1.3421098621953629\n",
      "Iter: 9: Score: 1.3425112490862112\n",
      "Iter: 10: Score: 1.3421963792214546\n",
      "Iter: 11: Score: 1.342312395368139\n",
      "Iter: 12: Score: 1.3422430923158217\n",
      "Iter: 13: Score: 1.3420864976795548\n",
      "Iter: 14: Score: 1.3429087878098387\n",
      "Iter: 15: Score: 1.3426168006437729\n",
      "Iter: 16: Score: 1.342590316608547\n",
      "Iter: 17: Score: 1.3423643323675474\n",
      "Iter: 18: Score: 1.342638965099545\n",
      "Iter: 19: Score: 1.342016135595417\n",
      "Iter: 20: Score: 1.3419812424028241\n",
      "Iter: 21: Score: 1.3423956338558585\n",
      "Iter: 22: Score: 1.3428645104237358\n",
      "Iter: 23: Score: 1.342137233210277\n",
      "Iter: 24: Score: 1.3425615412225493\n",
      "{'n_estimators': 100, 'min_weight_fraction_leaf': 0.01, 'max_features': 1, 'max_depth': 9}\n"
     ]
    },
    {
     "name": "stderr",
     "output_type": "stream",
     "text": [
      "6it [06:04, 75.28s/it]"
     ]
    },
    {
     "name": "stdout",
     "output_type": "stream",
     "text": [
      "(95292, 13) (10580, 13)\n",
      "Iter: 0: Score: 1.3069945277826296\n",
      "Iter: 1: Score: 1.3061359008253777\n",
      "Iter: 2: Score: 1.3061043841644935\n",
      "Iter: 3: Score: 1.3055894033680937\n",
      "Iter: 4: Score: 1.3061673601155108\n",
      "Iter: 5: Score: 1.305979426707834\n",
      "Iter: 6: Score: 1.3060753734246262\n",
      "Iter: 7: Score: 1.3069734227520668\n",
      "Iter: 8: Score: 1.305747320467595\n",
      "Iter: 9: Score: 1.3085543637231256\n",
      "Iter: 10: Score: 1.3062714378667224\n",
      "Iter: 11: Score: 1.3055943418043996\n",
      "Iter: 12: Score: 1.3056292745348443\n",
      "Iter: 13: Score: 1.3055792107164044\n",
      "Iter: 14: Score: 1.3057645568053475\n",
      "Iter: 15: Score: 1.3055777283662906\n",
      "Iter: 16: Score: 1.3055026262752758\n",
      "Iter: 17: Score: 1.3058814185812682\n",
      "Iter: 18: Score: 1.305874958588814\n",
      "Iter: 19: Score: 1.3055662317286598\n",
      "Iter: 20: Score: 1.3060562641281575\n",
      "Iter: 21: Score: 1.3056873159623796\n",
      "Iter: 22: Score: 1.3056109728516085\n",
      "Iter: 23: Score: 1.3083791715270918\n",
      "Iter: 24: Score: 1.3055857813595724\n",
      "{'n_estimators': 300, 'min_weight_fraction_leaf': 0.02, 'max_features': 'sqrt', 'max_depth': 3}\n"
     ]
    },
    {
     "name": "stderr",
     "output_type": "stream",
     "text": [
      "7it [08:22, 71.85s/it]\n"
     ]
    }
   ],
   "source": [
    "predictions = []\n",
    "scores = []\n",
    "for train, test in tqdm(get_cv_splits(X, split_length=252*3)):\n",
    "    # break out X and y train, test\n",
    "    X_train, y_train = train[features], train[target] \n",
    "    X_test, y_test = test[features], test[target]\n",
    "\n",
    "    # hyper-param loop\n",
    "    X_train2, X_val, y_train2, y_val = train_val_split(X_train, y_train)\n",
    "    print(X_train2.shape, X_val.shape)\n",
    "\n",
    "    # inner loop for parameter tuning\n",
    "    gscv_scores = {'scores': [], 'grid':[]}\n",
    "    for k, p in enumerate(params):\n",
    "        model = RandomForestRegressor(**p)\n",
    "        model.n_jobs=-1\n",
    "        model.fit(X_train2, y_train2.values.reshape(y_train2.shape[0], ))\n",
    "        _pred = model.predict(X_val)\n",
    "        _score = mean_squared_error(y_val, _pred)\n",
    "        gscv_scores['scores'].append(_score)\n",
    "        gscv_scores['grid'].append(p)\n",
    "        print(f'Iter: {k}: Score: {_score}')\n",
    "\n",
    "    # now fit the best model\n",
    "    best_model = pd.DataFrame(gscv_scores).sort_values(by='scores').head(1)['grid'].values[0]\n",
    "    print(best_model)\n",
    "    best_model = RandomForestRegressor(**best_model)\n",
    "    best_model.n_jobs=-1\n",
    "    best_model.fit(X_train, y_train.values.reshape(y_train.shape[0], ))\n",
    "    preds = best_model.predict(X_test)\n",
    "\n",
    "    # append the predictions\n",
    "    predictions.append(pd.Series(index=y_test.index, data=preds))\n",
    "\n",
    "    # score\n",
    "    scores.append(mean_squared_error(y_test, preds))\n",
    "\n",
    "# predictions\n",
    "predictions = pd.concat(predictions).to_frame(\"predictions\")"
   ]
  },
  {
   "cell_type": "markdown",
   "metadata": {},
   "source": [
    "**Check distribution of the targets**"
   ]
  },
  {
   "cell_type": "code",
   "execution_count": 103,
   "metadata": {},
   "outputs": [
    {
     "data": {
      "text/plain": [
       "<Axes: title={'center': 'distribution of predictions'}, ylabel='Frequency'>"
      ]
     },
     "execution_count": 103,
     "metadata": {},
     "output_type": "execute_result"
    },
    {
     "data": {
      "image/png": "[encoded data removed]",
      "text/plain": [
       "<Figure size 640x480 with 1 Axes>"
      ]
     },
     "metadata": {},
     "output_type": "display_data"
    }
   ],
   "source": [
    "# we can see predictions go negative at about the 25% percentile , market mainly goes up\n",
    "predictions.plot(kind='hist', bins=1000, title=\"distribution of predictions\")"
   ]
  },
  {
   "cell_type": "markdown",
   "metadata": {},
   "source": [
    "**Join in predictions with the original dataset which has the cluster returns**"
   ]
  },
  {
   "cell_type": "code",
   "execution_count": 104,
   "metadata": {},
   "outputs": [],
   "source": [
    "# bring in the data\n",
    "data = load_features_data()\n",
    "\n",
    "# join in predictions\n",
    "predictions = predictions.merge(data, how=\"left\", left_index=True, right_index=True)\n",
    "predictions.sort_index(inplace=True)"
   ]
  },
  {
   "cell_type": "markdown",
   "metadata": {},
   "source": [
    "**On each day divide the predictions into quartiles and compute the mean return, the top quartile should be the highest predicted cluster returns**"
   ]
  },
  {
   "cell_type": "code",
   "execution_count": 111,
   "metadata": {},
   "outputs": [],
   "source": [
    "predictions['signalQ'] = predictions.groupby(by='date')['predictions'].apply(lambda x: pd.qcut(x, 4, labels=False)).droplevel(0)\n",
    "\n",
    "# shift signal back by one day\n",
    "predictions['signalQ'] = predictions.groupby(by='cluster')['signalQ'].shift(1)\n",
    "rets = predictions.groupby(by=['date', 'signalQ'])['1d_ret'].mean().unstack()"
   ]
  },
  {
   "cell_type": "markdown",
   "metadata": {},
   "source": [
    "**Group by signalQ shifted back by one day and then compute the average return, unstack to get time series of mean cluster returns by signal quartile. Compute portfolio returns with the utils function**"
   ]
  },
  {
   "cell_type": "code",
   "execution_count": 116,
   "metadata": {},
   "outputs": [
    {
     "data": {
      "text/html": [
       "<div>\n",
       "<style scoped>\n",
       "    .dataframe tbody tr th:only-of-type {\n",
       "        vertical-align: middle;\n",
       "    }\n",
       "\n",
       "    .dataframe tbody tr th {\n",
       "        vertical-align: top;\n",
       "    }\n",
       "\n",
       "    .dataframe thead th {\n",
       "        text-align: right;\n",
       "    }\n",
       "</style>\n",
       "<table border=\"1\" class=\"dataframe\">\n",
       "  <thead>\n",
       "    <tr style=\"text-align: right;\">\n",
       "      <th></th>\n",
       "      <th>Annual_Return</th>\n",
       "      <th>Annual_Volatility</th>\n",
       "      <th>DD</th>\n",
       "      <th>MDD</th>\n",
       "      <th>Sharpe</th>\n",
       "      <th>Sortino</th>\n",
       "      <th>Calmar</th>\n",
       "      <th>ppct_postive_rets</th>\n",
       "    </tr>\n",
       "  </thead>\n",
       "  <tbody>\n",
       "    <tr>\n",
       "      <th>Q_0.0</th>\n",
       "      <td>0.069851</td>\n",
       "      <td>0.198497</td>\n",
       "      <td>0.139595</td>\n",
       "      <td>-0.660061</td>\n",
       "      <td>0.439405</td>\n",
       "      <td>0.624812</td>\n",
       "      <td>0.105824</td>\n",
       "      <td>0.532429</td>\n",
       "    </tr>\n",
       "    <tr>\n",
       "      <th>Q_1.0</th>\n",
       "      <td>0.008674</td>\n",
       "      <td>0.19951</td>\n",
       "      <td>0.142891</td>\n",
       "      <td>-0.579064</td>\n",
       "      <td>0.143155</td>\n",
       "      <td>0.199878</td>\n",
       "      <td>0.014979</td>\n",
       "      <td>0.527909</td>\n",
       "    </tr>\n",
       "    <tr>\n",
       "      <th>Q_2.0</th>\n",
       "      <td>0.046314</td>\n",
       "      <td>0.194926</td>\n",
       "      <td>0.140645</td>\n",
       "      <td>-0.597813</td>\n",
       "      <td>0.330084</td>\n",
       "      <td>0.457478</td>\n",
       "      <td>0.077472</td>\n",
       "      <td>0.532036</td>\n",
       "    </tr>\n",
       "    <tr>\n",
       "      <th>Q_3.0</th>\n",
       "      <td>0.074975</td>\n",
       "      <td>0.198824</td>\n",
       "      <td>0.143645</td>\n",
       "      <td>-0.456603</td>\n",
       "      <td>0.463468</td>\n",
       "      <td>0.6415</td>\n",
       "      <td>0.164201</td>\n",
       "      <td>0.537146</td>\n",
       "    </tr>\n",
       "    <tr>\n",
       "      <th>Q_4.0</th>\n",
       "      <td>0.048314</td>\n",
       "      <td>0.195842</td>\n",
       "      <td>0.141057</td>\n",
       "      <td>-0.533761</td>\n",
       "      <td>0.339214</td>\n",
       "      <td>0.470962</td>\n",
       "      <td>0.090516</td>\n",
       "      <td>0.535574</td>\n",
       "    </tr>\n",
       "  </tbody>\n",
       "</table>\n",
       "</div>"
      ],
      "text/plain": [
       "      Annual_Return Annual_Volatility        DD       MDD    Sharpe   Sortino  \\\n",
       "Q_0.0      0.069851          0.198497  0.139595 -0.660061  0.439405  0.624812   \n",
       "Q_1.0      0.008674           0.19951  0.142891 -0.579064  0.143155  0.199878   \n",
       "Q_2.0      0.046314          0.194926  0.140645 -0.597813  0.330084  0.457478   \n",
       "Q_3.0      0.074975          0.198824  0.143645 -0.456603  0.463468    0.6415   \n",
       "Q_4.0      0.048314          0.195842  0.141057 -0.533761  0.339214  0.470962   \n",
       "\n",
       "         Calmar ppct_postive_rets  \n",
       "Q_0.0  0.105824          0.532429  \n",
       "Q_1.0  0.014979          0.527909  \n",
       "Q_2.0  0.077472          0.532036  \n",
       "Q_3.0  0.164201          0.537146  \n",
       "Q_4.0  0.090516          0.535574  "
      ]
     },
     "execution_count": 116,
     "metadata": {},
     "output_type": "execute_result"
    }
   ],
   "source": [
    "rets = predictions.groupby(by=['date', 'signalQ'])['1d_ret'].mean().unstack()\n",
    "rets.rename(columns={col: f'Q_{col}' for col in rets.columns}, inplace=True)\n",
    "\n",
    "get_returns_breakout(rets)"
   ]
  },
  {
   "cell_type": "code",
   "execution_count": 117,
   "metadata": {},
   "outputs": [
    {
     "data": {
      "text/plain": [
       "<Axes: title={'center': 'Cumulative Strategy Returns'}, xlabel='date'>"
      ]
     },
     "execution_count": 117,
     "metadata": {},
     "output_type": "execute_result"
    },
    {
     "data": {
      "image/png": "[encoded data removed]",
      "text/plain": [
       "<Figure size 640x480 with 1 Axes>"
      ]
     },
     "metadata": {},
     "output_type": "display_data"
    }
   ],
   "source": [
    "# plot the returns\n",
    "(1 + rets).cumprod().plot(title=\"Cumulative Strategy Returns\")"
   ]
  }
 ],
 "metadata": {
  "kernelspec": {
   "display_name": "base",
   "language": "python",
   "name": "python3"
  },
  "language_info": {
   "codemirror_mode": {
    "name": "ipython",
    "version": 3
   },
   "file_extension": ".py",
   "mimetype": "text/x-python",
   "name": "python",
   "nbconvert_exporter": "python",
   "pygments_lexer": "ipython3",
   "version": "3.11.5"
  }
 },
 "nbformat": 4,
 "nbformat_minor": 2
}
