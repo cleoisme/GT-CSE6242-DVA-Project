{
 "cells": [
  {
   "cell_type": "code",
   "execution_count": 5,
   "metadata": {},
   "outputs": [],
   "source": [
    "import pandas as pd\n",
    "import numpy as np\n",
    "from sklearn.ensemble import RandomForestRegressor\n",
    "from utils.ml_utils import *\n",
    "\n",
    "from sklearn.metrics import mean_squared_error\n",
    "from sklearn.model_selection import ParameterSampler\n",
    "from tqdm import tqdm\n",
    "\n",
    "from data_prep import load_features_data\n",
    "\n"
   ]
  },
  {
   "cell_type": "markdown",
   "metadata": {},
   "source": [
    "**Load the features data, these are popular trend following features used in prior literature, this notebook assumes you have the pickle file residual_returns.pkl saved in the root directory, you can download this file from the OneDrive**"
   ]
  },
  {
   "cell_type": "code",
   "execution_count": 6,
   "metadata": {},
   "outputs": [
    {
     "data": {
      "text/html": [
       "<div>\n",
       "<style scoped>\n",
       "    .dataframe tbody tr th:only-of-type {\n",
       "        vertical-align: middle;\n",
       "    }\n",
       "\n",
       "    .dataframe tbody tr th {\n",
       "        vertical-align: top;\n",
       "    }\n",
       "\n",
       "    .dataframe thead th {\n",
       "        text-align: right;\n",
       "    }\n",
       "</style>\n",
       "<table border=\"1\" class=\"dataframe\">\n",
       "  <thead>\n",
       "    <tr style=\"text-align: right;\">\n",
       "      <th></th>\n",
       "      <th></th>\n",
       "      <th>ret</th>\n",
       "      <th>rVol</th>\n",
       "      <th>1d_ret</th>\n",
       "      <th>1wk_ret</th>\n",
       "      <th>1m_ret</th>\n",
       "      <th>1Q_ret</th>\n",
       "      <th>6M_ret</th>\n",
       "      <th>12M_ret</th>\n",
       "      <th>feature_1d_ra</th>\n",
       "      <th>feature_1wk_ra</th>\n",
       "      <th>...</th>\n",
       "      <th>lag5_feature_MACD_short</th>\n",
       "      <th>lag5_feature_MACD_medium</th>\n",
       "      <th>lag5_feature_MACD_long</th>\n",
       "      <th>lag5_feature_skew6m</th>\n",
       "      <th>lag5_feature_skew12m</th>\n",
       "      <th>lag5_feature_kurt6m</th>\n",
       "      <th>lag5_feature_kurt12m</th>\n",
       "      <th>fwd_ret1d</th>\n",
       "      <th>target</th>\n",
       "      <th>targetBin</th>\n",
       "    </tr>\n",
       "    <tr>\n",
       "      <th>date</th>\n",
       "      <th>cluster</th>\n",
       "      <th></th>\n",
       "      <th></th>\n",
       "      <th></th>\n",
       "      <th></th>\n",
       "      <th></th>\n",
       "      <th></th>\n",
       "      <th></th>\n",
       "      <th></th>\n",
       "      <th></th>\n",
       "      <th></th>\n",
       "      <th></th>\n",
       "      <th></th>\n",
       "      <th></th>\n",
       "      <th></th>\n",
       "      <th></th>\n",
       "      <th></th>\n",
       "      <th></th>\n",
       "      <th></th>\n",
       "      <th></th>\n",
       "      <th></th>\n",
       "      <th></th>\n",
       "    </tr>\n",
       "  </thead>\n",
       "  <tbody>\n",
       "    <tr>\n",
       "      <th rowspan=\"5\" valign=\"top\">2024-03-15</th>\n",
       "      <th>25</th>\n",
       "      <td>4.383299</td>\n",
       "      <td>0.012166</td>\n",
       "      <td>-0.017495</td>\n",
       "      <td>-0.027395</td>\n",
       "      <td>-0.000720</td>\n",
       "      <td>0.102992</td>\n",
       "      <td>0.072872</td>\n",
       "      <td>0.146811</td>\n",
       "      <td>-1.438042</td>\n",
       "      <td>-1.007008</td>\n",
       "      <td>...</td>\n",
       "      <td>0.398363</td>\n",
       "      <td>0.585645</td>\n",
       "      <td>0.664800</td>\n",
       "      <td>-0.222085</td>\n",
       "      <td>0.386809</td>\n",
       "      <td>0.580919</td>\n",
       "      <td>2.809109</td>\n",
       "      <td>NaN</td>\n",
       "      <td>NaN</td>\n",
       "      <td>NaN</td>\n",
       "    </tr>\n",
       "    <tr>\n",
       "      <th>26</th>\n",
       "      <td>2.462165</td>\n",
       "      <td>0.012035</td>\n",
       "      <td>-0.001765</td>\n",
       "      <td>0.009387</td>\n",
       "      <td>0.015050</td>\n",
       "      <td>-0.022086</td>\n",
       "      <td>0.025308</td>\n",
       "      <td>-0.005369</td>\n",
       "      <td>-0.146644</td>\n",
       "      <td>0.348834</td>\n",
       "      <td>...</td>\n",
       "      <td>-0.199871</td>\n",
       "      <td>-0.179508</td>\n",
       "      <td>0.128255</td>\n",
       "      <td>-0.217538</td>\n",
       "      <td>0.392190</td>\n",
       "      <td>0.566987</td>\n",
       "      <td>2.789701</td>\n",
       "      <td>NaN</td>\n",
       "      <td>NaN</td>\n",
       "      <td>NaN</td>\n",
       "    </tr>\n",
       "    <tr>\n",
       "      <th>27</th>\n",
       "      <td>2.082460</td>\n",
       "      <td>0.012796</td>\n",
       "      <td>-0.035808</td>\n",
       "      <td>-0.060372</td>\n",
       "      <td>-0.092488</td>\n",
       "      <td>-0.037253</td>\n",
       "      <td>0.112426</td>\n",
       "      <td>0.139470</td>\n",
       "      <td>-2.798448</td>\n",
       "      <td>-2.110060</td>\n",
       "      <td>...</td>\n",
       "      <td>-0.032563</td>\n",
       "      <td>0.246765</td>\n",
       "      <td>0.754907</td>\n",
       "      <td>-0.231616</td>\n",
       "      <td>0.380269</td>\n",
       "      <td>0.525654</td>\n",
       "      <td>2.751046</td>\n",
       "      <td>NaN</td>\n",
       "      <td>NaN</td>\n",
       "      <td>NaN</td>\n",
       "    </tr>\n",
       "    <tr>\n",
       "      <th>28</th>\n",
       "      <td>10.425301</td>\n",
       "      <td>0.012590</td>\n",
       "      <td>-0.011795</td>\n",
       "      <td>0.038502</td>\n",
       "      <td>0.142882</td>\n",
       "      <td>0.110394</td>\n",
       "      <td>0.209679</td>\n",
       "      <td>0.370151</td>\n",
       "      <td>-0.936814</td>\n",
       "      <td>1.367633</td>\n",
       "      <td>...</td>\n",
       "      <td>0.523603</td>\n",
       "      <td>0.554301</td>\n",
       "      <td>0.698447</td>\n",
       "      <td>-0.231386</td>\n",
       "      <td>0.365261</td>\n",
       "      <td>0.518548</td>\n",
       "      <td>2.752472</td>\n",
       "      <td>NaN</td>\n",
       "      <td>NaN</td>\n",
       "      <td>NaN</td>\n",
       "    </tr>\n",
       "    <tr>\n",
       "      <th>29</th>\n",
       "      <td>1.745186</td>\n",
       "      <td>0.012396</td>\n",
       "      <td>-0.012951</td>\n",
       "      <td>-0.018736</td>\n",
       "      <td>0.068956</td>\n",
       "      <td>0.007108</td>\n",
       "      <td>-0.013731</td>\n",
       "      <td>-0.046507</td>\n",
       "      <td>-1.044764</td>\n",
       "      <td>-0.675943</td>\n",
       "      <td>...</td>\n",
       "      <td>0.626469</td>\n",
       "      <td>0.518373</td>\n",
       "      <td>0.183227</td>\n",
       "      <td>-0.230371</td>\n",
       "      <td>0.372743</td>\n",
       "      <td>0.519866</td>\n",
       "      <td>2.848368</td>\n",
       "      <td>NaN</td>\n",
       "      <td>NaN</td>\n",
       "      <td>NaN</td>\n",
       "    </tr>\n",
       "  </tbody>\n",
       "</table>\n",
       "<p>5 rows × 89 columns</p>\n",
       "</div>"
      ],
      "text/plain": [
       "                          ret      rVol    1d_ret   1wk_ret    1m_ret  \\\n",
       "date       cluster                                                      \n",
       "2024-03-15 25        4.383299  0.012166 -0.017495 -0.027395 -0.000720   \n",
       "           26        2.462165  0.012035 -0.001765  0.009387  0.015050   \n",
       "           27        2.082460  0.012796 -0.035808 -0.060372 -0.092488   \n",
       "           28       10.425301  0.012590 -0.011795  0.038502  0.142882   \n",
       "           29        1.745186  0.012396 -0.012951 -0.018736  0.068956   \n",
       "\n",
       "                      1Q_ret    6M_ret   12M_ret  feature_1d_ra  \\\n",
       "date       cluster                                                \n",
       "2024-03-15 25       0.102992  0.072872  0.146811      -1.438042   \n",
       "           26      -0.022086  0.025308 -0.005369      -0.146644   \n",
       "           27      -0.037253  0.112426  0.139470      -2.798448   \n",
       "           28       0.110394  0.209679  0.370151      -0.936814   \n",
       "           29       0.007108 -0.013731 -0.046507      -1.044764   \n",
       "\n",
       "                    feature_1wk_ra  ...  lag5_feature_MACD_short  \\\n",
       "date       cluster                  ...                            \n",
       "2024-03-15 25            -1.007008  ...                 0.398363   \n",
       "           26             0.348834  ...                -0.199871   \n",
       "           27            -2.110060  ...                -0.032563   \n",
       "           28             1.367633  ...                 0.523603   \n",
       "           29            -0.675943  ...                 0.626469   \n",
       "\n",
       "                    lag5_feature_MACD_medium  lag5_feature_MACD_long  \\\n",
       "date       cluster                                                     \n",
       "2024-03-15 25                       0.585645                0.664800   \n",
       "           26                      -0.179508                0.128255   \n",
       "           27                       0.246765                0.754907   \n",
       "           28                       0.554301                0.698447   \n",
       "           29                       0.518373                0.183227   \n",
       "\n",
       "                    lag5_feature_skew6m  lag5_feature_skew12m  \\\n",
       "date       cluster                                              \n",
       "2024-03-15 25                 -0.222085              0.386809   \n",
       "           26                 -0.217538              0.392190   \n",
       "           27                 -0.231616              0.380269   \n",
       "           28                 -0.231386              0.365261   \n",
       "           29                 -0.230371              0.372743   \n",
       "\n",
       "                    lag5_feature_kurt6m  lag5_feature_kurt12m  fwd_ret1d  \\\n",
       "date       cluster                                                         \n",
       "2024-03-15 25                  0.580919              2.809109        NaN   \n",
       "           26                  0.566987              2.789701        NaN   \n",
       "           27                  0.525654              2.751046        NaN   \n",
       "           28                  0.518548              2.752472        NaN   \n",
       "           29                  0.519866              2.848368        NaN   \n",
       "\n",
       "                    target  targetBin  \n",
       "date       cluster                     \n",
       "2024-03-15 25          NaN        NaN  \n",
       "           26          NaN        NaN  \n",
       "           27          NaN        NaN  \n",
       "           28          NaN        NaN  \n",
       "           29          NaN        NaN  \n",
       "\n",
       "[5 rows x 89 columns]"
      ]
     },
     "execution_count": 6,
     "metadata": {},
     "output_type": "execute_result"
    }
   ],
   "source": [
    "feats = load_features_data()\n",
    "feats.tail()"
   ]
  },
  {
   "cell_type": "code",
   "execution_count": 7,
   "metadata": {},
   "outputs": [
    {
     "name": "stdout",
     "output_type": "stream",
     "text": [
      "count    174209.000000\n",
      "mean          0.031924\n",
      "std           1.285065\n",
      "min         -19.381877\n",
      "25%          -0.646536\n",
      "50%           0.065431\n",
      "75%           0.736927\n",
      "max          16.556220\n",
      "Name: target, dtype: float64\n"
     ]
    },
    {
     "data": {
      "image/png": "[encoded data removed]",
      "text/plain": [
       "<Figure size 640x480 with 1 Axes>"
      ]
     },
     "metadata": {},
     "output_type": "display_data"
    }
   ],
   "source": [
    "# distribution of tragets\n",
    "feats['target'].plot(kind='hist', bins=200)\n",
    "print(feats['target'].describe())"
   ]
  },
  {
   "cell_type": "markdown",
   "metadata": {},
   "source": [
    "**Extract the predictive features and target, which is one day forward risk adjusted return - drop na on this subset**"
   ]
  },
  {
   "cell_type": "code",
   "execution_count": 8,
   "metadata": {},
   "outputs": [
    {
     "name": "stdout",
     "output_type": "stream",
     "text": [
      "Shape of features (166530, 79)\n"
     ]
    }
   ],
   "source": [
    "features = [f for f in feats.columns if f.startswith(\"feature\")]\n",
    "lag_feats = [f for f in feats.columns if f.startswith(\"lag\")]\n",
    "target = [\"target\"]\n",
    "\n",
    "all_feats = features + target + lag_feats\n",
    "feats.dropna(subset=all_feats, inplace=True)\n",
    "feats = feats[all_feats]\n",
    "\n",
    "print(\"Shape of features\", feats.shape)"
   ]
  },
  {
   "cell_type": "markdown",
   "metadata": {},
   "source": [
    "**Break out X and y and set up cross-validation**"
   ]
  },
  {
   "cell_type": "code",
   "execution_count": 9,
   "metadata": {},
   "outputs": [],
   "source": [
    "X = feats[all_feats].copy()\n",
    "\n",
    "baseRF = RandomForestRegressor(max_depth=5, \n",
    "                               n_estimators=1000,\n",
    "                               max_features=int(1),\n",
    "                               n_jobs=-3)\n",
    "\n",
    "# simple-grid\n",
    "grid = {'n_estimators': np.arange(100, 1000, 100),\n",
    "        'max_depth': [3, 6, 9],\n",
    "        'max_features': [int(1), 'sqrt'],\n",
    "        'min_weight_fraction_leaf': np.arange(0.0, 0.05, 0.005)}\n",
    "\n",
    "params = ParameterSampler(n_iter=25, param_distributions=grid)\n"
   ]
  },
  {
   "cell_type": "markdown",
   "metadata": {},
   "source": [
    "**Form the training loop, here we train on 3 year expanding windows, using 90% of each split for training and 10% for tuning hyper-parameters, we then use the same model to forecast forward 3-years before re-training again.**"
   ]
  },
  {
   "cell_type": "code",
   "execution_count": 10,
   "metadata": {},
   "outputs": [
    {
     "name": "stderr",
     "output_type": "stream",
     "text": [
      "0it [00:00, ?it/s]"
     ]
    },
    {
     "name": "stdout",
     "output_type": "stream",
     "text": [
      "7\n",
      "(20439, 13) (2250, 13)\n",
      "Iter: 0: Score: 1.7067157112381892\n",
      "Iter: 1: Score: 1.7001888094586748\n",
      "Iter: 2: Score: 1.7024882782691417\n",
      "Iter: 3: Score: 1.6875429001865059\n",
      "Iter: 4: Score: 1.6930363399000479\n",
      "Iter: 5: Score: 1.6884935717157101\n",
      "Iter: 6: Score: 1.6966927200343656\n",
      "Iter: 7: Score: 1.6937055344681218\n",
      "Iter: 8: Score: 1.7025817513903632\n",
      "Iter: 9: Score: 1.7000895301525905\n",
      "Iter: 10: Score: 1.6995339614906761\n",
      "Iter: 11: Score: 1.7075038212379787\n",
      "Iter: 12: Score: 1.6920407688560644\n",
      "Iter: 13: Score: 1.6879745536832835\n",
      "Iter: 14: Score: 1.6984418598868478\n",
      "Iter: 15: Score: 1.6878369425854578\n",
      "Iter: 16: Score: 1.6923948317271396\n",
      "Iter: 17: Score: 1.7031827168942404\n",
      "Iter: 18: Score: 1.6918315449044035\n",
      "Iter: 19: Score: 1.6928070880251544\n",
      "Iter: 20: Score: 1.6904084363778822\n",
      "Iter: 21: Score: 1.6932143050557544\n",
      "Iter: 22: Score: 1.691467818722068\n",
      "Iter: 23: Score: 1.7021555574526945\n",
      "Iter: 24: Score: 1.6868596079246454\n",
      "{'n_estimators': 500, 'min_weight_fraction_leaf': 0.035, 'max_features': 1, 'max_depth': 3}\n"
     ]
    },
    {
     "name": "stderr",
     "output_type": "stream",
     "text": [
      "1it [00:31, 31.13s/it]"
     ]
    },
    {
     "name": "stdout",
     "output_type": "stream",
     "text": [
      "(40878, 13) (4530, 13)\n",
      "Iter: 0: Score: 1.8456231631408926\n",
      "Iter: 1: Score: 1.849824248519922\n",
      "Iter: 2: Score: 1.8447408574121438\n",
      "Iter: 3: Score: 1.845967121894612\n",
      "Iter: 4: Score: 1.844202125456274\n",
      "Iter: 5: Score: 1.8500072031115002\n",
      "Iter: 6: Score: 1.8489057020037432\n",
      "Iter: 7: Score: 1.8546326555497674\n",
      "Iter: 8: Score: 1.847055903149726\n",
      "Iter: 9: Score: 1.8456269054813872\n",
      "Iter: 10: Score: 1.8448561532289212\n",
      "Iter: 11: Score: 1.8623221724605474\n",
      "Iter: 12: Score: 1.8464452429643483\n",
      "Iter: 13: Score: 1.847213194716945\n",
      "Iter: 14: Score: 1.8436242636435038\n",
      "Iter: 15: Score: 1.845505685723937\n",
      "Iter: 16: Score: 1.8627076261429365\n",
      "Iter: 17: Score: 1.8450401164920514\n",
      "Iter: 18: Score: 1.851453901932468\n",
      "Iter: 19: Score: 1.8541234886319806\n",
      "Iter: 20: Score: 1.845581947255799\n",
      "Iter: 21: Score: 1.8497457289297787\n",
      "Iter: 22: Score: 1.8680183249481697\n",
      "Iter: 23: Score: 1.8449360827696606\n",
      "Iter: 24: Score: 1.845306952950792\n",
      "{'n_estimators': 600, 'min_weight_fraction_leaf': 0.045, 'max_features': 1, 'max_depth': 3}\n"
     ]
    },
    {
     "name": "stderr",
     "output_type": "stream",
     "text": [
      "2it [01:16, 39.68s/it]"
     ]
    },
    {
     "name": "stdout",
     "output_type": "stream",
     "text": [
      "(61290, 13) (6810, 13)\n",
      "Iter: 0: Score: 2.0956850822125155\n",
      "Iter: 1: Score: 2.0836151011116053\n",
      "Iter: 2: Score: 2.083740688340256\n",
      "Iter: 3: Score: 2.0926631845014882\n",
      "Iter: 4: Score: 2.0815250603799136\n",
      "Iter: 5: Score: 2.080780143233509\n",
      "Iter: 6: Score: 2.135454584156553\n",
      "Iter: 7: Score: 2.0864467613531055\n",
      "Iter: 8: Score: 2.082470695628665\n",
      "Iter: 9: Score: 2.086168318282483\n",
      "Iter: 10: Score: 2.0853326008590627\n",
      "Iter: 11: Score: 2.0838828613865283\n",
      "Iter: 12: Score: 2.0907396949198818\n",
      "Iter: 13: Score: 2.081425703541327\n",
      "Iter: 14: Score: 2.090774862560936\n",
      "Iter: 15: Score: 2.086812608891482\n",
      "Iter: 16: Score: 2.0818093781452163\n",
      "Iter: 17: Score: 2.0828585009850715\n",
      "Iter: 18: Score: 2.0827873421522773\n",
      "Iter: 19: Score: 2.0842983250934135\n",
      "Iter: 20: Score: 2.0875573761542228\n",
      "Iter: 21: Score: 2.0927181480570245\n",
      "Iter: 22: Score: 2.081817120682783\n",
      "Iter: 23: Score: 2.088905264767806\n",
      "Iter: 24: Score: 2.22072580077738\n",
      "{'n_estimators': 900, 'min_weight_fraction_leaf': 0.03, 'max_features': 1, 'max_depth': 3}\n"
     ]
    },
    {
     "name": "stderr",
     "output_type": "stream",
     "text": [
      "3it [02:50, 64.39s/it]"
     ]
    },
    {
     "name": "stdout",
     "output_type": "stream",
     "text": [
      "(81702, 13) (9060, 13)\n",
      "Iter: 0: Score: 1.661901545122424\n",
      "Iter: 1: Score: 1.6491975136187906\n",
      "Iter: 2: Score: 1.6498600024568755\n",
      "Iter: 3: Score: 1.6409494424210873\n",
      "Iter: 4: Score: 1.644591028270848\n",
      "Iter: 5: Score: 1.6437374335093393\n",
      "Iter: 6: Score: 1.6423768876103864\n",
      "Iter: 7: Score: 1.6431829380329535\n",
      "Iter: 8: Score: 1.6419388154643273\n",
      "Iter: 9: Score: 1.641130691102093\n",
      "Iter: 10: Score: 1.640864590101489\n",
      "Iter: 11: Score: 1.641206877792399\n",
      "Iter: 12: Score: 1.6419073586350463\n",
      "Iter: 13: Score: 1.6430542780204975\n",
      "Iter: 14: Score: 1.6436306155501255\n",
      "Iter: 15: Score: 1.6453358222567667\n",
      "Iter: 16: Score: 1.6423991755648981\n",
      "Iter: 17: Score: 1.647583071114909\n",
      "Iter: 18: Score: 1.6476229864200809\n",
      "Iter: 19: Score: 1.6432880301376624\n",
      "Iter: 20: Score: 1.6439595253249093\n",
      "Iter: 21: Score: 1.6419531535797034\n",
      "Iter: 22: Score: 1.641034440688348\n",
      "Iter: 23: Score: 1.6438735149013388\n",
      "Iter: 24: Score: 1.6472372079854647\n",
      "{'n_estimators': 900, 'min_weight_fraction_leaf': 0.015, 'max_features': 1, 'max_depth': 6}\n"
     ]
    },
    {
     "name": "stderr",
     "output_type": "stream",
     "text": [
      "4it [05:14, 95.68s/it]"
     ]
    },
    {
     "name": "stdout",
     "output_type": "stream",
     "text": [
      "(102114, 13) (11340, 13)\n",
      "Iter: 0: Score: 1.4986601715768522\n",
      "Iter: 1: Score: 1.4990093033359861\n",
      "Iter: 2: Score: 1.500121753552582\n",
      "Iter: 3: Score: 1.4996550593483144\n",
      "Iter: 4: Score: 1.4998997375715488\n",
      "Iter: 5: Score: 1.4989918348344045\n",
      "Iter: 6: Score: 1.5011871733677353\n",
      "Iter: 7: Score: 1.4990605216786446\n",
      "Iter: 8: Score: 1.5000177109199955\n",
      "Iter: 9: Score: 1.4984443360453852\n",
      "Iter: 10: Score: 1.4992165341752781\n",
      "Iter: 11: Score: 1.4989588019670803\n",
      "Iter: 12: Score: 1.4982866590656012\n",
      "Iter: 13: Score: 1.5009921158014392\n",
      "Iter: 14: Score: 1.5011921946753073\n",
      "Iter: 15: Score: 1.4992376337405324\n",
      "Iter: 16: Score: 1.499503417753071\n",
      "Iter: 17: Score: 1.4984111279148147\n",
      "Iter: 18: Score: 1.5011673258182805\n",
      "Iter: 19: Score: 1.5001268617495738\n",
      "Iter: 20: Score: 1.4988464437752234\n",
      "Iter: 21: Score: 1.498867782443324\n",
      "Iter: 22: Score: 1.5004142503137732\n",
      "Iter: 23: Score: 1.5002142155298743\n",
      "Iter: 24: Score: 1.49956529261722\n",
      "{'n_estimators': 400, 'min_weight_fraction_leaf': 0.03, 'max_features': 1, 'max_depth': 3}\n"
     ]
    },
    {
     "name": "stderr",
     "output_type": "stream",
     "text": [
      "5it [08:00, 121.29s/it]"
     ]
    },
    {
     "name": "stdout",
     "output_type": "stream",
     "text": [
      "(122526, 13) (13590, 13)\n",
      "Iter: 0: Score: 1.547503721533557\n",
      "Iter: 1: Score: 1.5463617736309678\n",
      "Iter: 2: Score: 1.5464660116882731\n",
      "Iter: 3: Score: 1.548154115684309\n",
      "Iter: 4: Score: 1.5476433789896638\n",
      "Iter: 5: Score: 1.5445823837814998\n",
      "Iter: 6: Score: 1.546700181778055\n",
      "Iter: 7: Score: 1.5451808337960655\n",
      "Iter: 8: Score: 1.5481110184942835\n",
      "Iter: 9: Score: 1.5476216480394216\n",
      "Iter: 10: Score: 1.543019505773923\n",
      "Iter: 11: Score: 1.5464064986477717\n",
      "Iter: 12: Score: 1.5468908422237968\n",
      "Iter: 13: Score: 1.546842185797818\n",
      "Iter: 14: Score: 1.5462024224897521\n",
      "Iter: 15: Score: 1.5467771294417\n",
      "Iter: 16: Score: 1.5476425434127312\n",
      "Iter: 17: Score: 1.5476244403638681\n",
      "Iter: 18: Score: 1.5480227616655071\n",
      "Iter: 19: Score: 1.546966660995265\n",
      "Iter: 20: Score: 1.5443364093753684\n",
      "Iter: 21: Score: 1.5451832148871214\n",
      "Iter: 22: Score: 1.546338138555925\n",
      "Iter: 23: Score: 1.54765843645707\n",
      "Iter: 24: Score: 1.5481216606550505\n",
      "{'n_estimators': 700, 'min_weight_fraction_leaf': 0.0, 'max_features': 'sqrt', 'max_depth': 3}\n"
     ]
    },
    {
     "name": "stderr",
     "output_type": "stream",
     "text": [
      "6it [11:11, 144.79s/it]"
     ]
    },
    {
     "name": "stdout",
     "output_type": "stream",
     "text": [
      "(142938, 13) (15870, 13)\n",
      "Iter: 0: Score: 1.4978638544257261\n",
      "Iter: 1: Score: 1.4976873071670471\n",
      "Iter: 2: Score: 1.5013830379952091\n",
      "Iter: 3: Score: 1.4977130384517487\n",
      "Iter: 4: Score: 1.4977170253489809\n",
      "Iter: 5: Score: 1.4983747980554012\n",
      "Iter: 6: Score: 1.4979807165890873\n",
      "Iter: 7: Score: 1.5001907902438112\n",
      "Iter: 8: Score: 1.4978785060724105\n",
      "Iter: 9: Score: 1.498935449184094\n",
      "Iter: 10: Score: 1.5018241557226002\n",
      "Iter: 11: Score: 1.4978658588596825\n",
      "Iter: 12: Score: 1.5001903011709259\n",
      "Iter: 13: Score: 1.4978989338104685\n",
      "Iter: 14: Score: 1.4987329344713554\n",
      "Iter: 15: Score: 1.497991154095187\n",
      "Iter: 16: Score: 1.497660199865212\n",
      "Iter: 17: Score: 1.5017690914646862\n",
      "Iter: 18: Score: 1.5059661138821054\n",
      "Iter: 19: Score: 1.4975208166759966\n",
      "Iter: 20: Score: 1.4995917285638511\n",
      "Iter: 21: Score: 1.498288104362474\n",
      "Iter: 22: Score: 1.498687670953373\n",
      "Iter: 23: Score: 1.4981498936071067\n",
      "Iter: 24: Score: 1.4993401474523174\n",
      "{'n_estimators': 300, 'min_weight_fraction_leaf': 0.045, 'max_features': 1, 'max_depth': 6}\n"
     ]
    },
    {
     "name": "stderr",
     "output_type": "stream",
     "text": [
      "7it [15:07, 129.62s/it]\n"
     ]
    }
   ],
   "source": [
    "predictions = []\n",
    "scores = []\n",
    "for train, test in tqdm(get_cv_splits(X, split_length=252*3)):\n",
    "    # break out X and y train, test\n",
    "    X_train, y_train = train[features], train[target] \n",
    "    X_test, y_test = test[features], test[target]\n",
    "\n",
    "    # hyper-param loop\n",
    "    X_train2, X_val, y_train2, y_val = train_val_split(X_train, y_train)\n",
    "    print(X_train2.shape, X_val.shape)\n",
    "\n",
    "    # inner loop for parameter tuning\n",
    "    gscv_scores = {'scores': [], 'grid':[]}\n",
    "    for k, p in enumerate(params):\n",
    "        model = RandomForestRegressor(**p)\n",
    "        model.n_jobs=-1\n",
    "        model.fit(X_train2, y_train2.values.reshape(y_train2.shape[0], ))\n",
    "        _pred = model.predict(X_val)\n",
    "        _score = mean_squared_error(y_val, _pred)\n",
    "        gscv_scores['scores'].append(_score)\n",
    "        gscv_scores['grid'].append(p)\n",
    "        print(f'Iter: {k}: Score: {_score}')\n",
    "\n",
    "    # now fit the best model\n",
    "    best_model = pd.DataFrame(gscv_scores).sort_values(by='scores').head(1)['grid'].values[0]\n",
    "    print(best_model)\n",
    "    best_model = RandomForestRegressor(**best_model)\n",
    "    best_model.n_jobs=-1\n",
    "    best_model.fit(X_train, y_train.values.reshape(y_train.shape[0], ))\n",
    "    preds = best_model.predict(X_test)\n",
    "\n",
    "    # append the predictions\n",
    "    predictions.append(pd.Series(index=y_test.index, data=preds))\n",
    "\n",
    "    # score\n",
    "    scores.append(mean_squared_error(y_test, preds))\n",
    "\n",
    "# predictions\n",
    "predictions = pd.concat(predictions).to_frame(\"predictions\")"
   ]
  },
  {
   "cell_type": "markdown",
   "metadata": {},
   "source": [
    "**Check distribution of the targets**"
   ]
  },
  {
   "cell_type": "code",
   "execution_count": 11,
   "metadata": {},
   "outputs": [
    {
     "data": {
      "text/plain": [
       "<Axes: title={'center': 'distribution of predictions'}, ylabel='Frequency'>"
      ]
     },
     "execution_count": 11,
     "metadata": {},
     "output_type": "execute_result"
    },
    {
     "data": {
      "image/png": "[encoded data removed]",
      "text/plain": [
       "<Figure size 640x480 with 1 Axes>"
      ]
     },
     "metadata": {},
     "output_type": "display_data"
    }
   ],
   "source": [
    "# We can see predictions go negative at about the 25% percentile, market mainly goes up\n",
    "predictions.plot(kind='hist', bins=1000, title=\"distribution of predictions\")"
   ]
  },
  {
   "cell_type": "markdown",
   "metadata": {},
   "source": [
    "**Join in predictions with the original dataset which has the cluster returns**"
   ]
  },
  {
   "cell_type": "code",
   "execution_count": 12,
   "metadata": {},
   "outputs": [],
   "source": [
    "# bring in the data\n",
    "data = load_features_data()\n",
    "\n",
    "# join in predictions\n",
    "predictions = predictions.merge(data, how=\"left\", left_index=True, right_index=True)\n",
    "predictions.sort_index(inplace=True)"
   ]
  },
  {
   "cell_type": "markdown",
   "metadata": {},
   "source": [
    "**On each day divide the predictions into quartiles and compute the mean return, the top quartile should be the highest predicted cluster returns**"
   ]
  },
  {
   "cell_type": "code",
   "execution_count": 13,
   "metadata": {},
   "outputs": [],
   "source": [
    "predictions['signalQ'] = predictions.groupby(by='date')['predictions'].apply(lambda x: pd.qcut(x, 4, labels=False)).droplevel(0)\n",
    "\n",
    "# shift signal back by one day\n",
    "predictions['signalQ'] = predictions.groupby(by='cluster')['signalQ'].shift(1)\n",
    "rets = predictions.groupby(by=['date', 'signalQ'])['1d_ret'].mean().unstack()"
   ]
  },
  {
   "cell_type": "markdown",
   "metadata": {},
   "source": [
    "**Group by signalQ shifted back by one day and then compute the average return, unstack to get time series of mean cluster returns by signal quartile. Compute portfolio returns with the utils function**"
   ]
  },
  {
   "cell_type": "code",
   "execution_count": 14,
   "metadata": {},
   "outputs": [
    {
     "data": {
      "text/html": [
       "<div>\n",
       "<style scoped>\n",
       "    .dataframe tbody tr th:only-of-type {\n",
       "        vertical-align: middle;\n",
       "    }\n",
       "\n",
       "    .dataframe tbody tr th {\n",
       "        vertical-align: top;\n",
       "    }\n",
       "\n",
       "    .dataframe thead th {\n",
       "        text-align: right;\n",
       "    }\n",
       "</style>\n",
       "<table border=\"1\" class=\"dataframe\">\n",
       "  <thead>\n",
       "    <tr style=\"text-align: right;\">\n",
       "      <th></th>\n",
       "      <th>Annual_Return</th>\n",
       "      <th>Annual_Volatility</th>\n",
       "      <th>DD</th>\n",
       "      <th>MDD</th>\n",
       "      <th>Sharpe</th>\n",
       "      <th>Sortino</th>\n",
       "      <th>Calmar</th>\n",
       "      <th>ppct_postive_rets</th>\n",
       "    </tr>\n",
       "  </thead>\n",
       "  <tbody>\n",
       "    <tr>\n",
       "      <th>Q_0.0</th>\n",
       "      <td>0.071786</td>\n",
       "      <td>0.230925</td>\n",
       "      <td>0.165413</td>\n",
       "      <td>-0.607829</td>\n",
       "      <td>0.416302</td>\n",
       "      <td>0.581179</td>\n",
       "      <td>0.118103</td>\n",
       "      <td>0.536244</td>\n",
       "    </tr>\n",
       "    <tr>\n",
       "      <th>Q_1.0</th>\n",
       "      <td>0.058308</td>\n",
       "      <td>0.227183</td>\n",
       "      <td>0.163895</td>\n",
       "      <td>-0.630926</td>\n",
       "      <td>0.363684</td>\n",
       "      <td>0.504119</td>\n",
       "      <td>0.092417</td>\n",
       "      <td>0.539377</td>\n",
       "    </tr>\n",
       "    <tr>\n",
       "      <th>Q_2.0</th>\n",
       "      <td>0.069817</td>\n",
       "      <td>0.227881</td>\n",
       "      <td>0.162462</td>\n",
       "      <td>-0.563826</td>\n",
       "      <td>0.410567</td>\n",
       "      <td>0.575892</td>\n",
       "      <td>0.123827</td>\n",
       "      <td>0.53708</td>\n",
       "    </tr>\n",
       "    <tr>\n",
       "      <th>Q_3.0</th>\n",
       "      <td>0.07494</td>\n",
       "      <td>0.22944</td>\n",
       "      <td>0.163463</td>\n",
       "      <td>-0.565244</td>\n",
       "      <td>0.430165</td>\n",
       "      <td>0.603786</td>\n",
       "      <td>0.132579</td>\n",
       "      <td>0.536244</td>\n",
       "    </tr>\n",
       "  </tbody>\n",
       "</table>\n",
       "</div>"
      ],
      "text/plain": [
       "      Annual_Return Annual_Volatility        DD       MDD    Sharpe   Sortino  \\\n",
       "Q_0.0      0.071786          0.230925  0.165413 -0.607829  0.416302  0.581179   \n",
       "Q_1.0      0.058308          0.227183  0.163895 -0.630926  0.363684  0.504119   \n",
       "Q_2.0      0.069817          0.227881  0.162462 -0.563826  0.410567  0.575892   \n",
       "Q_3.0       0.07494           0.22944  0.163463 -0.565244  0.430165  0.603786   \n",
       "\n",
       "         Calmar ppct_postive_rets  \n",
       "Q_0.0  0.118103          0.536244  \n",
       "Q_1.0  0.092417          0.539377  \n",
       "Q_2.0  0.123827           0.53708  \n",
       "Q_3.0  0.132579          0.536244  "
      ]
     },
     "execution_count": 14,
     "metadata": {},
     "output_type": "execute_result"
    }
   ],
   "source": [
    "rets = predictions.groupby(by=['date', 'signalQ'])['1d_ret'].mean().unstack()\n",
    "rets.rename(columns={col: f'Q_{col}' for col in rets.columns}, inplace=True)\n",
    "\n",
    "get_returns_breakout(rets)"
   ]
  },
  {
   "cell_type": "code",
   "execution_count": 15,
   "metadata": {},
   "outputs": [
    {
     "data": {
      "text/plain": [
       "<Axes: title={'center': 'Cumulative Strategy Returns'}, xlabel='date'>"
      ]
     },
     "execution_count": 15,
     "metadata": {},
     "output_type": "execute_result"
    },
    {
     "data": {
      "image/png": "[encoded data removed]",
      "text/plain": [
       "<Figure size 640x480 with 1 Axes>"
      ]
     },
     "metadata": {},
     "output_type": "display_data"
    }
   ],
   "source": [
    "# plot the returns\n",
    "(1 + rets).cumprod().plot(title=\"Cumulative Strategy Returns\")"
   ]
  }
 ],
 "metadata": {
  "kernelspec": {
   "display_name": "base",
   "language": "python",
   "name": "python3"
  },
  "language_info": {
   "codemirror_mode": {
    "name": "ipython",
    "version": 3
   },
   "file_extension": ".py",
   "mimetype": "text/x-python",
   "name": "python",
   "nbconvert_exporter": "python",
   "pygments_lexer": "ipython3",
   "version": "3.11.5"
  }
 },
 "nbformat": 4,
 "nbformat_minor": 2
}
