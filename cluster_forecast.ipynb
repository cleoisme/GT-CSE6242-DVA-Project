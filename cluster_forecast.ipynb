{
 "cells": [
  {
   "cell_type": "code",
   "execution_count": 19,
   "metadata": {},
   "outputs": [],
   "source": [
    "import pandas as pd\n",
    "import numpy as np\n",
    "from sklearn.ensemble import RandomForestRegressor\n",
    "from sklearn.linear_model import ElasticNet, LassoCV, ElasticNetCV\n",
    "from sklearn.pipeline import Pipeline\n",
    "from sklearn.preprocessing import RobustScaler\n",
    "from sklearn.neural_network import MLPRegressor\n",
    "from utils.ml_utils import *\n",
    "\n",
    "from sklearn.metrics import mean_squared_error\n",
    "from sklearn.model_selection import ParameterSampler\n",
    "from tqdm import tqdm\n",
    "\n",
    "from data_prep import load_features_data\n",
    "from sklearn.feature_selection import RFECV, SelectFromModel\n",
    "from sklearn.model_selection import TimeSeriesSplit\n",
    "\n",
    "from sklearn.decomposition import PCA\n",
    "\n"
   ]
  },
  {
   "cell_type": "markdown",
   "metadata": {},
   "source": [
    "**Load the features data, these are popular trend following features used in prior literature, this notebook assumes you have the pickle file residual_returns.pkl saved in the root directory, you can download this file from the OneDrive**"
   ]
  },
  {
   "cell_type": "code",
   "execution_count": 20,
   "metadata": {},
   "outputs": [
    {
     "data": {
      "text/html": [
       "<div>\n",
       "<style scoped>\n",
       "    .dataframe tbody tr th:only-of-type {\n",
       "        vertical-align: middle;\n",
       "    }\n",
       "\n",
       "    .dataframe tbody tr th {\n",
       "        vertical-align: top;\n",
       "    }\n",
       "\n",
       "    .dataframe thead th {\n",
       "        text-align: right;\n",
       "    }\n",
       "</style>\n",
       "<table border=\"1\" class=\"dataframe\">\n",
       "  <thead>\n",
       "    <tr style=\"text-align: right;\">\n",
       "      <th></th>\n",
       "      <th></th>\n",
       "      <th>ret</th>\n",
       "      <th>rVol</th>\n",
       "      <th>1d_ret</th>\n",
       "      <th>1wk_ret</th>\n",
       "      <th>1m_ret</th>\n",
       "      <th>1Q_ret</th>\n",
       "      <th>6M_ret</th>\n",
       "      <th>12M_ret</th>\n",
       "      <th>feature_1d_ra</th>\n",
       "      <th>feature_1wk_ra</th>\n",
       "      <th>...</th>\n",
       "      <th>lag5_feature_MACD_short</th>\n",
       "      <th>lag5_feature_MACD_medium</th>\n",
       "      <th>lag5_feature_MACD_long</th>\n",
       "      <th>lag5_feature_skew6m</th>\n",
       "      <th>lag5_feature_skew12m</th>\n",
       "      <th>lag5_feature_kurt6m</th>\n",
       "      <th>lag5_feature_kurt12m</th>\n",
       "      <th>fwd_ret1d</th>\n",
       "      <th>target</th>\n",
       "      <th>targetBin</th>\n",
       "    </tr>\n",
       "    <tr>\n",
       "      <th>date</th>\n",
       "      <th>cluster</th>\n",
       "      <th></th>\n",
       "      <th></th>\n",
       "      <th></th>\n",
       "      <th></th>\n",
       "      <th></th>\n",
       "      <th></th>\n",
       "      <th></th>\n",
       "      <th></th>\n",
       "      <th></th>\n",
       "      <th></th>\n",
       "      <th></th>\n",
       "      <th></th>\n",
       "      <th></th>\n",
       "      <th></th>\n",
       "      <th></th>\n",
       "      <th></th>\n",
       "      <th></th>\n",
       "      <th></th>\n",
       "      <th></th>\n",
       "      <th></th>\n",
       "      <th></th>\n",
       "    </tr>\n",
       "  </thead>\n",
       "  <tbody>\n",
       "    <tr>\n",
       "      <th rowspan=\"5\" valign=\"top\">2024-03-15</th>\n",
       "      <th>15</th>\n",
       "      <td>3.398228</td>\n",
       "      <td>0.010781</td>\n",
       "      <td>-0.018600</td>\n",
       "      <td>-0.010795</td>\n",
       "      <td>-0.003738</td>\n",
       "      <td>-0.010729</td>\n",
       "      <td>0.088150</td>\n",
       "      <td>0.044806</td>\n",
       "      <td>-1.725280</td>\n",
       "      <td>-0.447788</td>\n",
       "      <td>...</td>\n",
       "      <td>0.138748</td>\n",
       "      <td>0.259889</td>\n",
       "      <td>0.574767</td>\n",
       "      <td>-0.202834</td>\n",
       "      <td>-0.023611</td>\n",
       "      <td>0.229975</td>\n",
       "      <td>0.324046</td>\n",
       "      <td>NaN</td>\n",
       "      <td>NaN</td>\n",
       "      <td>NaN</td>\n",
       "    </tr>\n",
       "    <tr>\n",
       "      <th>16</th>\n",
       "      <td>3.080426</td>\n",
       "      <td>0.010995</td>\n",
       "      <td>-0.020717</td>\n",
       "      <td>-0.020520</td>\n",
       "      <td>-0.008363</td>\n",
       "      <td>0.004148</td>\n",
       "      <td>0.084058</td>\n",
       "      <td>-0.022932</td>\n",
       "      <td>-1.884206</td>\n",
       "      <td>-0.834625</td>\n",
       "      <td>...</td>\n",
       "      <td>0.097605</td>\n",
       "      <td>0.322557</td>\n",
       "      <td>0.642906</td>\n",
       "      <td>-0.195628</td>\n",
       "      <td>-0.024484</td>\n",
       "      <td>0.209541</td>\n",
       "      <td>0.330980</td>\n",
       "      <td>NaN</td>\n",
       "      <td>NaN</td>\n",
       "      <td>NaN</td>\n",
       "    </tr>\n",
       "    <tr>\n",
       "      <th>17</th>\n",
       "      <td>4.019482</td>\n",
       "      <td>0.011090</td>\n",
       "      <td>-0.018740</td>\n",
       "      <td>-0.010313</td>\n",
       "      <td>0.002589</td>\n",
       "      <td>-0.059504</td>\n",
       "      <td>-0.079410</td>\n",
       "      <td>-0.113126</td>\n",
       "      <td>-1.689814</td>\n",
       "      <td>-0.415871</td>\n",
       "      <td>...</td>\n",
       "      <td>0.101396</td>\n",
       "      <td>0.006033</td>\n",
       "      <td>-0.415118</td>\n",
       "      <td>-0.213701</td>\n",
       "      <td>-0.034735</td>\n",
       "      <td>0.168224</td>\n",
       "      <td>0.327998</td>\n",
       "      <td>NaN</td>\n",
       "      <td>NaN</td>\n",
       "      <td>NaN</td>\n",
       "    </tr>\n",
       "    <tr>\n",
       "      <th>18</th>\n",
       "      <td>10.257413</td>\n",
       "      <td>0.011017</td>\n",
       "      <td>-0.014164</td>\n",
       "      <td>-0.005898</td>\n",
       "      <td>0.047696</td>\n",
       "      <td>0.064581</td>\n",
       "      <td>0.131315</td>\n",
       "      <td>0.153882</td>\n",
       "      <td>-1.285637</td>\n",
       "      <td>-0.239423</td>\n",
       "      <td>...</td>\n",
       "      <td>0.483758</td>\n",
       "      <td>0.557877</td>\n",
       "      <td>0.717302</td>\n",
       "      <td>-0.229808</td>\n",
       "      <td>-0.042143</td>\n",
       "      <td>0.153079</td>\n",
       "      <td>0.316662</td>\n",
       "      <td>NaN</td>\n",
       "      <td>NaN</td>\n",
       "      <td>NaN</td>\n",
       "    </tr>\n",
       "    <tr>\n",
       "      <th>19</th>\n",
       "      <td>3.623791</td>\n",
       "      <td>0.010924</td>\n",
       "      <td>0.001962</td>\n",
       "      <td>0.001796</td>\n",
       "      <td>0.001793</td>\n",
       "      <td>0.111935</td>\n",
       "      <td>0.238240</td>\n",
       "      <td>0.080132</td>\n",
       "      <td>0.179593</td>\n",
       "      <td>0.073513</td>\n",
       "      <td>...</td>\n",
       "      <td>0.173823</td>\n",
       "      <td>0.503369</td>\n",
       "      <td>0.849991</td>\n",
       "      <td>-0.236460</td>\n",
       "      <td>-0.033288</td>\n",
       "      <td>0.163940</td>\n",
       "      <td>0.359519</td>\n",
       "      <td>NaN</td>\n",
       "      <td>NaN</td>\n",
       "      <td>NaN</td>\n",
       "    </tr>\n",
       "  </tbody>\n",
       "</table>\n",
       "<p>5 rows × 89 columns</p>\n",
       "</div>"
      ],
      "text/plain": [
       "                          ret      rVol    1d_ret   1wk_ret    1m_ret  \\\n",
       "date       cluster                                                      \n",
       "2024-03-15 15        3.398228  0.010781 -0.018600 -0.010795 -0.003738   \n",
       "           16        3.080426  0.010995 -0.020717 -0.020520 -0.008363   \n",
       "           17        4.019482  0.011090 -0.018740 -0.010313  0.002589   \n",
       "           18       10.257413  0.011017 -0.014164 -0.005898  0.047696   \n",
       "           19        3.623791  0.010924  0.001962  0.001796  0.001793   \n",
       "\n",
       "                      1Q_ret    6M_ret   12M_ret  feature_1d_ra  \\\n",
       "date       cluster                                                \n",
       "2024-03-15 15      -0.010729  0.088150  0.044806      -1.725280   \n",
       "           16       0.004148  0.084058 -0.022932      -1.884206   \n",
       "           17      -0.059504 -0.079410 -0.113126      -1.689814   \n",
       "           18       0.064581  0.131315  0.153882      -1.285637   \n",
       "           19       0.111935  0.238240  0.080132       0.179593   \n",
       "\n",
       "                    feature_1wk_ra  ...  lag5_feature_MACD_short  \\\n",
       "date       cluster                  ...                            \n",
       "2024-03-15 15            -0.447788  ...                 0.138748   \n",
       "           16            -0.834625  ...                 0.097605   \n",
       "           17            -0.415871  ...                 0.101396   \n",
       "           18            -0.239423  ...                 0.483758   \n",
       "           19             0.073513  ...                 0.173823   \n",
       "\n",
       "                    lag5_feature_MACD_medium  lag5_feature_MACD_long  \\\n",
       "date       cluster                                                     \n",
       "2024-03-15 15                       0.259889                0.574767   \n",
       "           16                       0.322557                0.642906   \n",
       "           17                       0.006033               -0.415118   \n",
       "           18                       0.557877                0.717302   \n",
       "           19                       0.503369                0.849991   \n",
       "\n",
       "                    lag5_feature_skew6m  lag5_feature_skew12m  \\\n",
       "date       cluster                                              \n",
       "2024-03-15 15                 -0.202834             -0.023611   \n",
       "           16                 -0.195628             -0.024484   \n",
       "           17                 -0.213701             -0.034735   \n",
       "           18                 -0.229808             -0.042143   \n",
       "           19                 -0.236460             -0.033288   \n",
       "\n",
       "                    lag5_feature_kurt6m  lag5_feature_kurt12m  fwd_ret1d  \\\n",
       "date       cluster                                                         \n",
       "2024-03-15 15                  0.229975              0.324046        NaN   \n",
       "           16                  0.209541              0.330980        NaN   \n",
       "           17                  0.168224              0.327998        NaN   \n",
       "           18                  0.153079              0.316662        NaN   \n",
       "           19                  0.163940              0.359519        NaN   \n",
       "\n",
       "                    target  targetBin  \n",
       "date       cluster                     \n",
       "2024-03-15 15          NaN        NaN  \n",
       "           16          NaN        NaN  \n",
       "           17          NaN        NaN  \n",
       "           18          NaN        NaN  \n",
       "           19          NaN        NaN  \n",
       "\n",
       "[5 rows x 89 columns]"
      ]
     },
     "execution_count": 20,
     "metadata": {},
     "output_type": "execute_result"
    }
   ],
   "source": [
    "feats = load_features_data()\n",
    "feats.tail()\n"
   ]
  },
  {
   "cell_type": "code",
   "execution_count": 21,
   "metadata": {},
   "outputs": [
    {
     "name": "stdout",
     "output_type": "stream",
     "text": [
      "count    125019.000000\n",
      "mean          0.029297\n",
      "std           1.228097\n",
      "min         -18.536928\n",
      "25%          -0.597784\n",
      "50%           0.062029\n",
      "75%           0.686203\n",
      "max          70.166324\n",
      "Name: target, dtype: float64\n",
      "count    125019.000000\n",
      "mean          0.028428\n",
      "std           1.201198\n",
      "min         -10.000000\n",
      "25%          -0.597784\n",
      "50%           0.062029\n",
      "75%           0.686203\n",
      "max          10.000000\n",
      "Name: target, dtype: float64\n"
     ]
    },
    {
     "data": {
      "image/png": "[encoded data removed]",
      "text/plain": [
       "<Figure size 640x480 with 1 Axes>"
      ]
     },
     "metadata": {},
     "output_type": "display_data"
    }
   ],
   "source": [
    "# distribution of tragets\n",
    "feats['target'].plot(kind='box', title=\"Box Plot of Target Variable\")\n",
    "print(feats['target'].describe())\n",
    "\n",
    "# clip the three large outliers\n",
    "feats['target'] = feats['target'].clip(-10., 10.)\n",
    "print(feats['target'].describe())"
   ]
  },
  {
   "cell_type": "code",
   "execution_count": 22,
   "metadata": {},
   "outputs": [
    {
     "data": {
      "text/plain": [
       "<Axes: >"
      ]
     },
     "execution_count": 22,
     "metadata": {},
     "output_type": "execute_result"
    },
    {
     "data": {
      "image/png": "[encoded data removed]",
      "text/plain": [
       "<Figure size 640x480 with 1 Axes>"
      ]
     },
     "metadata": {},
     "output_type": "display_data"
    }
   ],
   "source": [
    "feats['target'].plot(kind='box')"
   ]
  },
  {
   "cell_type": "markdown",
   "metadata": {},
   "source": [
    "**Extract the predictive features and target, which is one day forward risk adjusted return - drop na on this subset**"
   ]
  },
  {
   "cell_type": "code",
   "execution_count": 23,
   "metadata": {},
   "outputs": [
    {
     "name": "stdout",
     "output_type": "stream",
     "text": [
      "Shape of features (119900, 79)\n"
     ]
    }
   ],
   "source": [
    "features = [f for f in feats.columns if f.startswith(\"feature\")]\n",
    "target = [\"target\"]\n",
    "lag_feats = [f for f in feats.columns if f.startswith('lag')]\n",
    "\n",
    "# make a new feature vector for features + lags\n",
    "\n",
    "all_feats = features + lag_feats + target\n",
    "feats.dropna(subset=all_feats, inplace=True)\n",
    "feats = feats[all_feats]\n",
    "\n",
    "print(\"Shape of features\", feats.shape)\n",
    "\n"
   ]
  },
  {
   "cell_type": "markdown",
   "metadata": {},
   "source": [
    "**Break out X and y and set up cross-validation, define models**"
   ]
  },
  {
   "cell_type": "code",
   "execution_count": 24,
   "metadata": {},
   "outputs": [],
   "source": [
    "X = feats[all_feats].copy()\n",
    "\n",
    "# set some configs\n",
    "N_ITER=50\n",
    "\n",
    "# Random Forest Regressor\n",
    "baseRF = RandomForestRegressor(max_depth=5, \n",
    "                               n_estimators=1000,\n",
    "                               max_features=int(1),\n",
    "                               random_state=49, \n",
    "                               n_jobs=-1)\n",
    "\n",
    "# simple-grid\n",
    "grid = {'rf__n_estimators': np.arange(100, 2000, 100),\n",
    "        'rf__max_depth': [3, 6, 9, 12],\n",
    "        'rf__max_features': [int(1), 'sqrt'],\n",
    "        'rf__min_weight_fraction_leaf': np.arange(0.0, 0.05, 0.005)}\n",
    "paramsRF = ParameterSampler(n_iter=N_ITER, param_distributions=grid)\n",
    "\n",
    "rfPipe = Pipeline(steps=[('scaler', RobustScaler()), ('rf',baseRF)])\n",
    "rfPipeFS = Pipeline(steps=[('scaler', RobustScaler()),\n",
    "                           ('selector', SelectFromModel(baseRF, threshold='mean')),\n",
    "                           ('rf',baseRF)])\n",
    "\n",
    "# Elastic Net Regressor\n",
    "net = ElasticNet(max_iter=1000)\n",
    "eNetPipe = Pipeline(steps=[('scaler', RobustScaler()), ('net', net)])\n",
    "eNetPipePCA = Pipeline(steps=[('scaler', RobustScaler()),\n",
    "                              ('pca', PCA(n_components=.95)),\n",
    "                              ('net', net)])\n",
    "\n",
    "eNet_grid = {'net__alpha': [1e-5, 1e-4, 1e-3, 1e-2],\n",
    "             'net__l1_ratio': np.arange(0.10, .90, 0.01)}\n",
    "\n",
    "paramsNet = ParameterSampler(n_iter=N_ITER, param_distributions=eNet_grid)\n",
    "\n",
    "# MLP Regressor\n",
    "mlp = MLPRegressor(hidden_layer_sizes=(16, 8),\n",
    "                   random_state=49,\n",
    "                   shuffle=False,\n",
    "                   max_iter=500,\n",
    "                   early_stopping=True,\n",
    "                   learning_rate='constant')\n",
    "\n",
    "mlp_pipe = Pipeline(steps=[('scaler', RobustScaler()), ('mlp', mlp)])\n",
    "mlp_pipeFS = Pipeline(steps=[('scaler', RobustScaler()),\n",
    "                             ('selector', SelectFromModel(baseRF, threshold='mean')),\n",
    "                             ('mlp', mlp)])\n",
    "mlp_grid = {'mlp__learning_rate_init': [.000001, .00001, .0001, .001],\n",
    "            'mlp__batch_size': [32, 64, 128, 256],\n",
    "            'mlp__hidden_layer_sizes': [(12, 6), (16, 8), (6, 3)],\n",
    "            'mlp__alpha': [.000001, .00001, .0001, .001, .01]}\n",
    "mlp_sampler = ParameterSampler(n_iter=N_ITER, param_distributions=mlp_grid)\n",
    "\n",
    "# append the models\n",
    "models = [(mlp_pipe, mlp_sampler, 'preds_MLP'),\n",
    "          (mlp_pipeFS, mlp_sampler, 'preds_MLP_FS'),\n",
    "          (eNetPipe, paramsNet, 'preds_eNet'),\n",
    "          (eNetPipePCA, paramsNet, 'preds_eNetPCA'),\n",
    "          (rfPipe, paramsRF, 'preds_RF'),\n",
    "          (rfPipeFS, paramsRF, 'preds_RF_FS')]\n"
   ]
  },
  {
   "cell_type": "markdown",
   "metadata": {},
   "source": [
    "**Form the training loop, here we train on 3 year expanding windows, using 90% of each split for training and 10% for tuning hyper-parameters, we then use the same model to forecast forward 3-years before re-training again.**"
   ]
  },
  {
   "cell_type": "code",
   "execution_count": 25,
   "metadata": {},
   "outputs": [
    {
     "name": "stderr",
     "output_type": "stream",
     "text": [
      "0it [00:00, ?it/s]"
     ]
    },
    {
     "name": "stdout",
     "output_type": "stream",
     "text": [
      "4\n",
      "(22698, 13) (2520, 13)\n",
      "Iter: 0: Score: 1.5695559441186155\n",
      "Iter: 1: Score: 1.5538991512473073\n",
      "Iter: 2: Score: 1.511695616963648\n",
      "Iter: 3: Score: 1.5714383746769396\n",
      "Iter: 4: Score: 1.5610912213320103\n",
      "Iter: 5: Score: 1.5714922585098985\n",
      "Iter: 6: Score: 1.585930052219177\n",
      "Iter: 7: Score: 1.5806578881545965\n",
      "Iter: 8: Score: 1.5840456658848232\n",
      "Iter: 9: Score: 1.5158070840786995\n"
     ]
    },
    {
     "name": "stderr",
     "output_type": "stream",
     "text": [
      "c:\\Users\\jaman\\anaconda3\\Lib\\site-packages\\sklearn\\neural_network\\_multilayer_perceptron.py:691: ConvergenceWarning: Stochastic Optimizer: Maximum iterations (500) reached and the optimization hasn't converged yet.\n",
      "  warnings.warn(\n"
     ]
    },
    {
     "name": "stdout",
     "output_type": "stream",
     "text": [
      "Iter: 10: Score: 1.778308727766601\n",
      "Iter: 11: Score: 1.526327582432145\n",
      "Iter: 12: Score: 1.5540315299672618\n",
      "Iter: 13: Score: 1.5141805370656394\n",
      "Iter: 14: Score: 1.569658946990948\n",
      "Iter: 15: Score: 1.570819672843301\n",
      "Iter: 16: Score: 1.5506347313885065\n",
      "Iter: 17: Score: 1.520412822367633\n",
      "Iter: 18: Score: 1.5257591532803847\n",
      "Iter: 19: Score: 1.6176496555397364\n",
      "Iter: 20: Score: 1.6276754739863972\n",
      "Iter: 21: Score: 1.5829550920284765\n"
     ]
    },
    {
     "name": "stderr",
     "output_type": "stream",
     "text": [
      "c:\\Users\\jaman\\anaconda3\\Lib\\site-packages\\sklearn\\neural_network\\_multilayer_perceptron.py:691: ConvergenceWarning: Stochastic Optimizer: Maximum iterations (500) reached and the optimization hasn't converged yet.\n",
      "  warnings.warn(\n"
     ]
    },
    {
     "name": "stdout",
     "output_type": "stream",
     "text": [
      "Iter: 22: Score: 1.778306695564358\n",
      "Iter: 23: Score: 1.5363346208680706\n"
     ]
    },
    {
     "name": "stderr",
     "output_type": "stream",
     "text": [
      "c:\\Users\\jaman\\anaconda3\\Lib\\site-packages\\sklearn\\neural_network\\_multilayer_perceptron.py:691: ConvergenceWarning: Stochastic Optimizer: Maximum iterations (500) reached and the optimization hasn't converged yet.\n",
      "  warnings.warn(\n"
     ]
    },
    {
     "name": "stdout",
     "output_type": "stream",
     "text": [
      "Iter: 24: Score: 1.5882240195171047\n",
      "Iter: 25: Score: 1.584463489282359\n",
      "Iter: 26: Score: 1.5607619301826239\n"
     ]
    },
    {
     "name": "stderr",
     "output_type": "stream",
     "text": [
      "c:\\Users\\jaman\\anaconda3\\Lib\\site-packages\\sklearn\\neural_network\\_multilayer_perceptron.py:691: ConvergenceWarning: Stochastic Optimizer: Maximum iterations (500) reached and the optimization hasn't converged yet.\n",
      "  warnings.warn(\n"
     ]
    },
    {
     "name": "stdout",
     "output_type": "stream",
     "text": [
      "Iter: 27: Score: 1.996699522210766\n",
      "Iter: 28: Score: 1.5410065412343568\n",
      "Iter: 29: Score: 1.627713667953174\n",
      "Iter: 30: Score: 1.5684957883300807\n",
      "Iter: 31: Score: 1.5116955746657974\n",
      "Iter: 32: Score: 1.52260700995021\n"
     ]
    },
    {
     "name": "stderr",
     "output_type": "stream",
     "text": [
      "c:\\Users\\jaman\\anaconda3\\Lib\\site-packages\\sklearn\\neural_network\\_multilayer_perceptron.py:691: ConvergenceWarning: Stochastic Optimizer: Maximum iterations (500) reached and the optimization hasn't converged yet.\n",
      "  warnings.warn(\n"
     ]
    },
    {
     "name": "stdout",
     "output_type": "stream",
     "text": [
      "Iter: 33: Score: 1.778308623781538\n",
      "Iter: 34: Score: 1.6094944705458651\n",
      "Iter: 35: Score: 1.5185480181293116\n"
     ]
    },
    {
     "name": "stderr",
     "output_type": "stream",
     "text": [
      "c:\\Users\\jaman\\anaconda3\\Lib\\site-packages\\sklearn\\neural_network\\_multilayer_perceptron.py:691: ConvergenceWarning: Stochastic Optimizer: Maximum iterations (500) reached and the optimization hasn't converged yet.\n",
      "  warnings.warn(\n"
     ]
    },
    {
     "name": "stdout",
     "output_type": "stream",
     "text": [
      "Iter: 36: Score: 1.9967005776039495\n",
      "Iter: 37: Score: 1.5745358000315106\n",
      "Iter: 38: Score: 1.581170295475424\n",
      "Iter: 39: Score: 1.5430765685322982\n",
      "Iter: 40: Score: 1.514123410907738\n",
      "Iter: 41: Score: 1.5714915331342885\n",
      "Iter: 42: Score: 1.507608529838816\n",
      "Iter: 43: Score: 1.5144109172547615\n",
      "Iter: 44: Score: 1.5343369275448737\n",
      "Iter: 45: Score: 1.5949299893748823\n",
      "Iter: 46: Score: 1.5293589934834684\n",
      "Iter: 47: Score: 1.5916319657024738\n",
      "Iter: 48: Score: 1.6176393448718585\n"
     ]
    },
    {
     "name": "stderr",
     "output_type": "stream",
     "text": [
      "c:\\Users\\jaman\\anaconda3\\Lib\\site-packages\\sklearn\\neural_network\\_multilayer_perceptron.py:691: ConvergenceWarning: Stochastic Optimizer: Maximum iterations (500) reached and the optimization hasn't converged yet.\n",
      "  warnings.warn(\n"
     ]
    },
    {
     "name": "stdout",
     "output_type": "stream",
     "text": [
      "Iter: 49: Score: 1.5384330609974848\n",
      "      scores                                               grid\n",
      "42  1.507609  {'mlp__learning_rate_init': 1e-05, 'mlp__hidde...\n",
      "Best Model: {'mlp__learning_rate_init': 1e-05, 'mlp__hidden_layer_sizes': (6, 3), 'mlp__batch_size': 32, 'mlp__alpha': 0.01}\n"
     ]
    },
    {
     "name": "stderr",
     "output_type": "stream",
     "text": [
      "1it [05:39, 339.92s/it]"
     ]
    },
    {
     "name": "stdout",
     "output_type": "stream",
     "text": [
      "(45396, 13) (5040, 13)\n",
      "Iter: 0: Score: 1.510357970114223\n",
      "Iter: 1: Score: 1.7884133663059203\n",
      "Iter: 2: Score: 1.8105012903919853\n",
      "Iter: 3: Score: 1.7733566461931545\n",
      "Iter: 4: Score: 1.813450465492491\n",
      "Iter: 5: Score: 1.490001837202538\n",
      "Iter: 6: Score: 1.6672280607798693\n",
      "Iter: 7: Score: 1.5248242863563313\n",
      "Iter: 8: Score: 1.4568357049640912\n",
      "Iter: 9: Score: 1.4849808603808152\n",
      "Iter: 10: Score: 1.495292964438934\n"
     ]
    },
    {
     "name": "stderr",
     "output_type": "stream",
     "text": [
      "c:\\Users\\jaman\\anaconda3\\Lib\\site-packages\\sklearn\\neural_network\\_multilayer_perceptron.py:691: ConvergenceWarning: Stochastic Optimizer: Maximum iterations (500) reached and the optimization hasn't converged yet.\n",
      "  warnings.warn(\n"
     ]
    },
    {
     "name": "stdout",
     "output_type": "stream",
     "text": [
      "Iter: 11: Score: 1.6733762317148628\n",
      "Iter: 12: Score: 1.5114424674031004\n",
      "Iter: 13: Score: 1.6927925111710058\n",
      "Iter: 14: Score: 1.6421274685481555\n",
      "Iter: 15: Score: 1.7772589403741121\n",
      "Iter: 16: Score: 1.4809722061856507\n",
      "Iter: 17: Score: 1.5132688312163445\n",
      "Iter: 18: Score: 1.4726253834268075\n",
      "Iter: 19: Score: 1.474423962277312\n",
      "Iter: 20: Score: 1.4552569316630926\n",
      "Iter: 21: Score: 1.4974448435521481\n"
     ]
    },
    {
     "name": "stderr",
     "output_type": "stream",
     "text": [
      "c:\\Users\\jaman\\anaconda3\\Lib\\site-packages\\sklearn\\neural_network\\_multilayer_perceptron.py:691: ConvergenceWarning: Stochastic Optimizer: Maximum iterations (500) reached and the optimization hasn't converged yet.\n",
      "  warnings.warn(\n"
     ]
    },
    {
     "name": "stdout",
     "output_type": "stream",
     "text": [
      "Iter: 22: Score: 1.6733562920503569\n",
      "Iter: 23: Score: 2.703748639794367\n",
      "Iter: 24: Score: 1.689621293118061\n",
      "Iter: 25: Score: 1.8980260156971225\n",
      "Iter: 26: Score: 1.4879273663197214\n",
      "Iter: 27: Score: 1.76208276872405\n",
      "Iter: 28: Score: 2.882419149870423\n"
     ]
    },
    {
     "name": "stderr",
     "output_type": "stream",
     "text": [
      "c:\\Users\\jaman\\anaconda3\\Lib\\site-packages\\sklearn\\neural_network\\_multilayer_perceptron.py:691: ConvergenceWarning: Stochastic Optimizer: Maximum iterations (500) reached and the optimization hasn't converged yet.\n",
      "  warnings.warn(\n"
     ]
    },
    {
     "name": "stdout",
     "output_type": "stream",
     "text": [
      "Iter: 29: Score: 1.6733746081412586\n",
      "Iter: 30: Score: 1.4672166996862521\n",
      "Iter: 31: Score: 1.6957233132957414\n",
      "Iter: 32: Score: 1.4677069387621058\n",
      "Iter: 33: Score: 1.4942875589590445\n",
      "Iter: 34: Score: 1.693418982349866\n",
      "Iter: 35: Score: 1.4776846228920342\n",
      "Iter: 36: Score: 1.485408754849916\n",
      "Iter: 37: Score: 1.513138747073016\n",
      "Iter: 38: Score: 1.4943906172713939\n",
      "Iter: 39: Score: 1.472470764552852\n",
      "Iter: 40: Score: 1.773020474018636\n",
      "Iter: 41: Score: 1.4573336479972656\n"
     ]
    },
    {
     "name": "stderr",
     "output_type": "stream",
     "text": [
      "c:\\Users\\jaman\\anaconda3\\Lib\\site-packages\\sklearn\\neural_network\\_multilayer_perceptron.py:691: ConvergenceWarning: Stochastic Optimizer: Maximum iterations (500) reached and the optimization hasn't converged yet.\n",
      "  warnings.warn(\n"
     ]
    },
    {
     "name": "stdout",
     "output_type": "stream",
     "text": [
      "Iter: 42: Score: 2.0738323643189585\n",
      "Iter: 43: Score: 1.800442780337128\n",
      "Iter: 44: Score: 1.510356396541489\n",
      "Iter: 45: Score: 1.4675624659593085\n",
      "Iter: 46: Score: 1.7298719631551476\n",
      "Iter: 47: Score: 1.4580988766603769\n"
     ]
    },
    {
     "name": "stderr",
     "output_type": "stream",
     "text": [
      "c:\\Users\\jaman\\anaconda3\\Lib\\site-packages\\sklearn\\neural_network\\_multilayer_perceptron.py:691: ConvergenceWarning: Stochastic Optimizer: Maximum iterations (500) reached and the optimization hasn't converged yet.\n",
      "  warnings.warn(\n"
     ]
    },
    {
     "name": "stdout",
     "output_type": "stream",
     "text": [
      "Iter: 48: Score: 2.152169788566098\n",
      "Iter: 49: Score: 1.4613115329718196\n",
      "      scores                                               grid\n",
      "20  1.455257  {'mlp__learning_rate_init': 0.001, 'mlp__hidde...\n",
      "Best Model: {'mlp__learning_rate_init': 0.001, 'mlp__hidden_layer_sizes': (6, 3), 'mlp__batch_size': 256, 'mlp__alpha': 1e-05}\n"
     ]
    },
    {
     "name": "stderr",
     "output_type": "stream",
     "text": [
      "2it [13:04, 401.61s/it]"
     ]
    },
    {
     "name": "stdout",
     "output_type": "stream",
     "text": [
      "(68076, 13) (7560, 13)\n",
      "Iter: 0: Score: 1.3899506645001294\n",
      "Iter: 1: Score: 1.4082853916390061\n",
      "Iter: 2: Score: 1.3983778833803657\n",
      "Iter: 3: Score: 1.446018472705023\n",
      "Iter: 4: Score: 1.4025066237740234\n",
      "Iter: 5: Score: 1.4033776147186627\n",
      "Iter: 6: Score: 1.4199062008614873\n",
      "Iter: 7: Score: 1.3881069086389803\n",
      "Iter: 8: Score: 1.4083929761943152\n",
      "Iter: 9: Score: 1.4043365080631025\n",
      "Iter: 10: Score: 1.3873088680967045\n",
      "Iter: 11: Score: 1.3844887114877618\n",
      "Iter: 12: Score: 1.3965165078074466\n",
      "Iter: 13: Score: 1.383342938749077\n",
      "Iter: 14: Score: 1.3802220615025347\n",
      "Iter: 15: Score: 1.3843863876536324\n",
      "Iter: 16: Score: 1.4008695889078053\n",
      "Iter: 17: Score: 1.3802963615691695\n",
      "Iter: 18: Score: 1.411989155679296\n",
      "Iter: 19: Score: 1.384916548295015\n",
      "Iter: 20: Score: 1.39267270987991\n",
      "Iter: 21: Score: 1.3970605048011868\n",
      "Iter: 22: Score: 1.396496870430085\n",
      "Iter: 23: Score: 1.4110602493446864\n",
      "Iter: 24: Score: 1.3914313829301896\n",
      "Iter: 25: Score: 1.3845635342208364\n",
      "Iter: 26: Score: 1.4093910750821255\n",
      "Iter: 27: Score: 1.403377513702127\n",
      "Iter: 28: Score: 1.4395480713809419\n",
      "Iter: 29: Score: 1.383958317660699\n",
      "Iter: 30: Score: 1.3830964454062715\n",
      "Iter: 31: Score: 1.3842452502499647\n",
      "Iter: 32: Score: 1.4397629049443017\n",
      "Iter: 33: Score: 1.3961664381811671\n",
      "Iter: 34: Score: 1.439758073733549\n",
      "Iter: 35: Score: 1.3872499131257399\n",
      "Iter: 36: Score: 1.3852331977358971\n",
      "Iter: 37: Score: 1.3881008759371813\n",
      "Iter: 38: Score: 1.3864512639513984\n",
      "Iter: 39: Score: 1.4059753164434172\n",
      "Iter: 40: Score: 1.4256406611134553\n",
      "Iter: 41: Score: 1.3802956447461356\n",
      "Iter: 42: Score: 1.4460411844866554\n",
      "Iter: 43: Score: 1.390193069555017\n",
      "Iter: 44: Score: 1.389860587411814\n",
      "Iter: 45: Score: 1.3854817916243587\n",
      "Iter: 46: Score: 1.4033365707798968\n",
      "Iter: 47: Score: 1.3801437133950791\n"
     ]
    },
    {
     "name": "stderr",
     "output_type": "stream",
     "text": [
      "c:\\Users\\jaman\\anaconda3\\Lib\\site-packages\\sklearn\\neural_network\\_multilayer_perceptron.py:691: ConvergenceWarning: Stochastic Optimizer: Maximum iterations (500) reached and the optimization hasn't converged yet.\n",
      "  warnings.warn(\n"
     ]
    },
    {
     "name": "stdout",
     "output_type": "stream",
     "text": [
      "Iter: 48: Score: 1.596784760753772\n",
      "Iter: 49: Score: 1.3846464607483926\n",
      "      scores                                               grid\n",
      "47  1.380144  {'mlp__learning_rate_init': 1e-05, 'mlp__hidde...\n",
      "Best Model: {'mlp__learning_rate_init': 1e-05, 'mlp__hidden_layer_sizes': (12, 6), 'mlp__batch_size': 128, 'mlp__alpha': 0.01}\n"
     ]
    },
    {
     "name": "stderr",
     "output_type": "stream",
     "text": [
      "3it [22:58, 489.21s/it]"
     ]
    },
    {
     "name": "stdout",
     "output_type": "stream",
     "text": [
      "(90756, 13) (10080, 13)\n",
      "Iter: 0: Score: 1.5070261880644134\n",
      "Iter: 1: Score: 1.4837852278880261\n",
      "Iter: 2: Score: 1.5162753381087737\n",
      "Iter: 3: Score: 1.5100229929095665\n",
      "Iter: 4: Score: 1.5182536132625737\n",
      "Iter: 5: Score: 1.5099021659987015\n",
      "Iter: 6: Score: 1.506701409136582\n",
      "Iter: 7: Score: 1.531366047340112\n",
      "Iter: 8: Score: 1.5063348888991293\n",
      "Iter: 9: Score: 1.531402102293548\n"
     ]
    },
    {
     "name": "stderr",
     "output_type": "stream",
     "text": [
      "c:\\Users\\jaman\\anaconda3\\Lib\\site-packages\\sklearn\\neural_network\\_multilayer_perceptron.py:691: ConvergenceWarning: Stochastic Optimizer: Maximum iterations (500) reached and the optimization hasn't converged yet.\n",
      "  warnings.warn(\n"
     ]
    },
    {
     "name": "stdout",
     "output_type": "stream",
     "text": [
      "Iter: 10: Score: 1.6109682005112682\n",
      "Iter: 11: Score: 1.5074244595340982\n",
      "Iter: 12: Score: 1.4922161413461728\n",
      "Iter: 13: Score: 1.507901446905601\n",
      "Iter: 14: Score: 1.5314058322789117\n",
      "Iter: 15: Score: 1.4962471705792155\n",
      "Iter: 16: Score: 1.4990791363482316\n",
      "Iter: 17: Score: 1.4842439207974996\n",
      "Iter: 18: Score: 1.5179675747736285\n",
      "Iter: 19: Score: 1.503364473105036\n",
      "Iter: 20: Score: 1.5209570243396526\n",
      "Iter: 21: Score: 1.5226756191894133\n",
      "Iter: 22: Score: 1.5135965584709214\n",
      "Iter: 23: Score: 1.5005720273277654\n",
      "Iter: 24: Score: 1.486273740376271\n",
      "Iter: 25: Score: 1.5019155636309391\n",
      "Iter: 26: Score: 1.4945696609398615\n",
      "Iter: 27: Score: 1.492681784333824\n",
      "Iter: 28: Score: 1.5067803794687917\n",
      "Iter: 29: Score: 1.494807687460788\n",
      "Iter: 30: Score: 1.4953553698533621\n",
      "Iter: 31: Score: 1.498331044001922\n",
      "Iter: 32: Score: 1.508827314266731\n",
      "Iter: 33: Score: 1.503580840705988\n",
      "Iter: 34: Score: 1.496238375711479\n",
      "Iter: 35: Score: 1.489607077530534\n",
      "Iter: 36: Score: 1.5018035937046545\n",
      "Iter: 37: Score: 1.4960320502210254\n",
      "Iter: 38: Score: 1.4949463801830465\n",
      "Iter: 39: Score: 1.4866040149726194\n",
      "Iter: 40: Score: 1.509900426119775\n",
      "Iter: 41: Score: 1.5226685655092405\n",
      "Iter: 42: Score: 1.5033588285987167\n",
      "Iter: 43: Score: 1.5182276112187532\n",
      "Iter: 44: Score: 1.5019227585702994\n",
      "Iter: 45: Score: 1.4944316661773183\n",
      "Iter: 46: Score: 1.4987814839273508\n",
      "Iter: 47: Score: 1.5276365298387415\n",
      "Iter: 48: Score: 1.5144127064939985\n",
      "Iter: 49: Score: 1.506885679487261\n",
      "     scores                                               grid\n",
      "1  1.483785  {'mlp__learning_rate_init': 0.001, 'mlp__hidde...\n",
      "Best Model: {'mlp__learning_rate_init': 0.001, 'mlp__hidden_layer_sizes': (6, 3), 'mlp__batch_size': 32, 'mlp__alpha': 1e-06}\n"
     ]
    },
    {
     "name": "stderr",
     "output_type": "stream",
     "text": [
      "4it [33:00, 495.03s/it]\n",
      "0it [00:00, ?it/s]"
     ]
    },
    {
     "name": "stdout",
     "output_type": "stream",
     "text": [
      "4\n",
      "(22698, 13) (2520, 13)\n",
      "Iter: 0: Score: 1.5343369275448737\n",
      "Iter: 1: Score: 1.5696580059218896\n",
      "Iter: 2: Score: 1.516485672244892\n",
      "Iter: 3: Score: 1.5346780112732306\n",
      "Iter: 4: Score: 1.546691448945916\n",
      "Iter: 5: Score: 1.5185480181293116\n",
      "Iter: 6: Score: 1.578813678031043\n",
      "Iter: 7: Score: 1.553195470388747\n",
      "Iter: 8: Score: 1.5135437189863141\n",
      "Iter: 9: Score: 1.6176393448718585\n"
     ]
    },
    {
     "name": "stderr",
     "output_type": "stream",
     "text": [
      "c:\\Users\\jaman\\anaconda3\\Lib\\site-packages\\sklearn\\neural_network\\_multilayer_perceptron.py:691: ConvergenceWarning: Stochastic Optimizer: Maximum iterations (500) reached and the optimization hasn't converged yet.\n",
      "  warnings.warn(\n"
     ]
    },
    {
     "name": "stdout",
     "output_type": "stream",
     "text": [
      "Iter: 10: Score: 1.7783087476435455\n"
     ]
    },
    {
     "name": "stderr",
     "output_type": "stream",
     "text": [
      "c:\\Users\\jaman\\anaconda3\\Lib\\site-packages\\sklearn\\neural_network\\_multilayer_perceptron.py:691: ConvergenceWarning: Stochastic Optimizer: Maximum iterations (500) reached and the optimization hasn't converged yet.\n",
      "  warnings.warn(\n"
     ]
    },
    {
     "name": "stdout",
     "output_type": "stream",
     "text": [
      "Iter: 11: Score: 1.9967005776039495\n",
      "Iter: 12: Score: 1.5745358000315106\n",
      "Iter: 13: Score: 1.514004838923503\n",
      "Iter: 14: Score: 1.6405111689905332\n",
      "Iter: 15: Score: 1.5140908562486355\n",
      "Iter: 16: Score: 1.5185515920816934\n",
      "Iter: 17: Score: 1.5079384971798615\n",
      "Iter: 18: Score: 1.5293589934834684\n",
      "Iter: 19: Score: 1.580653257637794\n",
      "Iter: 20: Score: 1.5287417482522028\n",
      "Iter: 21: Score: 1.524709420831576\n",
      "Iter: 22: Score: 1.597271363502802\n",
      "Iter: 23: Score: 1.5317123387123754\n",
      "Iter: 24: Score: 1.585930052219177\n"
     ]
    },
    {
     "name": "stderr",
     "output_type": "stream",
     "text": [
      "c:\\Users\\jaman\\anaconda3\\Lib\\site-packages\\sklearn\\neural_network\\_multilayer_perceptron.py:691: ConvergenceWarning: Stochastic Optimizer: Maximum iterations (500) reached and the optimization hasn't converged yet.\n",
      "  warnings.warn(\n"
     ]
    },
    {
     "name": "stdout",
     "output_type": "stream",
     "text": [
      "Iter: 25: Score: 1.5882186569320145\n",
      "Iter: 26: Score: 1.5369124580687685\n"
     ]
    },
    {
     "name": "stderr",
     "output_type": "stream",
     "text": [
      "c:\\Users\\jaman\\anaconda3\\Lib\\site-packages\\sklearn\\neural_network\\_multilayer_perceptron.py:691: ConvergenceWarning: Stochastic Optimizer: Maximum iterations (500) reached and the optimization hasn't converged yet.\n",
      "  warnings.warn(\n"
     ]
    },
    {
     "name": "stdout",
     "output_type": "stream",
     "text": [
      "Iter: 27: Score: 1.778308727766601\n",
      "Iter: 28: Score: 1.5745497181452583\n",
      "Iter: 29: Score: 1.553211411013444\n",
      "Iter: 30: Score: 1.5144129568666578\n",
      "Iter: 31: Score: 1.5788148917624185\n",
      "Iter: 32: Score: 1.5141209142546526\n",
      "Iter: 33: Score: 1.525961175387534\n",
      "Iter: 34: Score: 1.5430765685322982\n",
      "Iter: 35: Score: 1.6405112940508497\n"
     ]
    },
    {
     "name": "stderr",
     "output_type": "stream",
     "text": [
      "c:\\Users\\jaman\\anaconda3\\Lib\\site-packages\\sklearn\\neural_network\\_multilayer_perceptron.py:691: ConvergenceWarning: Stochastic Optimizer: Maximum iterations (500) reached and the optimization hasn't converged yet.\n",
      "  warnings.warn(\n"
     ]
    },
    {
     "name": "stdout",
     "output_type": "stream",
     "text": [
      "Iter: 36: Score: 1.5882246378958116\n",
      "Iter: 37: Score: 1.574557756525366\n",
      "Iter: 38: Score: 1.528553942399463\n",
      "Iter: 39: Score: 1.5425903285459235\n",
      "Iter: 40: Score: 1.5840456658848232\n",
      "Iter: 41: Score: 1.507608529838816\n",
      "Iter: 42: Score: 1.5317328970320803\n"
     ]
    },
    {
     "name": "stderr",
     "output_type": "stream",
     "text": [
      "c:\\Users\\jaman\\anaconda3\\Lib\\site-packages\\sklearn\\neural_network\\_multilayer_perceptron.py:691: ConvergenceWarning: Stochastic Optimizer: Maximum iterations (500) reached and the optimization hasn't converged yet.\n",
      "  warnings.warn(\n"
     ]
    },
    {
     "name": "stdout",
     "output_type": "stream",
     "text": [
      "Iter: 43: Score: 1.5882246199281023\n",
      "Iter: 44: Score: 1.5760328000155073\n",
      "Iter: 45: Score: 1.5346903660001314\n",
      "Iter: 46: Score: 1.508011260393287\n",
      "Iter: 47: Score: 1.5369760082925163\n",
      "Iter: 48: Score: 1.578765212086901\n",
      "Iter: 49: Score: 1.5806575080941432\n",
      "      scores                                               grid\n",
      "41  1.507609  {'mlp__learning_rate_init': 1e-05, 'mlp__hidde...\n",
      "Best Model: {'mlp__learning_rate_init': 1e-05, 'mlp__hidden_layer_sizes': (6, 3), 'mlp__batch_size': 32, 'mlp__alpha': 0.01}\n"
     ]
    },
    {
     "name": "stderr",
     "output_type": "stream",
     "text": [
      "1it [06:23, 383.89s/it]"
     ]
    },
    {
     "name": "stdout",
     "output_type": "stream",
     "text": [
      "(45396, 13) (5040, 13)\n",
      "Iter: 0: Score: 1.472956252521877\n"
     ]
    },
    {
     "name": "stderr",
     "output_type": "stream",
     "text": [
      "c:\\Users\\jaman\\anaconda3\\Lib\\site-packages\\sklearn\\neural_network\\_multilayer_perceptron.py:691: ConvergenceWarning: Stochastic Optimizer: Maximum iterations (500) reached and the optimization hasn't converged yet.\n",
      "  warnings.warn(\n"
     ]
    },
    {
     "name": "stdout",
     "output_type": "stream",
     "text": [
      "Iter: 1: Score: 1.6733562920503569\n",
      "Iter: 2: Score: 1.5350693295396507\n"
     ]
    },
    {
     "name": "stderr",
     "output_type": "stream",
     "text": [
      "c:\\Users\\jaman\\anaconda3\\Lib\\site-packages\\sklearn\\neural_network\\_multilayer_perceptron.py:691: ConvergenceWarning: Stochastic Optimizer: Maximum iterations (500) reached and the optimization hasn't converged yet.\n",
      "  warnings.warn(\n"
     ]
    },
    {
     "name": "stdout",
     "output_type": "stream",
     "text": [
      "Iter: 3: Score: 2.073819755561519\n"
     ]
    },
    {
     "name": "stderr",
     "output_type": "stream",
     "text": [
      "c:\\Users\\jaman\\anaconda3\\Lib\\site-packages\\sklearn\\neural_network\\_multilayer_perceptron.py:691: ConvergenceWarning: Stochastic Optimizer: Maximum iterations (500) reached and the optimization hasn't converged yet.\n",
      "  warnings.warn(\n"
     ]
    },
    {
     "name": "stdout",
     "output_type": "stream",
     "text": [
      "Iter: 4: Score: 2.0738323643189585\n",
      "Iter: 5: Score: 1.4686150926545392\n",
      "Iter: 6: Score: 1.5103516036070639\n",
      "Iter: 7: Score: 1.7730543404694077\n",
      "Iter: 8: Score: 2.504101553092651\n",
      "Iter: 9: Score: 1.4943907337873767\n",
      "Iter: 10: Score: 2.1491997745257034\n",
      "Iter: 11: Score: 1.6188985166914025\n",
      "Iter: 12: Score: 1.4854106393124773\n",
      "Iter: 13: Score: 1.898816016495261\n",
      "Iter: 14: Score: 1.4943906172713939\n",
      "Iter: 15: Score: 1.810303317809146\n",
      "Iter: 16: Score: 1.6927925111710058\n",
      "Iter: 17: Score: 1.8031979480628981\n",
      "Iter: 18: Score: 1.461747115566493\n",
      "Iter: 19: Score: 1.488879843512757\n",
      "Iter: 20: Score: 1.4552570471528183\n",
      "Iter: 21: Score: 1.9215484800509526\n",
      "Iter: 22: Score: 1.4852340319068693\n",
      "Iter: 23: Score: 1.5257576485458748\n",
      "Iter: 24: Score: 1.8105012903919853\n",
      "Iter: 25: Score: 1.7298719631551476\n",
      "Iter: 26: Score: 2.2993724422721273\n"
     ]
    },
    {
     "name": "stderr",
     "output_type": "stream",
     "text": [
      "c:\\Users\\jaman\\anaconda3\\Lib\\site-packages\\sklearn\\neural_network\\_multilayer_perceptron.py:691: ConvergenceWarning: Stochastic Optimizer: Maximum iterations (500) reached and the optimization hasn't converged yet.\n",
      "  warnings.warn(\n"
     ]
    },
    {
     "name": "stdout",
     "output_type": "stream",
     "text": [
      "Iter: 27: Score: 2.1521856467534226\n",
      "Iter: 28: Score: 1.4809722061856507\n",
      "Iter: 29: Score: 1.5350694984022253\n"
     ]
    },
    {
     "name": "stderr",
     "output_type": "stream",
     "text": [
      "c:\\Users\\jaman\\anaconda3\\Lib\\site-packages\\sklearn\\neural_network\\_multilayer_perceptron.py:691: ConvergenceWarning: Stochastic Optimizer: Maximum iterations (500) reached and the optimization hasn't converged yet.\n",
      "  warnings.warn(\n"
     ]
    },
    {
     "name": "stdout",
     "output_type": "stream",
     "text": [
      "Iter: 30: Score: 2.1521838377503766\n",
      "Iter: 31: Score: 1.5131892972043097\n"
     ]
    },
    {
     "name": "stderr",
     "output_type": "stream",
     "text": [
      "c:\\Users\\jaman\\anaconda3\\Lib\\site-packages\\sklearn\\neural_network\\_multilayer_perceptron.py:691: ConvergenceWarning: Stochastic Optimizer: Maximum iterations (500) reached and the optimization hasn't converged yet.\n",
      "  warnings.warn(\n"
     ]
    },
    {
     "name": "stdout",
     "output_type": "stream",
     "text": [
      "Iter: 32: Score: 1.6733746081412586\n",
      "Iter: 33: Score: 1.4943902542855807\n",
      "Iter: 34: Score: 1.7980995322271227\n",
      "Iter: 35: Score: 1.5114853751894353\n",
      "Iter: 36: Score: 1.8966419991057513\n",
      "Iter: 37: Score: 1.513184721473235\n",
      "Iter: 38: Score: 1.4900508612441958\n",
      "Iter: 39: Score: 1.4579561963529155\n",
      "Iter: 40: Score: 1.4764603479874063\n",
      "Iter: 41: Score: 1.5350513843476248\n",
      "Iter: 42: Score: 1.6957233132957414\n",
      "Iter: 43: Score: 1.485442105283069\n",
      "Iter: 44: Score: 1.4864857033167995\n",
      "Iter: 45: Score: 1.4729740174790393\n",
      "Iter: 46: Score: 1.8201098848627169\n",
      "Iter: 47: Score: 1.4563272219230186\n",
      "Iter: 48: Score: 1.8023717839876146\n",
      "Iter: 49: Score: 1.8100308621570194\n",
      "      scores                                               grid\n",
      "20  1.455257  {'mlp__learning_rate_init': 0.001, 'mlp__hidde...\n",
      "Best Model: {'mlp__learning_rate_init': 0.001, 'mlp__hidden_layer_sizes': (6, 3), 'mlp__batch_size': 256, 'mlp__alpha': 1e-06}\n"
     ]
    },
    {
     "name": "stderr",
     "output_type": "stream",
     "text": [
      "2it [14:00, 426.70s/it]"
     ]
    },
    {
     "name": "stdout",
     "output_type": "stream",
     "text": [
      "(68076, 13) (7560, 13)\n",
      "Iter: 0: Score: 1.400149753705966\n",
      "Iter: 1: Score: 1.393392255864178\n",
      "Iter: 2: Score: 1.4141301785603457\n",
      "Iter: 3: Score: 1.3852331977358971\n",
      "Iter: 4: Score: 1.3802963615691695\n",
      "Iter: 5: Score: 1.4084254902560283\n",
      "Iter: 6: Score: 1.3910311324356648\n",
      "Iter: 7: Score: 1.4110602493446864\n",
      "Iter: 8: Score: 1.3873878288479689\n",
      "Iter: 9: Score: 1.3802242927967598\n",
      "Iter: 10: Score: 1.3899471328571067\n",
      "Iter: 11: Score: 1.396496870430085\n"
     ]
    },
    {
     "name": "stderr",
     "output_type": "stream",
     "text": [
      "c:\\Users\\jaman\\anaconda3\\Lib\\site-packages\\sklearn\\neural_network\\_multilayer_perceptron.py:691: ConvergenceWarning: Stochastic Optimizer: Maximum iterations (500) reached and the optimization hasn't converged yet.\n",
      "  warnings.warn(\n"
     ]
    },
    {
     "name": "stdout",
     "output_type": "stream",
     "text": [
      "Iter: 12: Score: 1.596784760753772\n",
      "Iter: 13: Score: 1.4460368219661501\n",
      "Iter: 14: Score: 1.3881069468158216\n",
      "Iter: 15: Score: 1.4063050878628416\n",
      "Iter: 16: Score: 1.388041708865007\n",
      "Iter: 17: Score: 1.3885940305487054\n",
      "Iter: 18: Score: 1.4008521620673757\n",
      "Iter: 19: Score: 1.3845929915349453\n",
      "Iter: 20: Score: 1.3843863876536324\n",
      "Iter: 21: Score: 1.3872499131257399\n",
      "Iter: 22: Score: 1.393399426133024\n",
      "Iter: 23: Score: 1.4007069038009956\n",
      "Iter: 24: Score: 1.408430232889951\n",
      "Iter: 25: Score: 1.3986357243020127\n",
      "Iter: 26: Score: 1.403377513702127\n",
      "Iter: 27: Score: 1.4397624051215043\n",
      "Iter: 28: Score: 1.4085813266950757\n",
      "Iter: 29: Score: 1.3830964454062715\n",
      "Iter: 30: Score: 1.3803826639954158\n",
      "Iter: 31: Score: 1.3899326755155863\n",
      "Iter: 32: Score: 1.4024288760918098\n",
      "Iter: 33: Score: 1.4009286868377375\n",
      "Iter: 34: Score: 1.402089114075139\n",
      "Iter: 35: Score: 1.3803840759420938\n",
      "Iter: 36: Score: 1.408562965654131\n",
      "Iter: 37: Score: 1.4043496349721503\n",
      "Iter: 38: Score: 1.3996263786290852\n",
      "Iter: 39: Score: 1.3843345093837482\n",
      "Iter: 40: Score: 1.38816344149651\n",
      "Iter: 41: Score: 1.4044664736729395\n",
      "Iter: 42: Score: 1.3802957310806248\n",
      "Iter: 43: Score: 1.401957624680331\n",
      "Iter: 44: Score: 1.3881751314423232\n",
      "Iter: 45: Score: 1.3899438591373194\n",
      "Iter: 46: Score: 1.3845854867673322\n",
      "Iter: 47: Score: 1.3844067758786205\n",
      "Iter: 48: Score: 1.3845960020915495\n",
      "Iter: 49: Score: 1.3864022517692423\n",
      "     scores                                               grid\n",
      "9  1.380224  {'mlp__learning_rate_init': 1e-05, 'mlp__hidde...\n",
      "Best Model: {'mlp__learning_rate_init': 1e-05, 'mlp__hidden_layer_sizes': (12, 6), 'mlp__batch_size': 128, 'mlp__alpha': 0.001}\n"
     ]
    },
    {
     "name": "stderr",
     "output_type": "stream",
     "text": [
      "3it [30:17, 677.77s/it]"
     ]
    },
    {
     "name": "stdout",
     "output_type": "stream",
     "text": [
      "(90756, 13) (10080, 13)\n",
      "Iter: 0: Score: 1.5225577802585057\n",
      "Iter: 1: Score: 1.5054585621440308\n",
      "Iter: 2: Score: 1.518256860041431\n",
      "Iter: 3: Score: 1.5069427866936167\n",
      "Iter: 4: Score: 1.4983307994044415\n",
      "Iter: 5: Score: 1.4987814839273508\n",
      "Iter: 6: Score: 1.5019227585702994\n",
      "Iter: 7: Score: 1.5035985872229904\n",
      "Iter: 8: Score: 1.4954186639893452\n",
      "Iter: 9: Score: 1.5276365298387415\n",
      "Iter: 10: Score: 1.488961845021126\n",
      "Iter: 11: Score: 1.506290456276585\n",
      "Iter: 12: Score: 1.5067625058967644\n",
      "Iter: 13: Score: 1.5072758172316225\n",
      "Iter: 14: Score: 1.5022826955929844\n",
      "Iter: 15: Score: 1.520871328793544\n",
      "Iter: 16: Score: 1.5079070272863697\n",
      "Iter: 17: Score: 1.5107356390471451\n",
      "Iter: 18: Score: 1.5314058521380767\n",
      "Iter: 19: Score: 1.4872979581293213\n",
      "Iter: 20: Score: 1.5209579127033173\n",
      "Iter: 21: Score: 1.4983340576024657\n",
      "Iter: 22: Score: 1.5033588285987167\n",
      "Iter: 23: Score: 1.5226685655092405\n",
      "Iter: 24: Score: 1.496217043420794\n"
     ]
    },
    {
     "name": "stderr",
     "output_type": "stream",
     "text": [
      "c:\\Users\\jaman\\anaconda3\\Lib\\site-packages\\sklearn\\neural_network\\_multilayer_perceptron.py:691: ConvergenceWarning: Stochastic Optimizer: Maximum iterations (500) reached and the optimization hasn't converged yet.\n",
      "  warnings.warn(\n"
     ]
    },
    {
     "name": "stdout",
     "output_type": "stream",
     "text": [
      "Iter: 25: Score: 1.6109682005112682\n",
      "Iter: 26: Score: 1.503580840705988\n",
      "Iter: 27: Score: 1.4872091972832053\n",
      "Iter: 28: Score: 1.5081566417111774\n",
      "Iter: 29: Score: 1.5026740337860818\n",
      "Iter: 30: Score: 1.5029365972386803\n",
      "Iter: 31: Score: 1.5049421077830838\n",
      "Iter: 32: Score: 1.4986543479248249\n",
      "Iter: 33: Score: 1.506885679487261\n",
      "Iter: 34: Score: 1.4866479901672327\n",
      "Iter: 35: Score: 1.4988127767691857\n",
      "Iter: 36: Score: 1.4871058021776147\n",
      "Iter: 37: Score: 1.5008068056074126\n",
      "Iter: 38: Score: 1.4889494918219217\n",
      "Iter: 39: Score: 1.5352172690611745\n",
      "Iter: 40: Score: 1.5049538300670562\n",
      "Iter: 41: Score: 1.4893838012253215\n",
      "Iter: 42: Score: 1.4892189966309224\n",
      "Iter: 43: Score: 1.4867155183212197\n",
      "Iter: 44: Score: 1.503938617641269\n",
      "Iter: 45: Score: 1.4962471705792155\n",
      "Iter: 46: Score: 1.5127309290771658\n",
      "Iter: 47: Score: 1.5179675747736285\n",
      "Iter: 48: Score: 1.4963837314425024\n",
      "Iter: 49: Score: 1.4921029870292077\n",
      "      scores                                               grid\n",
      "34  1.486648  {'mlp__learning_rate_init': 0.0001, 'mlp__hidd...\n",
      "Best Model: {'mlp__learning_rate_init': 0.0001, 'mlp__hidden_layer_sizes': (6, 3), 'mlp__batch_size': 32, 'mlp__alpha': 1e-05}\n"
     ]
    },
    {
     "name": "stderr",
     "output_type": "stream",
     "text": [
      "4it [41:13, 618.34s/it]\n",
      "0it [00:00, ?it/s]"
     ]
    },
    {
     "name": "stdout",
     "output_type": "stream",
     "text": [
      "4\n",
      "(22698, 13) (2520, 13)\n",
      "Iter: 0: Score: 1.5045307470349951\n",
      "Iter: 1: Score: 1.5051193698271668\n",
      "Iter: 2: Score: 1.5021570968784421\n",
      "Iter: 3: Score: 1.5051243208085903\n",
      "Iter: 4: Score: 1.5051204180713855\n",
      "Iter: 5: Score: 1.5051008515128061\n",
      "Iter: 6: Score: 1.5011795887475294\n",
      "Iter: 7: Score: 1.5050904553947604\n",
      "Iter: 8: Score: 1.5051211780833404\n",
      "Iter: 9: Score: 1.5043791968957907\n",
      "Iter: 10: Score: 1.5019506810650698\n",
      "Iter: 11: Score: 1.5048950356735933\n",
      "Iter: 12: Score: 1.505122890940164\n",
      "Iter: 13: Score: 1.5017915557537773\n",
      "Iter: 14: Score: 1.5051217505030727\n",
      "Iter: 15: Score: 1.5051234633545894\n",
      "Iter: 16: Score: 1.5050564109148492\n",
      "Iter: 17: Score: 1.5051237486957914\n",
      "Iter: 18: Score: 1.505030788398937\n",
      "Iter: 19: Score: 1.5051256555251182\n",
      "Iter: 20: Score: 1.5050989589131503\n",
      "Iter: 21: Score: 1.50438899610845\n",
      "Iter: 22: Score: 1.500423724517486\n",
      "Iter: 23: Score: 1.5051196543889922\n",
      "Iter: 24: Score: 1.5046809922159718\n",
      "Iter: 25: Score: 1.5050488085871505\n",
      "Iter: 26: Score: 1.5047331114809541\n",
      "Iter: 27: Score: 1.504219497465067\n",
      "Iter: 28: Score: 1.504840139307951\n",
      "Iter: 29: Score: 1.5003803071293247\n",
      "Iter: 30: Score: 1.5049043092567898\n",
      "Iter: 31: Score: 1.5008809462722303\n",
      "Iter: 32: Score: 1.5002303357091056\n",
      "Iter: 33: Score: 1.505125846178967\n",
      "Iter: 34: Score: 1.5050507074940738\n",
      "Iter: 35: Score: 1.5046553370370963\n",
      "Iter: 36: Score: 1.505079129459953\n",
      "Iter: 37: Score: 1.5010603526577146\n",
      "Iter: 38: Score: 1.5044986650860748\n",
      "Iter: 39: Score: 1.5051212749743392\n",
      "Iter: 40: Score: 1.5012565599178092\n",
      "Iter: 41: Score: 1.5050923407329349\n",
      "Iter: 42: Score: 1.5013945181480344\n",
      "Iter: 43: Score: 1.5051188919089575\n",
      "Iter: 44: Score: 1.5046468406041642\n",
      "Iter: 45: Score: 1.503121097363874\n",
      "Iter: 46: Score: 1.5051247025017374\n",
      "Iter: 47: Score: 1.5050951768218264\n",
      "Iter: 48: Score: 1.500780355725714\n"
     ]
    },
    {
     "name": "stderr",
     "output_type": "stream",
     "text": [
      "1it [00:06,  7.00s/it]"
     ]
    },
    {
     "name": "stdout",
     "output_type": "stream",
     "text": [
      "Iter: 49: Score: 1.505122416854154\n",
      "     scores                                               grid\n",
      "32  1.50023  {'net__l1_ratio': 0.8599999999999995, 'net__al...\n",
      "Best Model: {'net__l1_ratio': 0.8599999999999995, 'net__alpha': 0.01}\n",
      "(45396, 13) (5040, 13)\n",
      "Iter: 0: Score: 1.4417633849262483\n",
      "Iter: 1: Score: 1.4444566607144562\n",
      "Iter: 2: Score: 1.4416637860374306\n",
      "Iter: 3: Score: 1.4416395072818395\n",
      "Iter: 4: Score: 1.4416513640572777\n",
      "Iter: 5: Score: 1.4417933531387637\n",
      "Iter: 6: Score: 1.4416308564705589\n",
      "Iter: 7: Score: 1.4417925984781017\n",
      "Iter: 8: Score: 1.4426670917475886\n",
      "Iter: 9: Score: 1.4444375700412784\n",
      "Iter: 10: Score: 1.4420196826284206\n",
      "Iter: 11: Score: 1.4417652634942209\n",
      "Iter: 12: Score: 1.4417607769137264\n",
      "Iter: 13: Score: 1.4417586756738172\n",
      "Iter: 14: Score: 1.44302712417052\n",
      "Iter: 15: Score: 1.4416348416877587\n",
      "Iter: 16: Score: 1.4417581953445913\n",
      "Iter: 17: Score: 1.4417721198746518\n",
      "Iter: 18: Score: 1.441759455718743\n",
      "Iter: 19: Score: 1.4417942328474416\n",
      "Iter: 20: Score: 1.4416421646706372\n",
      "Iter: 21: Score: 1.4438873728287789\n",
      "Iter: 22: Score: 1.441637433847506\n",
      "Iter: 23: Score: 1.444522018936175\n",
      "Iter: 24: Score: 1.4444981537687223\n",
      "Iter: 25: Score: 1.4417738040532229\n",
      "Iter: 26: Score: 1.4417685291954303\n",
      "Iter: 27: Score: 1.4417690748362617\n",
      "Iter: 28: Score: 1.4417943232438328\n",
      "Iter: 29: Score: 1.4444665624372235\n",
      "Iter: 30: Score: 1.4417740871129212\n",
      "Iter: 31: Score: 1.4417754987007783\n",
      "Iter: 32: Score: 1.4417631364004775\n",
      "Iter: 33: Score: 1.4416563935113889\n",
      "Iter: 34: Score: 1.441774934691928\n",
      "Iter: 35: Score: 1.4417922975367699\n",
      "Iter: 36: Score: 1.4417628883106963\n",
      "Iter: 37: Score: 1.4417935053578965\n",
      "Iter: 38: Score: 1.441758972658866\n",
      "Iter: 39: Score: 1.441634143691466\n",
      "Iter: 40: Score: 1.4442276324802052\n",
      "Iter: 41: Score: 1.4444313345599036\n",
      "Iter: 42: Score: 1.441792507850976\n",
      "Iter: 43: Score: 1.4444873353533885\n",
      "Iter: 44: Score: 1.4416480603477029\n",
      "Iter: 45: Score: 1.4416622213664134\n",
      "Iter: 46: Score: 1.4417939296773734\n",
      "Iter: 47: Score: 1.4416670493032528\n",
      "Iter: 48: Score: 1.4417729528274887\n",
      "Iter: 49: Score: 1.442096401126552\n",
      "     scores                                               grid\n",
      "6  1.441631  {'net__l1_ratio': 0.30999999999999994, 'net__a...\n",
      "Best Model: {'net__l1_ratio': 0.30999999999999994, 'net__alpha': 0.001}\n"
     ]
    },
    {
     "name": "stderr",
     "output_type": "stream",
     "text": [
      "2it [00:16,  8.23s/it]"
     ]
    },
    {
     "name": "stdout",
     "output_type": "stream",
     "text": [
      "(68076, 13) (7560, 13)\n",
      "Iter: 0: Score: 1.3829304358300978\n",
      "Iter: 1: Score: 1.3839909675871516\n",
      "Iter: 2: Score: 1.383985416171783\n",
      "Iter: 3: Score: 1.3834818782401257\n",
      "Iter: 4: Score: 1.384197813341672\n",
      "Iter: 5: Score: 1.3842238674615417\n",
      "Iter: 6: Score: 1.3842025833584843\n",
      "Iter: 7: Score: 1.3837734478379966\n",
      "Iter: 8: Score: 1.3842388434577968\n",
      "Iter: 9: Score: 1.3837654215408577\n",
      "Iter: 10: Score: 1.3842245591173985\n",
      "Iter: 11: Score: 1.3841876595951121\n",
      "Iter: 12: Score: 1.3842412260505244\n",
      "Iter: 13: Score: 1.3841937399731852\n",
      "Iter: 14: Score: 1.381386067231184\n",
      "Iter: 15: Score: 1.3842397537126243\n",
      "Iter: 16: Score: 1.3841910334439427\n",
      "Iter: 17: Score: 1.3842391936958356\n",
      "Iter: 18: Score: 1.3842386334727348\n",
      "Iter: 19: Score: 1.3842405246705842\n",
      "Iter: 20: Score: 1.3841024415778338\n",
      "Iter: 21: Score: 1.3841795829064498\n",
      "Iter: 22: Score: 1.384194425734931\n",
      "Iter: 23: Score: 1.3841930658422366\n",
      "Iter: 24: Score: 1.3842414364692108\n",
      "Iter: 25: Score: 1.3841998534231983\n",
      "Iter: 26: Score: 1.3819625314308213\n",
      "Iter: 27: Score: 1.3838809662525662\n",
      "Iter: 28: Score: 1.3842224844672095\n",
      "Iter: 29: Score: 1.3842380033638821\n",
      "Iter: 30: Score: 1.3816802031268554\n",
      "Iter: 31: Score: 1.3827710045355945\n",
      "Iter: 32: Score: 1.3837536682224367\n",
      "Iter: 33: Score: 1.3842128466226942\n",
      "Iter: 34: Score: 1.3842407350014405\n",
      "Iter: 35: Score: 1.384216283129721\n",
      "Iter: 36: Score: 1.3841815878093084\n",
      "Iter: 37: Score: 1.3842420680690841\n",
      "Iter: 38: Score: 1.3842149091674512\n",
      "Iter: 39: Score: 1.3839421025473633\n",
      "Iter: 40: Score: 1.3827506273408776\n",
      "Iter: 41: Score: 1.384237862877552\n",
      "Iter: 42: Score: 1.384237793267769\n",
      "Iter: 43: Score: 1.3824340438980818\n",
      "Iter: 44: Score: 1.3842394036137589\n",
      "Iter: 45: Score: 1.384240665269341\n",
      "Iter: 46: Score: 1.3834589602291532\n"
     ]
    },
    {
     "name": "stderr",
     "output_type": "stream",
     "text": [
      "3it [00:26,  9.37s/it]"
     ]
    },
    {
     "name": "stdout",
     "output_type": "stream",
     "text": [
      "Iter: 47: Score: 1.3842314899745956\n",
      "Iter: 48: Score: 1.3817107551322436\n",
      "Iter: 49: Score: 1.3826660312442818\n",
      "      scores                                               grid\n",
      "14  1.381386  {'net__l1_ratio': 0.7299999999999996, 'net__al...\n",
      "Best Model: {'net__l1_ratio': 0.7299999999999996, 'net__alpha': 0.01}\n",
      "(90756, 13) (10080, 13)\n",
      "Iter: 0: Score: 1.4858577695495454\n",
      "Iter: 1: Score: 1.4867150204238488\n",
      "Iter: 2: Score: 1.4845940685839174\n",
      "Iter: 3: Score: 1.4868164414508935\n",
      "Iter: 4: Score: 1.4849549785497211\n",
      "Iter: 5: Score: 1.4868143929142672\n",
      "Iter: 6: Score: 1.4868016533780226\n",
      "Iter: 7: Score: 1.4859239397819433\n",
      "Iter: 8: Score: 1.4868077934547168\n",
      "Iter: 9: Score: 1.4866369843377965\n",
      "Iter: 10: Score: 1.4848497759797816\n",
      "Iter: 11: Score: 1.4866214684913754\n",
      "Iter: 12: Score: 1.4852872656323115\n",
      "Iter: 13: Score: 1.4846829500204108\n",
      "Iter: 14: Score: 1.486089344123505\n",
      "Iter: 15: Score: 1.4868082493990105\n",
      "Iter: 16: Score: 1.4868109791268667\n",
      "Iter: 17: Score: 1.4866703655043718\n",
      "Iter: 18: Score: 1.485808215110898\n",
      "Iter: 19: Score: 1.4867105519078496\n",
      "Iter: 20: Score: 1.4866103678327052\n",
      "Iter: 21: Score: 1.4858949363712222\n",
      "Iter: 22: Score: 1.4866081151366168\n",
      "Iter: 23: Score: 1.4867329233429285\n",
      "Iter: 24: Score: 1.4845602475195916\n",
      "Iter: 25: Score: 1.48680916081704\n",
      "Iter: 26: Score: 1.4858125376245148\n",
      "Iter: 27: Score: 1.4868062029313973\n",
      "Iter: 28: Score: 1.4868055204592545\n",
      "Iter: 29: Score: 1.486739640766169\n",
      "Iter: 30: Score: 1.486688186640612\n",
      "Iter: 31: Score: 1.486683755430961\n",
      "Iter: 32: Score: 1.4861250728141708\n",
      "Iter: 33: Score: 1.4859659931777887\n",
      "Iter: 34: Score: 1.4866391889197024\n",
      "Iter: 35: Score: 1.4868130274558793\n",
      "Iter: 36: Score: 1.4867239597684014\n",
      "Iter: 37: Score: 1.4867284306664057\n",
      "Iter: 38: Score: 1.4858672878339902\n",
      "Iter: 39: Score: 1.486805976898868\n",
      "Iter: 40: Score: 1.4868146209658433\n",
      "Iter: 41: Score: 1.485422953866078\n",
      "Iter: 42: Score: 1.486803703000922\n",
      "Iter: 43: Score: 1.4868132558741767\n",
      "Iter: 44: Score: 1.4849196439596921\n",
      "Iter: 45: Score: 1.486775547924652\n",
      "Iter: 46: Score: 1.4860228734781247\n",
      "Iter: 47: Score: 1.486753093360393\n",
      "Iter: 48: Score: 1.4859122255554595\n"
     ]
    },
    {
     "name": "stderr",
     "output_type": "stream",
     "text": [
      "4it [00:37,  9.43s/it]\n"
     ]
    },
    {
     "name": "stdout",
     "output_type": "stream",
     "text": [
      "Iter: 49: Score: 1.4867038362768417\n",
      "     scores                                               grid\n",
      "24  1.48456  {'net__l1_ratio': 0.5299999999999998, 'net__al...\n",
      "Best Model: {'net__l1_ratio': 0.5299999999999998, 'net__alpha': 0.01}\n"
     ]
    },
    {
     "name": "stderr",
     "output_type": "stream",
     "text": [
      "0it [00:00, ?it/s]"
     ]
    },
    {
     "name": "stdout",
     "output_type": "stream",
     "text": [
      "4\n",
      "(22698, 13) (2520, 13)\n",
      "Iter: 0: Score: 1.5016574642637024\n",
      "Iter: 1: Score: 1.5011826749440342\n",
      "Iter: 2: Score: 1.5016978301365107\n",
      "Iter: 3: Score: 1.4996151147636048\n",
      "Iter: 4: Score: 1.5016701526735905\n",
      "Iter: 5: Score: 1.5015583850217156\n",
      "Iter: 6: Score: 1.4990790757667063\n",
      "Iter: 7: Score: 1.5009608780412778\n",
      "Iter: 8: Score: 1.4982107004025027\n",
      "Iter: 9: Score: 1.501667131066111\n",
      "Iter: 10: Score: 1.500560186552734\n",
      "Iter: 11: Score: 1.5016520282555736\n",
      "Iter: 12: Score: 1.5014205781588144\n",
      "Iter: 13: Score: 1.5015283643036004\n",
      "Iter: 14: Score: 1.501697104031527\n",
      "Iter: 15: Score: 1.501697588099287\n",
      "Iter: 16: Score: 1.4988857072569184\n",
      "Iter: 17: Score: 1.50160047246234\n",
      "Iter: 18: Score: 1.5009032287546828\n",
      "Iter: 19: Score: 1.5016997665145482\n",
      "Iter: 20: Score: 1.5016992824066644\n",
      "Iter: 21: Score: 1.501588440526248\n",
      "Iter: 22: Score: 1.5016980721759634\n",
      "Iter: 23: Score: 1.5016604847561381\n",
      "Iter: 24: Score: 1.501699040356066\n",
      "Iter: 25: Score: 1.5014504734267378\n",
      "Iter: 26: Score: 1.5013847499185031\n",
      "Iter: 27: Score: 1.5016586724188574\n",
      "Iter: 28: Score: 1.4978127337109748\n",
      "Iter: 29: Score: 1.5016987983076968\n",
      "Iter: 30: Score: 1.5011530948075715\n",
      "Iter: 31: Score: 1.5001661960284671\n",
      "Iter: 32: Score: 1.501468427332408\n",
      "Iter: 33: Score: 1.4996695952536125\n",
      "Iter: 34: Score: 1.5016999480573032\n",
      "Iter: 35: Score: 1.501681033345042\n",
      "Iter: 36: Score: 1.501693128274094\n",
      "Iter: 37: Score: 1.501194516834049\n",
      "Iter: 38: Score: 1.5016478010300058\n",
      "Iter: 39: Score: 1.501697285555892\n",
      "Iter: 40: Score: 1.501653840132811\n",
      "Iter: 41: Score: 1.5012953995407006\n"
     ]
    },
    {
     "name": "stderr",
     "output_type": "stream",
     "text": [
      "1it [00:00,  1.06it/s]"
     ]
    },
    {
     "name": "stdout",
     "output_type": "stream",
     "text": [
      "Iter: 42: Score: 1.5016964384529166\n",
      "Iter: 43: Score: 1.501698677284348\n",
      "Iter: 44: Score: 1.5015764141517565\n",
      "Iter: 45: Score: 1.5016749879702098\n",
      "Iter: 46: Score: 1.501670757036895\n",
      "Iter: 47: Score: 1.5016993429196621\n",
      "Iter: 48: Score: 1.5014564566669755\n",
      "Iter: 49: Score: 1.5016957123863872\n",
      "      scores                                               grid\n",
      "28  1.497813  {'net__l1_ratio': 0.7999999999999996, 'net__al...\n",
      "Best Model: {'net__l1_ratio': 0.7999999999999996, 'net__alpha': 0.01}\n",
      "(45396, 13) (5040, 13)\n",
      "Iter: 0: Score: 1.448915816301441\n",
      "Iter: 1: Score: 1.4512010265745252\n",
      "Iter: 2: Score: 1.4413556556559726\n",
      "Iter: 3: Score: 1.4512016625356063\n",
      "Iter: 4: Score: 1.4511921248032373\n",
      "Iter: 5: Score: 1.451111166943923\n",
      "Iter: 6: Score: 1.451199436741982\n",
      "Iter: 7: Score: 1.4511898998515431\n",
      "Iter: 8: Score: 1.4507433321887961\n",
      "Iter: 9: Score: 1.4413340470060432\n",
      "Iter: 10: Score: 1.4511943499513837\n",
      "Iter: 11: Score: 1.451168257870158\n",
      "Iter: 12: Score: 1.4427072037904887\n",
      "Iter: 13: Score: 1.441670555079876\n",
      "Iter: 14: Score: 1.4443816645170333\n",
      "Iter: 15: Score: 1.4441709263362414\n",
      "Iter: 16: Score: 1.4503720277479837\n",
      "Iter: 17: Score: 1.4510605285005111\n",
      "Iter: 18: Score: 1.451006837624996\n",
      "Iter: 19: Score: 1.4489445705551278\n",
      "Iter: 20: Score: 1.4511864038957976\n",
      "Iter: 21: Score: 1.4509343815019047\n",
      "Iter: 22: Score: 1.4509564109057378\n",
      "Iter: 23: Score: 1.4413153710183717\n",
      "Iter: 24: Score: 1.4512029345058781\n",
      "Iter: 25: Score: 1.445037772269482\n",
      "Iter: 26: Score: 1.4510858348922586\n",
      "Iter: 27: Score: 1.4511587336961849\n",
      "Iter: 28: Score: 1.4415165550012272\n",
      "Iter: 29: Score: 1.4511848149853754\n",
      "Iter: 30: Score: 1.4510352477704338\n",
      "Iter: 31: Score: 1.451047884927654\n",
      "Iter: 32: Score: 1.450975308893914\n",
      "Iter: 33: Score: 1.4511492131299288\n",
      "Iter: 34: Score: 1.4485739048281538\n",
      "Iter: 35: Score: 1.4413615140780642\n",
      "Iter: 36: Score: 1.4511777856517558\n",
      "Iter: 37: Score: 1.4413243413759707\n",
      "Iter: 38: Score: 1.441329102413933\n",
      "Iter: 39: Score: 1.449557698852115\n",
      "Iter: 40: Score: 1.441488739296449\n",
      "Iter: 41: Score: 1.4487156633907132\n",
      "Iter: 42: Score: 1.4510226170290697\n",
      "Iter: 43: Score: 1.4511841794492717\n",
      "Iter: 44: Score: 1.4512070688522676\n"
     ]
    },
    {
     "name": "stderr",
     "output_type": "stream",
     "text": [
      "2it [00:02,  1.28s/it]"
     ]
    },
    {
     "name": "stdout",
     "output_type": "stream",
     "text": [
      "Iter: 45: Score: 1.4497062935525513\n",
      "Iter: 46: Score: 1.4503107045015022\n",
      "Iter: 47: Score: 1.451063690396143\n",
      "Iter: 48: Score: 1.4511016644176387\n",
      "Iter: 49: Score: 1.4511968932183892\n",
      "      scores                                               grid\n",
      "23  1.441315  {'net__l1_ratio': 0.8799999999999996, 'net__al...\n",
      "Best Model: {'net__l1_ratio': 0.8799999999999996, 'net__alpha': 0.01}\n",
      "(68076, 13) (7560, 13)\n",
      "Iter: 0: Score: 1.3812751539241495\n",
      "Iter: 1: Score: 1.3811162739370637\n",
      "Iter: 2: Score: 1.3819026658186886\n",
      "Iter: 3: Score: 1.3819024554706736\n",
      "Iter: 4: Score: 1.3812847097352754\n",
      "Iter: 5: Score: 1.3818630611885991\n",
      "Iter: 6: Score: 1.381876771818111\n",
      "Iter: 7: Score: 1.3811715779239926\n",
      "Iter: 8: Score: 1.3818978060062286\n",
      "Iter: 9: Score: 1.3819027639911832\n",
      "Iter: 10: Score: 1.3818461073450374\n",
      "Iter: 11: Score: 1.3810528204016992\n",
      "Iter: 12: Score: 1.3818989246924565\n",
      "Iter: 13: Score: 1.381898714874911\n",
      "Iter: 14: Score: 1.3818994143813796\n",
      "Iter: 15: Score: 1.3818447598967953\n",
      "Iter: 16: Score: 1.3818521871077956\n",
      "Iter: 17: Score: 1.3819023993828479\n",
      "Iter: 18: Score: 1.3819010244893317\n",
      "Iter: 19: Score: 1.3810438497042716\n",
      "Iter: 20: Score: 1.3818488061801475\n",
      "Iter: 21: Score: 1.3819001842168286\n",
      "Iter: 22: Score: 1.381896688158642\n",
      "Iter: 23: Score: 1.3819027710037501\n",
      "Iter: 24: Score: 1.3818712718354835\n",
      "Iter: 25: Score: 1.3819025746642626\n",
      "Iter: 26: Score: 1.3812089152572544\n",
      "Iter: 27: Score: 1.3819024134046076\n",
      "Iter: 28: Score: 1.3818692147487714\n",
      "Iter: 29: Score: 1.3818991345394838\n",
      "Iter: 30: Score: 1.381902728928841\n",
      "Iter: 31: Score: 1.3810889385440148\n",
      "Iter: 32: Score: 1.3818774607902606\n",
      "Iter: 33: Score: 1.3819016550032257\n",
      "Iter: 34: Score: 1.3811808771981566\n",
      "Iter: 35: Score: 1.3815412875256279\n",
      "Iter: 36: Score: 1.381902806067075\n",
      "Iter: 37: Score: 1.3819026798429375\n",
      "Iter: 38: Score: 1.381902525583403\n",
      "Iter: 39: Score: 1.381802628274021\n",
      "Iter: 40: Score: 1.3819006042941235\n",
      "Iter: 41: Score: 1.3818474561061924\n",
      "Iter: 42: Score: 1.3818992744538805\n",
      "Iter: 43: Score: 1.3818719581864867\n",
      "Iter: 44: Score: 1.381886447232859\n",
      "Iter: 45: Score: 1.3813717569079313\n",
      "Iter: 46: Score: 1.3811995458766286\n",
      "Iter: 47: Score: 1.3819009544486087\n"
     ]
    },
    {
     "name": "stderr",
     "output_type": "stream",
     "text": [
      "3it [00:04,  1.58s/it]"
     ]
    },
    {
     "name": "stdout",
     "output_type": "stream",
     "text": [
      "Iter: 48: Score: 1.3819024484595808\n",
      "Iter: 49: Score: 1.3819026027111885\n",
      "      scores                                               grid\n",
      "19  1.381044  {'net__l1_ratio': 0.8899999999999996, 'net__al...\n",
      "Best Model: {'net__l1_ratio': 0.8899999999999996, 'net__alpha': 0.01}\n",
      "(90756, 13) (10080, 13)\n",
      "Iter: 0: Score: 1.4854448534606746\n",
      "Iter: 1: Score: 1.4854363353255278\n",
      "Iter: 2: Score: 1.4853694375415787\n",
      "Iter: 3: Score: 1.484576666796441\n",
      "Iter: 4: Score: 1.4854449558155307\n",
      "Iter: 5: Score: 1.4846943207642145\n",
      "Iter: 6: Score: 1.4851418273319112\n",
      "Iter: 7: Score: 1.4854208584499697\n",
      "Iter: 8: Score: 1.4854365903853097\n",
      "Iter: 9: Score: 1.4848634226821655\n",
      "Iter: 10: Score: 1.4846778220798857\n",
      "Iter: 11: Score: 1.4854448406665905\n",
      "Iter: 12: Score: 1.485444712729092\n",
      "Iter: 13: Score: 1.4849919234402853\n",
      "Iter: 14: Score: 1.4853681961341225\n",
      "Iter: 15: Score: 1.4854453268844559\n",
      "Iter: 16: Score: 1.4854453012918563\n",
      "Iter: 17: Score: 1.484736655268726\n",
      "Iter: 18: Score: 1.4849018590798566\n",
      "Iter: 19: Score: 1.4854418244634429\n",
      "Iter: 20: Score: 1.485333683805424\n",
      "Iter: 21: Score: 1.485445122150459\n",
      "Iter: 22: Score: 1.48544489184329\n",
      "Iter: 23: Score: 1.4850126092511393\n",
      "Iter: 24: Score: 1.484645572356852\n",
      "Iter: 25: Score: 1.4853818850598943\n",
      "Iter: 26: Score: 1.4854157968447324\n",
      "Iter: 27: Score: 1.48456932405243\n",
      "Iter: 28: Score: 1.4848825181205292\n",
      "Iter: 29: Score: 1.4853558155182147\n",
      "Iter: 30: Score: 1.4853545808033413\n",
      "Iter: 31: Score: 1.4854340408806237\n",
      "Iter: 32: Score: 1.4854396529972718\n",
      "Iter: 33: Score: 1.4853756537008513\n",
      "Iter: 34: Score: 1.4854120070115873\n",
      "Iter: 35: Score: 1.4854449814048518\n",
      "Iter: 36: Score: 1.48506538850756\n",
      "Iter: 37: Score: 1.4854419522513884\n",
      "Iter: 38: Score: 1.4854448022847035\n",
      "Iter: 39: Score: 1.4852561583498953\n",
      "Iter: 40: Score: 1.4854453140881256\n",
      "Iter: 41: Score: 1.485439269979506\n",
      "Iter: 42: Score: 1.485350880310771\n",
      "Iter: 43: Score: 1.4854449686101607\n",
      "Iter: 44: Score: 1.485337358720898\n",
      "Iter: 45: Score: 1.4854341682981629\n",
      "Iter: 46: Score: 1.4854082226402716\n",
      "Iter: 47: Score: 1.4854378660485714\n",
      "Iter: 48: Score: 1.4853881316138724\n",
      "Iter: 49: Score: 1.4848445730743953\n",
      "      scores                                               grid\n",
      "27  1.484569  {'net__l1_ratio': 0.8499999999999996, 'net__al...\n",
      "Best Model: {'net__l1_ratio': 0.8499999999999996, 'net__alpha': 0.01}\n"
     ]
    },
    {
     "name": "stderr",
     "output_type": "stream",
     "text": [
      "4it [00:06,  1.73s/it]\n",
      "0it [00:00, ?it/s]"
     ]
    },
    {
     "name": "stdout",
     "output_type": "stream",
     "text": [
      "4\n",
      "(22698, 13) (2520, 13)\n",
      "Iter: 0: Score: 1.498592133975579\n",
      "Iter: 1: Score: 1.5087908498438007\n",
      "Iter: 2: Score: 1.509445152027996\n",
      "Iter: 3: Score: 1.5125426966217355\n",
      "Iter: 4: Score: 1.5052631247594594\n",
      "Iter: 5: Score: 1.5280852408742198\n",
      "Iter: 6: Score: 1.5116195100157948\n",
      "Iter: 7: Score: 1.5205597058411122\n",
      "Iter: 8: Score: 1.513929589493652\n",
      "Iter: 9: Score: 1.509629519599801\n",
      "Iter: 10: Score: 1.5017731685576428\n",
      "Iter: 11: Score: 1.5021089376164065\n",
      "Iter: 12: Score: 1.513746253803705\n",
      "Iter: 13: Score: 1.5187191880501574\n",
      "Iter: 14: Score: 1.5099891428561958\n",
      "Iter: 15: Score: 1.4989443036142873\n",
      "Iter: 16: Score: 1.5154909575542221\n",
      "Iter: 17: Score: 1.5024461407387941\n",
      "Iter: 18: Score: 1.5029785661024384\n",
      "Iter: 19: Score: 1.5027201713830636\n",
      "Iter: 20: Score: 1.4997954667688267\n",
      "Iter: 21: Score: 1.505174850910514\n",
      "Iter: 22: Score: 1.5055307641983577\n",
      "Iter: 23: Score: 1.5225365415476044\n",
      "Iter: 24: Score: 1.500117413030041\n",
      "Iter: 25: Score: 1.5145521535055875\n",
      "Iter: 26: Score: 1.5017459720055275\n",
      "Iter: 27: Score: 1.5033256330990596\n",
      "Iter: 28: Score: 1.5100014732976137\n",
      "Iter: 29: Score: 1.5096058105961794\n",
      "Iter: 30: Score: 1.5027609206824413\n",
      "Iter: 31: Score: 1.4996888524142842\n",
      "Iter: 32: Score: 1.5042824913805781\n",
      "Iter: 33: Score: 1.5030933008133807\n",
      "Iter: 34: Score: 1.5026702911666865\n",
      "Iter: 35: Score: 1.510259030779881\n",
      "Iter: 36: Score: 1.5095688996986856\n",
      "Iter: 37: Score: 1.4982561370571246\n",
      "Iter: 38: Score: 1.5108570001291963\n",
      "Iter: 39: Score: 1.4987774759387305\n",
      "Iter: 40: Score: 1.5104545311139597\n",
      "Iter: 41: Score: 1.5051058425187112\n",
      "Iter: 42: Score: 1.5023879893743448\n",
      "Iter: 43: Score: 1.5037211207451473\n",
      "Iter: 44: Score: 1.512069852263926\n",
      "Iter: 45: Score: 1.5090011917419675\n",
      "Iter: 46: Score: 1.5034676331047603\n",
      "Iter: 47: Score: 1.5032862887559382\n",
      "Iter: 48: Score: 1.512323578910121\n",
      "Iter: 49: Score: 1.5009304655909241\n",
      "      scores                                               grid\n",
      "37  1.498256  {'rf__n_estimators': 1100, 'rf__min_weight_fra...\n",
      "Best Model: {'rf__n_estimators': 1100, 'rf__min_weight_fraction_leaf': 0.025, 'rf__max_features': 1, 'rf__max_depth': 3}\n"
     ]
    },
    {
     "name": "stderr",
     "output_type": "stream",
     "text": [
      "1it [02:00, 120.50s/it]"
     ]
    },
    {
     "name": "stdout",
     "output_type": "stream",
     "text": [
      "(45396, 13) (5040, 13)\n",
      "Iter: 0: Score: 1.4386943525847549\n",
      "Iter: 1: Score: 1.4373655654133866\n",
      "Iter: 2: Score: 1.438723856950244\n",
      "Iter: 3: Score: 1.441356256186943\n",
      "Iter: 4: Score: 1.442222511318109\n",
      "Iter: 5: Score: 1.4375445597499412\n",
      "Iter: 6: Score: 1.4373585652446694\n",
      "Iter: 7: Score: 1.4410661382747838\n",
      "Iter: 8: Score: 1.4401827244881014\n",
      "Iter: 9: Score: 1.4398777895562456\n",
      "Iter: 10: Score: 1.4407859539864791\n",
      "Iter: 11: Score: 1.4382021063527664\n",
      "Iter: 12: Score: 1.4441246524716225\n",
      "Iter: 13: Score: 1.4374637528389143\n",
      "Iter: 14: Score: 1.4381816486981343\n",
      "Iter: 15: Score: 1.439980963075644\n",
      "Iter: 16: Score: 1.4395251560051097\n",
      "Iter: 17: Score: 1.4375572105620604\n",
      "Iter: 18: Score: 1.4408446614700945\n",
      "Iter: 19: Score: 1.4397374604646804\n",
      "Iter: 20: Score: 1.437872393080501\n",
      "Iter: 21: Score: 1.4396112200399476\n",
      "Iter: 22: Score: 1.4397579105107312\n",
      "Iter: 23: Score: 1.4397704951168078\n"
     ]
    },
    {
     "name": "stderr",
     "output_type": "stream",
     "text": [
      "1it [03:58, 238.34s/it]\n"
     ]
    },
    {
     "ename": "KeyboardInterrupt",
     "evalue": "",
     "output_type": "error",
     "traceback": [
      "\u001b[1;31m---------------------------------------------------------------------------\u001b[0m",
      "\u001b[1;31mKeyboardInterrupt\u001b[0m                         Traceback (most recent call last)",
      "Cell \u001b[1;32mIn[25], line 50\u001b[0m\n\u001b[0;32m     48\u001b[0m predictions \u001b[38;5;241m=\u001b[39m []\n\u001b[0;32m     49\u001b[0m \u001b[38;5;28;01mfor\u001b[39;00m model \u001b[38;5;129;01min\u001b[39;00m models:\n\u001b[1;32m---> 50\u001b[0m     out \u001b[38;5;241m=\u001b[39m train_single_model(model[\u001b[38;5;241m0\u001b[39m], model[\u001b[38;5;241m1\u001b[39m], model[\u001b[38;5;241m2\u001b[39m])\n\u001b[0;32m     51\u001b[0m     predictions\u001b[38;5;241m.\u001b[39mappend(out)\n\u001b[0;32m     53\u001b[0m \u001b[38;5;66;03m# concat the predictions by columns\u001b[39;00m\n",
      "Cell \u001b[1;32mIn[25], line 21\u001b[0m, in \u001b[0;36mtrain_single_model\u001b[1;34m(model, sampler, model_name)\u001b[0m\n\u001b[0;32m     19\u001b[0m \u001b[38;5;28;01mexcept\u001b[39;00m \u001b[38;5;167;01mException\u001b[39;00m \u001b[38;5;28;01mas\u001b[39;00m e:\n\u001b[0;32m     20\u001b[0m     \u001b[38;5;28;01mpass\u001b[39;00m\n\u001b[1;32m---> 21\u001b[0m model\u001b[38;5;241m.\u001b[39mfit(X_train2, y_train2\u001b[38;5;241m.\u001b[39mvalues\u001b[38;5;241m.\u001b[39mreshape(y_train2\u001b[38;5;241m.\u001b[39mshape[\u001b[38;5;241m0\u001b[39m], ))\n\u001b[0;32m     22\u001b[0m _pred \u001b[38;5;241m=\u001b[39m model\u001b[38;5;241m.\u001b[39mpredict(X_val)\n\u001b[0;32m     23\u001b[0m _score \u001b[38;5;241m=\u001b[39m mean_squared_error(y_val, _pred)\n",
      "File \u001b[1;32mc:\\Users\\jaman\\anaconda3\\Lib\\site-packages\\sklearn\\base.py:1151\u001b[0m, in \u001b[0;36m_fit_context.<locals>.decorator.<locals>.wrapper\u001b[1;34m(estimator, *args, **kwargs)\u001b[0m\n\u001b[0;32m   1144\u001b[0m     estimator\u001b[38;5;241m.\u001b[39m_validate_params()\n\u001b[0;32m   1146\u001b[0m \u001b[38;5;28;01mwith\u001b[39;00m config_context(\n\u001b[0;32m   1147\u001b[0m     skip_parameter_validation\u001b[38;5;241m=\u001b[39m(\n\u001b[0;32m   1148\u001b[0m         prefer_skip_nested_validation \u001b[38;5;129;01mor\u001b[39;00m global_skip_validation\n\u001b[0;32m   1149\u001b[0m     )\n\u001b[0;32m   1150\u001b[0m ):\n\u001b[1;32m-> 1151\u001b[0m     \u001b[38;5;28;01mreturn\u001b[39;00m fit_method(estimator, \u001b[38;5;241m*\u001b[39margs, \u001b[38;5;241m*\u001b[39m\u001b[38;5;241m*\u001b[39mkwargs)\n",
      "File \u001b[1;32mc:\\Users\\jaman\\anaconda3\\Lib\\site-packages\\sklearn\\pipeline.py:420\u001b[0m, in \u001b[0;36mPipeline.fit\u001b[1;34m(self, X, y, **fit_params)\u001b[0m\n\u001b[0;32m    418\u001b[0m     \u001b[38;5;28;01mif\u001b[39;00m \u001b[38;5;28mself\u001b[39m\u001b[38;5;241m.\u001b[39m_final_estimator \u001b[38;5;241m!=\u001b[39m \u001b[38;5;124m\"\u001b[39m\u001b[38;5;124mpassthrough\u001b[39m\u001b[38;5;124m\"\u001b[39m:\n\u001b[0;32m    419\u001b[0m         fit_params_last_step \u001b[38;5;241m=\u001b[39m fit_params_steps[\u001b[38;5;28mself\u001b[39m\u001b[38;5;241m.\u001b[39msteps[\u001b[38;5;241m-\u001b[39m\u001b[38;5;241m1\u001b[39m][\u001b[38;5;241m0\u001b[39m]]\n\u001b[1;32m--> 420\u001b[0m         \u001b[38;5;28mself\u001b[39m\u001b[38;5;241m.\u001b[39m_final_estimator\u001b[38;5;241m.\u001b[39mfit(Xt, y, \u001b[38;5;241m*\u001b[39m\u001b[38;5;241m*\u001b[39mfit_params_last_step)\n\u001b[0;32m    422\u001b[0m \u001b[38;5;28;01mreturn\u001b[39;00m \u001b[38;5;28mself\u001b[39m\n",
      "File \u001b[1;32mc:\\Users\\jaman\\anaconda3\\Lib\\site-packages\\sklearn\\base.py:1151\u001b[0m, in \u001b[0;36m_fit_context.<locals>.decorator.<locals>.wrapper\u001b[1;34m(estimator, *args, **kwargs)\u001b[0m\n\u001b[0;32m   1144\u001b[0m     estimator\u001b[38;5;241m.\u001b[39m_validate_params()\n\u001b[0;32m   1146\u001b[0m \u001b[38;5;28;01mwith\u001b[39;00m config_context(\n\u001b[0;32m   1147\u001b[0m     skip_parameter_validation\u001b[38;5;241m=\u001b[39m(\n\u001b[0;32m   1148\u001b[0m         prefer_skip_nested_validation \u001b[38;5;129;01mor\u001b[39;00m global_skip_validation\n\u001b[0;32m   1149\u001b[0m     )\n\u001b[0;32m   1150\u001b[0m ):\n\u001b[1;32m-> 1151\u001b[0m     \u001b[38;5;28;01mreturn\u001b[39;00m fit_method(estimator, \u001b[38;5;241m*\u001b[39margs, \u001b[38;5;241m*\u001b[39m\u001b[38;5;241m*\u001b[39mkwargs)\n",
      "File \u001b[1;32mc:\\Users\\jaman\\anaconda3\\Lib\\site-packages\\sklearn\\ensemble\\_forest.py:456\u001b[0m, in \u001b[0;36mBaseForest.fit\u001b[1;34m(self, X, y, sample_weight)\u001b[0m\n\u001b[0;32m    445\u001b[0m trees \u001b[38;5;241m=\u001b[39m [\n\u001b[0;32m    446\u001b[0m     \u001b[38;5;28mself\u001b[39m\u001b[38;5;241m.\u001b[39m_make_estimator(append\u001b[38;5;241m=\u001b[39m\u001b[38;5;28;01mFalse\u001b[39;00m, random_state\u001b[38;5;241m=\u001b[39mrandom_state)\n\u001b[0;32m    447\u001b[0m     \u001b[38;5;28;01mfor\u001b[39;00m i \u001b[38;5;129;01min\u001b[39;00m \u001b[38;5;28mrange\u001b[39m(n_more_estimators)\n\u001b[0;32m    448\u001b[0m ]\n\u001b[0;32m    450\u001b[0m \u001b[38;5;66;03m# Parallel loop: we prefer the threading backend as the Cython code\u001b[39;00m\n\u001b[0;32m    451\u001b[0m \u001b[38;5;66;03m# for fitting the trees is internally releasing the Python GIL\u001b[39;00m\n\u001b[0;32m    452\u001b[0m \u001b[38;5;66;03m# making threading more efficient than multiprocessing in\u001b[39;00m\n\u001b[0;32m    453\u001b[0m \u001b[38;5;66;03m# that case. However, for joblib 0.12+ we respect any\u001b[39;00m\n\u001b[0;32m    454\u001b[0m \u001b[38;5;66;03m# parallel_backend contexts set at a higher level,\u001b[39;00m\n\u001b[0;32m    455\u001b[0m \u001b[38;5;66;03m# since correctness does not rely on using threads.\u001b[39;00m\n\u001b[1;32m--> 456\u001b[0m trees \u001b[38;5;241m=\u001b[39m Parallel(\n\u001b[0;32m    457\u001b[0m     n_jobs\u001b[38;5;241m=\u001b[39m\u001b[38;5;28mself\u001b[39m\u001b[38;5;241m.\u001b[39mn_jobs,\n\u001b[0;32m    458\u001b[0m     verbose\u001b[38;5;241m=\u001b[39m\u001b[38;5;28mself\u001b[39m\u001b[38;5;241m.\u001b[39mverbose,\n\u001b[0;32m    459\u001b[0m     prefer\u001b[38;5;241m=\u001b[39m\u001b[38;5;124m\"\u001b[39m\u001b[38;5;124mthreads\u001b[39m\u001b[38;5;124m\"\u001b[39m,\n\u001b[0;32m    460\u001b[0m )(\n\u001b[0;32m    461\u001b[0m     delayed(_parallel_build_trees)(\n\u001b[0;32m    462\u001b[0m         t,\n\u001b[0;32m    463\u001b[0m         \u001b[38;5;28mself\u001b[39m\u001b[38;5;241m.\u001b[39mbootstrap,\n\u001b[0;32m    464\u001b[0m         X,\n\u001b[0;32m    465\u001b[0m         y,\n\u001b[0;32m    466\u001b[0m         sample_weight,\n\u001b[0;32m    467\u001b[0m         i,\n\u001b[0;32m    468\u001b[0m         \u001b[38;5;28mlen\u001b[39m(trees),\n\u001b[0;32m    469\u001b[0m         verbose\u001b[38;5;241m=\u001b[39m\u001b[38;5;28mself\u001b[39m\u001b[38;5;241m.\u001b[39mverbose,\n\u001b[0;32m    470\u001b[0m         class_weight\u001b[38;5;241m=\u001b[39m\u001b[38;5;28mself\u001b[39m\u001b[38;5;241m.\u001b[39mclass_weight,\n\u001b[0;32m    471\u001b[0m         n_samples_bootstrap\u001b[38;5;241m=\u001b[39mn_samples_bootstrap,\n\u001b[0;32m    472\u001b[0m     )\n\u001b[0;32m    473\u001b[0m     \u001b[38;5;28;01mfor\u001b[39;00m i, t \u001b[38;5;129;01min\u001b[39;00m \u001b[38;5;28menumerate\u001b[39m(trees)\n\u001b[0;32m    474\u001b[0m )\n\u001b[0;32m    476\u001b[0m \u001b[38;5;66;03m# Collect newly grown trees\u001b[39;00m\n\u001b[0;32m    477\u001b[0m \u001b[38;5;28mself\u001b[39m\u001b[38;5;241m.\u001b[39mestimators_\u001b[38;5;241m.\u001b[39mextend(trees)\n",
      "File \u001b[1;32mc:\\Users\\jaman\\anaconda3\\Lib\\site-packages\\sklearn\\utils\\parallel.py:65\u001b[0m, in \u001b[0;36mParallel.__call__\u001b[1;34m(self, iterable)\u001b[0m\n\u001b[0;32m     60\u001b[0m config \u001b[38;5;241m=\u001b[39m get_config()\n\u001b[0;32m     61\u001b[0m iterable_with_config \u001b[38;5;241m=\u001b[39m (\n\u001b[0;32m     62\u001b[0m     (_with_config(delayed_func, config), args, kwargs)\n\u001b[0;32m     63\u001b[0m     \u001b[38;5;28;01mfor\u001b[39;00m delayed_func, args, kwargs \u001b[38;5;129;01min\u001b[39;00m iterable\n\u001b[0;32m     64\u001b[0m )\n\u001b[1;32m---> 65\u001b[0m \u001b[38;5;28;01mreturn\u001b[39;00m \u001b[38;5;28msuper\u001b[39m()\u001b[38;5;241m.\u001b[39m\u001b[38;5;21m__call__\u001b[39m(iterable_with_config)\n",
      "File \u001b[1;32mc:\\Users\\jaman\\anaconda3\\Lib\\site-packages\\joblib\\parallel.py:1098\u001b[0m, in \u001b[0;36mParallel.__call__\u001b[1;34m(self, iterable)\u001b[0m\n\u001b[0;32m   1095\u001b[0m     \u001b[38;5;28mself\u001b[39m\u001b[38;5;241m.\u001b[39m_iterating \u001b[38;5;241m=\u001b[39m \u001b[38;5;28;01mFalse\u001b[39;00m\n\u001b[0;32m   1097\u001b[0m \u001b[38;5;28;01mwith\u001b[39;00m \u001b[38;5;28mself\u001b[39m\u001b[38;5;241m.\u001b[39m_backend\u001b[38;5;241m.\u001b[39mretrieval_context():\n\u001b[1;32m-> 1098\u001b[0m     \u001b[38;5;28mself\u001b[39m\u001b[38;5;241m.\u001b[39mretrieve()\n\u001b[0;32m   1099\u001b[0m \u001b[38;5;66;03m# Make sure that we get a last message telling us we are done\u001b[39;00m\n\u001b[0;32m   1100\u001b[0m elapsed_time \u001b[38;5;241m=\u001b[39m time\u001b[38;5;241m.\u001b[39mtime() \u001b[38;5;241m-\u001b[39m \u001b[38;5;28mself\u001b[39m\u001b[38;5;241m.\u001b[39m_start_time\n",
      "File \u001b[1;32mc:\\Users\\jaman\\anaconda3\\Lib\\site-packages\\joblib\\parallel.py:975\u001b[0m, in \u001b[0;36mParallel.retrieve\u001b[1;34m(self)\u001b[0m\n\u001b[0;32m    973\u001b[0m \u001b[38;5;28;01mtry\u001b[39;00m:\n\u001b[0;32m    974\u001b[0m     \u001b[38;5;28;01mif\u001b[39;00m \u001b[38;5;28mgetattr\u001b[39m(\u001b[38;5;28mself\u001b[39m\u001b[38;5;241m.\u001b[39m_backend, \u001b[38;5;124m'\u001b[39m\u001b[38;5;124msupports_timeout\u001b[39m\u001b[38;5;124m'\u001b[39m, \u001b[38;5;28;01mFalse\u001b[39;00m):\n\u001b[1;32m--> 975\u001b[0m         \u001b[38;5;28mself\u001b[39m\u001b[38;5;241m.\u001b[39m_output\u001b[38;5;241m.\u001b[39mextend(job\u001b[38;5;241m.\u001b[39mget(timeout\u001b[38;5;241m=\u001b[39m\u001b[38;5;28mself\u001b[39m\u001b[38;5;241m.\u001b[39mtimeout))\n\u001b[0;32m    976\u001b[0m     \u001b[38;5;28;01melse\u001b[39;00m:\n\u001b[0;32m    977\u001b[0m         \u001b[38;5;28mself\u001b[39m\u001b[38;5;241m.\u001b[39m_output\u001b[38;5;241m.\u001b[39mextend(job\u001b[38;5;241m.\u001b[39mget())\n",
      "File \u001b[1;32mc:\\Users\\jaman\\anaconda3\\Lib\\multiprocessing\\pool.py:768\u001b[0m, in \u001b[0;36mApplyResult.get\u001b[1;34m(self, timeout)\u001b[0m\n\u001b[0;32m    767\u001b[0m \u001b[38;5;28;01mdef\u001b[39;00m \u001b[38;5;21mget\u001b[39m(\u001b[38;5;28mself\u001b[39m, timeout\u001b[38;5;241m=\u001b[39m\u001b[38;5;28;01mNone\u001b[39;00m):\n\u001b[1;32m--> 768\u001b[0m     \u001b[38;5;28mself\u001b[39m\u001b[38;5;241m.\u001b[39mwait(timeout)\n\u001b[0;32m    769\u001b[0m     \u001b[38;5;28;01mif\u001b[39;00m \u001b[38;5;129;01mnot\u001b[39;00m \u001b[38;5;28mself\u001b[39m\u001b[38;5;241m.\u001b[39mready():\n\u001b[0;32m    770\u001b[0m         \u001b[38;5;28;01mraise\u001b[39;00m \u001b[38;5;167;01mTimeoutError\u001b[39;00m\n",
      "File \u001b[1;32mc:\\Users\\jaman\\anaconda3\\Lib\\multiprocessing\\pool.py:765\u001b[0m, in \u001b[0;36mApplyResult.wait\u001b[1;34m(self, timeout)\u001b[0m\n\u001b[0;32m    764\u001b[0m \u001b[38;5;28;01mdef\u001b[39;00m \u001b[38;5;21mwait\u001b[39m(\u001b[38;5;28mself\u001b[39m, timeout\u001b[38;5;241m=\u001b[39m\u001b[38;5;28;01mNone\u001b[39;00m):\n\u001b[1;32m--> 765\u001b[0m     \u001b[38;5;28mself\u001b[39m\u001b[38;5;241m.\u001b[39m_event\u001b[38;5;241m.\u001b[39mwait(timeout)\n",
      "File \u001b[1;32mc:\\Users\\jaman\\anaconda3\\Lib\\threading.py:622\u001b[0m, in \u001b[0;36mEvent.wait\u001b[1;34m(self, timeout)\u001b[0m\n\u001b[0;32m    620\u001b[0m signaled \u001b[38;5;241m=\u001b[39m \u001b[38;5;28mself\u001b[39m\u001b[38;5;241m.\u001b[39m_flag\n\u001b[0;32m    621\u001b[0m \u001b[38;5;28;01mif\u001b[39;00m \u001b[38;5;129;01mnot\u001b[39;00m signaled:\n\u001b[1;32m--> 622\u001b[0m     signaled \u001b[38;5;241m=\u001b[39m \u001b[38;5;28mself\u001b[39m\u001b[38;5;241m.\u001b[39m_cond\u001b[38;5;241m.\u001b[39mwait(timeout)\n\u001b[0;32m    623\u001b[0m \u001b[38;5;28;01mreturn\u001b[39;00m signaled\n",
      "File \u001b[1;32mc:\\Users\\jaman\\anaconda3\\Lib\\threading.py:320\u001b[0m, in \u001b[0;36mCondition.wait\u001b[1;34m(self, timeout)\u001b[0m\n\u001b[0;32m    318\u001b[0m \u001b[38;5;28;01mtry\u001b[39;00m:    \u001b[38;5;66;03m# restore state no matter what (e.g., KeyboardInterrupt)\u001b[39;00m\n\u001b[0;32m    319\u001b[0m     \u001b[38;5;28;01mif\u001b[39;00m timeout \u001b[38;5;129;01mis\u001b[39;00m \u001b[38;5;28;01mNone\u001b[39;00m:\n\u001b[1;32m--> 320\u001b[0m         waiter\u001b[38;5;241m.\u001b[39macquire()\n\u001b[0;32m    321\u001b[0m         gotit \u001b[38;5;241m=\u001b[39m \u001b[38;5;28;01mTrue\u001b[39;00m\n\u001b[0;32m    322\u001b[0m     \u001b[38;5;28;01melse\u001b[39;00m:\n",
      "\u001b[1;31mKeyboardInterrupt\u001b[0m: "
     ]
    }
   ],
   "source": [
    "def train_single_model(model, sampler, model_name):\n",
    "    predictions = []\n",
    "    scores = []\n",
    "    for train, test in tqdm(get_cv_splits(X, split_length=252*5)):\n",
    "        # break out X and y train, test\n",
    "        X_train, y_train = train[features], train[target] \n",
    "        X_test, y_test = test[features], test[target]\n",
    "\n",
    "        # hyper-param loop\n",
    "        X_train2, X_val, y_train2, y_val = train_val_split(X_train, y_train)\n",
    "        print(X_train2.shape, X_val.shape)\n",
    "\n",
    "        # inner loop for parameter tuning\n",
    "        gscv_scores = {'scores': [], 'grid':[]}\n",
    "        for k, p in enumerate(sampler):\n",
    "            model.set_params(**p)\n",
    "            try:\n",
    "                model.n_jobs=-1\n",
    "            except Exception as e:\n",
    "                pass\n",
    "            model.fit(X_train2, y_train2.values.reshape(y_train2.shape[0], ))\n",
    "            _pred = model.predict(X_val)\n",
    "            _score = mean_squared_error(y_val, _pred)\n",
    "            gscv_scores['scores'].append(_score)\n",
    "            gscv_scores['grid'].append(p)\n",
    "            print(f'Iter: {k}: Score: {_score}')\n",
    "\n",
    "        # now fit the best model\n",
    "        best_model = pd.DataFrame(gscv_scores).sort_values(by='scores').head(1)['grid'].values[0]\n",
    "        print(pd.DataFrame(gscv_scores).sort_values(by='scores').head(1))\n",
    "        print(f'Best Model: {best_model}')\n",
    "        best_model = model.set_params(**best_model)\n",
    "        best_model.n_jobs=-1\n",
    "        best_model.fit(X_train, y_train.values.reshape(y_train.shape[0], ))\n",
    "        preds = best_model.predict(X_test)\n",
    "\n",
    "        # append the predictions\n",
    "        predictions.append(pd.Series(index=y_test.index, data=preds))\n",
    "       \n",
    "        # score\n",
    "        scores.append(mean_squared_error(y_test, preds))\n",
    "\n",
    "    # predictions\n",
    "    predictions = pd.concat(predictions).to_frame(model_name)\n",
    "    return predictions\n",
    "\n",
    "# train all models selected\n",
    "predictions = []\n",
    "for model in models:\n",
    "    out = train_single_model(model[0], model[1], model[2])\n",
    "    predictions.append(out)\n",
    "\n",
    "# concat the predictions by columns\n",
    "predictions = pd.concat(predictions, axis=1)"
   ]
  },
  {
   "cell_type": "markdown",
   "metadata": {},
   "source": [
    "**Check distribution of the targets**"
   ]
  },
  {
   "cell_type": "code",
   "execution_count": null,
   "metadata": {},
   "outputs": [
    {
     "data": {
      "text/plain": [
       "<Axes: title={'center': 'distribution of predictions'}, ylabel='Frequency'>"
      ]
     },
     "execution_count": 11,
     "metadata": {},
     "output_type": "execute_result"
    },
    {
     "data": {
      "image/png": "[encoded data removed]",
      "text/plain": [
       "<Figure size 640x480 with 1 Axes>"
      ]
     },
     "metadata": {},
     "output_type": "display_data"
    }
   ],
   "source": [
    "# We can see predictions go negative at about the 25% percentile, market mainly goes up\n",
    "predictions.plot(kind='hist', bins=1000, title=\"distribution of predictions\")"
   ]
  },
  {
   "cell_type": "markdown",
   "metadata": {},
   "source": [
    "**Join in predictions with the original dataset which has the cluster returns**"
   ]
  },
  {
   "cell_type": "code",
   "execution_count": null,
   "metadata": {},
   "outputs": [
    {
     "name": "stdout",
     "output_type": "stream",
     "text": [
      "                Annual_Return Annual_Volatility        DD       MDD    Sharpe  \\\n",
      "preds_MLP_Q_0.0       0.09156          0.212027  0.144234 -0.568615  0.518376   \n",
      "preds_MLP_Q_1.0      0.099061          0.209106  0.147033 -0.526411  0.568821   \n",
      "preds_MLP_Q_2.0      0.069759           0.20818  0.148532 -0.649269  0.449408   \n",
      "preds_MLP_Q_3.0      0.090617          0.212833  0.150864 -0.489226  0.558628   \n",
      "\n",
      "                  Sortino    Calmar ppct_postive_rets  \n",
      "preds_MLP_Q_0.0   0.76202  0.161023           0.54573  \n",
      "preds_MLP_Q_1.0   0.80896  0.188183          0.527525  \n",
      "preds_MLP_Q_2.0  0.629883  0.107443          0.506719  \n",
      "preds_MLP_Q_3.0  0.788093  0.185225               0.5  \n",
      "#################################\n",
      "                 Annual_Return Annual_Volatility        DD       MDD  \\\n",
      "preds_eNet_Q_0.0       0.04934          0.210974  0.149305 -0.688197   \n",
      "preds_eNet_Q_1.0      0.084987          0.211747  0.152664 -0.590507   \n",
      "preds_eNet_Q_2.0       0.07505           0.21156  0.146758 -0.630173   \n",
      "preds_eNet_Q_3.0      0.102337          0.222929  0.149918 -0.546357   \n",
      "\n",
      "                    Sharpe   Sortino    Calmar ppct_postive_rets  \n",
      "preds_eNet_Q_0.0  0.333274   0.47093  0.071695          0.544397  \n",
      "preds_eNet_Q_1.0  0.491621  0.681884  0.143923          0.540803  \n",
      "preds_eNet_Q_2.0  0.447336   0.64486  0.119094          0.540592  \n",
      "preds_eNet_Q_3.0   0.54755  0.814213  0.187308          0.542072  \n",
      "#################################\n",
      "                    Annual_Return Annual_Volatility        DD       MDD  \\\n",
      "preds_eNetPCA_Q_0.0      0.063349           0.21292  0.148409    -0.654   \n",
      "preds_eNetPCA_Q_1.0      0.087235          0.210684  0.151212 -0.612463   \n",
      "preds_eNetPCA_Q_2.0      0.072642          0.217106  0.151177 -0.665974   \n",
      "preds_eNetPCA_Q_3.0      0.088173          0.216023  0.147338 -0.531075   \n",
      "\n",
      "                       Sharpe   Sortino    Calmar ppct_postive_rets  \n",
      "preds_eNetPCA_Q_0.0   0.39411  0.565423  0.096864          0.541226  \n",
      "preds_eNetPCA_Q_1.0  0.502824  0.700583  0.142434          0.540803  \n",
      "preds_eNetPCA_Q_2.0  0.431078  0.619071  0.109076          0.540803  \n",
      "preds_eNetPCA_Q_3.0   0.49844  0.730803  0.166028          0.539112  \n",
      "#################################\n"
     ]
    }
   ],
   "source": [
    "# Bring in the data\n",
    "data = load_features_data()\n",
    "\n",
    "# join in predictions\n",
    "predictions = predictions.merge(data, how=\"left\", left_index=True, right_index=True)\n",
    "predictions.sort_index(inplace=True)\n",
    "\n",
    "# get the prediction columns\n",
    "pred_cols = [f for f in predictions.columns if f.startswith('preds_')]\n",
    "\n",
    "def getRetsForStrat(predictions, pred_cols):\n",
    "    ret_list = []\n",
    "    for pred_col in pred_cols:\n",
    "        predictions[f'{pred_col}_signalQ'] = predictions.groupby(by='date')[pred_col].apply(lambda x: pd.qcut(x, 4, labels=False, duplicates='drop')).droplevel(0)\n",
    "        predictions[f'{pred_col}_signalQ'] = predictions.groupby(by='cluster')[f'{pred_col}_signalQ'].shift(1)\n",
    "        rets = predictions.groupby(by=['date', f'{pred_col}_signalQ'])['1d_ret'].mean().unstack()\n",
    "        rets.rename(columns={col: f'{pred_col}_Q_{col}' for col in rets.columns}, inplace=True)\n",
    "        ret_list.append(rets)\n",
    "    return ret_list\n",
    "\n",
    "ret_breakouts = []\n",
    "# get all the returns\n",
    "all_rets = getRetsForStrat(predictions, pred_cols)\n",
    "for one_ret in all_rets:\n",
    "    print(get_returns_breakout(one_ret))\n",
    "    ret_breakouts.append(get_returns_breakout(one_ret))\n",
    "    print('#################################')\n",
    "\n",
    "# stack the returns\n",
    "stacked_strat_rets = pd.concat([r.stack().to_frame('ret') for r in all_rets]) # this can hopefully be the data used for streamlit\n",
    "stacked_strat_rets_cumprod = (1+stacked_strat_rets.unstack()).cumprod()\n",
    "\n",
    "# save to pickle\n",
    "stacked_strat_rets_cumprod.columns = stacked_strat_rets_cumprod.columns.droplevel(0)\n",
    "stacked_strat_rets_cumprod.to_pickle(\"cum_cluster_returns.pkl\")\n",
    "pd.concat(ret_breakouts).to_pickle(\"metrics_df.pkl\")"
   ]
  }
 ],
 "metadata": {
  "kernelspec": {
   "display_name": "base",
   "language": "python",
   "name": "python3"
  },
  "language_info": {
   "codemirror_mode": {
    "name": "ipython",
    "version": 3
   },
   "file_extension": ".py",
   "mimetype": "text/x-python",
   "name": "python",
   "nbconvert_exporter": "python",
   "pygments_lexer": "ipython3",
   "version": "3.11.5"
  }
 },
 "nbformat": 4,
 "nbformat_minor": 2
}
