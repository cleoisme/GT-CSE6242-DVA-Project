{
 "cells": [
  {
   "cell_type": "code",
   "execution_count": 34,
   "metadata": {},
   "outputs": [],
   "source": [
    "import pandas as pd\n",
    "import numpy as np\n",
    "from sklearn.ensemble import RandomForestRegressor\n",
    "from utils.ml_utils import *\n",
    "\n",
    "from sklearn.metrics import mean_squared_error\n",
    "from sklearn.model_selection import ParameterSampler\n",
    "from tqdm import tqdm\n",
    "\n",
    "from data_prep import load_features_data"
   ]
  },
  {
   "cell_type": "markdown",
   "metadata": {},
   "source": [
    "**Load the features data, these are popular trend following features used in prior literature**"
   ]
  },
  {
   "cell_type": "code",
   "execution_count": 35,
   "metadata": {},
   "outputs": [
    {
     "data": {
      "text/html": [
       "<div>\n",
       "<style scoped>\n",
       "    .dataframe tbody tr th:only-of-type {\n",
       "        vertical-align: middle;\n",
       "    }\n",
       "\n",
       "    .dataframe tbody tr th {\n",
       "        vertical-align: top;\n",
       "    }\n",
       "\n",
       "    .dataframe thead th {\n",
       "        text-align: right;\n",
       "    }\n",
       "</style>\n",
       "<table border=\"1\" class=\"dataframe\">\n",
       "  <thead>\n",
       "    <tr style=\"text-align: right;\">\n",
       "      <th></th>\n",
       "      <th></th>\n",
       "      <th>ret</th>\n",
       "      <th>rVol</th>\n",
       "      <th>1d_ret</th>\n",
       "      <th>1wk_ret</th>\n",
       "      <th>1m_ret</th>\n",
       "      <th>1Q_ret</th>\n",
       "      <th>6M_ret</th>\n",
       "      <th>12M_ret</th>\n",
       "      <th>feature_1d_ra</th>\n",
       "      <th>feature_1wk_ra</th>\n",
       "      <th>...</th>\n",
       "      <th>lag5_feature_MACD_short</th>\n",
       "      <th>lag5_feature_MACD_medium</th>\n",
       "      <th>lag5_feature_MACD_long</th>\n",
       "      <th>lag5_feature_skew6m</th>\n",
       "      <th>lag5_feature_skew12m</th>\n",
       "      <th>lag5_feature_kurt6m</th>\n",
       "      <th>lag5_feature_kurt12m</th>\n",
       "      <th>fwd_ret1d</th>\n",
       "      <th>target</th>\n",
       "      <th>targetBin</th>\n",
       "    </tr>\n",
       "    <tr>\n",
       "      <th>date</th>\n",
       "      <th>cluster</th>\n",
       "      <th></th>\n",
       "      <th></th>\n",
       "      <th></th>\n",
       "      <th></th>\n",
       "      <th></th>\n",
       "      <th></th>\n",
       "      <th></th>\n",
       "      <th></th>\n",
       "      <th></th>\n",
       "      <th></th>\n",
       "      <th></th>\n",
       "      <th></th>\n",
       "      <th></th>\n",
       "      <th></th>\n",
       "      <th></th>\n",
       "      <th></th>\n",
       "      <th></th>\n",
       "      <th></th>\n",
       "      <th></th>\n",
       "      <th></th>\n",
       "      <th></th>\n",
       "    </tr>\n",
       "  </thead>\n",
       "  <tbody>\n",
       "    <tr>\n",
       "      <th rowspan=\"5\" valign=\"top\">2024-03-15</th>\n",
       "      <th>25</th>\n",
       "      <td>4.383299</td>\n",
       "      <td>0.012166</td>\n",
       "      <td>-0.017495</td>\n",
       "      <td>-0.027395</td>\n",
       "      <td>-0.000720</td>\n",
       "      <td>0.102992</td>\n",
       "      <td>0.072872</td>\n",
       "      <td>0.146811</td>\n",
       "      <td>-1.438042</td>\n",
       "      <td>-1.007008</td>\n",
       "      <td>...</td>\n",
       "      <td>0.398363</td>\n",
       "      <td>0.585645</td>\n",
       "      <td>0.664800</td>\n",
       "      <td>-0.222085</td>\n",
       "      <td>0.386809</td>\n",
       "      <td>0.580919</td>\n",
       "      <td>2.809109</td>\n",
       "      <td>NaN</td>\n",
       "      <td>NaN</td>\n",
       "      <td>NaN</td>\n",
       "    </tr>\n",
       "    <tr>\n",
       "      <th>26</th>\n",
       "      <td>2.462165</td>\n",
       "      <td>0.012035</td>\n",
       "      <td>-0.001765</td>\n",
       "      <td>0.009387</td>\n",
       "      <td>0.015050</td>\n",
       "      <td>-0.022086</td>\n",
       "      <td>0.025308</td>\n",
       "      <td>-0.005369</td>\n",
       "      <td>-0.146644</td>\n",
       "      <td>0.348834</td>\n",
       "      <td>...</td>\n",
       "      <td>-0.199871</td>\n",
       "      <td>-0.179508</td>\n",
       "      <td>0.128255</td>\n",
       "      <td>-0.217538</td>\n",
       "      <td>0.392190</td>\n",
       "      <td>0.566987</td>\n",
       "      <td>2.789701</td>\n",
       "      <td>NaN</td>\n",
       "      <td>NaN</td>\n",
       "      <td>NaN</td>\n",
       "    </tr>\n",
       "    <tr>\n",
       "      <th>27</th>\n",
       "      <td>2.082460</td>\n",
       "      <td>0.012796</td>\n",
       "      <td>-0.035808</td>\n",
       "      <td>-0.060372</td>\n",
       "      <td>-0.092488</td>\n",
       "      <td>-0.037253</td>\n",
       "      <td>0.112426</td>\n",
       "      <td>0.139470</td>\n",
       "      <td>-2.798448</td>\n",
       "      <td>-2.110060</td>\n",
       "      <td>...</td>\n",
       "      <td>-0.032563</td>\n",
       "      <td>0.246765</td>\n",
       "      <td>0.754907</td>\n",
       "      <td>-0.231616</td>\n",
       "      <td>0.380269</td>\n",
       "      <td>0.525654</td>\n",
       "      <td>2.751046</td>\n",
       "      <td>NaN</td>\n",
       "      <td>NaN</td>\n",
       "      <td>NaN</td>\n",
       "    </tr>\n",
       "    <tr>\n",
       "      <th>28</th>\n",
       "      <td>10.425301</td>\n",
       "      <td>0.012590</td>\n",
       "      <td>-0.011795</td>\n",
       "      <td>0.038502</td>\n",
       "      <td>0.142882</td>\n",
       "      <td>0.110394</td>\n",
       "      <td>0.209679</td>\n",
       "      <td>0.370151</td>\n",
       "      <td>-0.936814</td>\n",
       "      <td>1.367633</td>\n",
       "      <td>...</td>\n",
       "      <td>0.523603</td>\n",
       "      <td>0.554301</td>\n",
       "      <td>0.698447</td>\n",
       "      <td>-0.231386</td>\n",
       "      <td>0.365261</td>\n",
       "      <td>0.518548</td>\n",
       "      <td>2.752472</td>\n",
       "      <td>NaN</td>\n",
       "      <td>NaN</td>\n",
       "      <td>NaN</td>\n",
       "    </tr>\n",
       "    <tr>\n",
       "      <th>29</th>\n",
       "      <td>1.745186</td>\n",
       "      <td>0.012396</td>\n",
       "      <td>-0.012951</td>\n",
       "      <td>-0.018736</td>\n",
       "      <td>0.068956</td>\n",
       "      <td>0.007108</td>\n",
       "      <td>-0.013731</td>\n",
       "      <td>-0.046507</td>\n",
       "      <td>-1.044764</td>\n",
       "      <td>-0.675943</td>\n",
       "      <td>...</td>\n",
       "      <td>0.626469</td>\n",
       "      <td>0.518373</td>\n",
       "      <td>0.183227</td>\n",
       "      <td>-0.230371</td>\n",
       "      <td>0.372743</td>\n",
       "      <td>0.519866</td>\n",
       "      <td>2.848368</td>\n",
       "      <td>NaN</td>\n",
       "      <td>NaN</td>\n",
       "      <td>NaN</td>\n",
       "    </tr>\n",
       "  </tbody>\n",
       "</table>\n",
       "<p>5 rows × 89 columns</p>\n",
       "</div>"
      ],
      "text/plain": [
       "                          ret      rVol    1d_ret   1wk_ret    1m_ret  \\\n",
       "date       cluster                                                      \n",
       "2024-03-15 25        4.383299  0.012166 -0.017495 -0.027395 -0.000720   \n",
       "           26        2.462165  0.012035 -0.001765  0.009387  0.015050   \n",
       "           27        2.082460  0.012796 -0.035808 -0.060372 -0.092488   \n",
       "           28       10.425301  0.012590 -0.011795  0.038502  0.142882   \n",
       "           29        1.745186  0.012396 -0.012951 -0.018736  0.068956   \n",
       "\n",
       "                      1Q_ret    6M_ret   12M_ret  feature_1d_ra  \\\n",
       "date       cluster                                                \n",
       "2024-03-15 25       0.102992  0.072872  0.146811      -1.438042   \n",
       "           26      -0.022086  0.025308 -0.005369      -0.146644   \n",
       "           27      -0.037253  0.112426  0.139470      -2.798448   \n",
       "           28       0.110394  0.209679  0.370151      -0.936814   \n",
       "           29       0.007108 -0.013731 -0.046507      -1.044764   \n",
       "\n",
       "                    feature_1wk_ra  ...  lag5_feature_MACD_short  \\\n",
       "date       cluster                  ...                            \n",
       "2024-03-15 25            -1.007008  ...                 0.398363   \n",
       "           26             0.348834  ...                -0.199871   \n",
       "           27            -2.110060  ...                -0.032563   \n",
       "           28             1.367633  ...                 0.523603   \n",
       "           29            -0.675943  ...                 0.626469   \n",
       "\n",
       "                    lag5_feature_MACD_medium  lag5_feature_MACD_long  \\\n",
       "date       cluster                                                     \n",
       "2024-03-15 25                       0.585645                0.664800   \n",
       "           26                      -0.179508                0.128255   \n",
       "           27                       0.246765                0.754907   \n",
       "           28                       0.554301                0.698447   \n",
       "           29                       0.518373                0.183227   \n",
       "\n",
       "                    lag5_feature_skew6m  lag5_feature_skew12m  \\\n",
       "date       cluster                                              \n",
       "2024-03-15 25                 -0.222085              0.386809   \n",
       "           26                 -0.217538              0.392190   \n",
       "           27                 -0.231616              0.380269   \n",
       "           28                 -0.231386              0.365261   \n",
       "           29                 -0.230371              0.372743   \n",
       "\n",
       "                    lag5_feature_kurt6m  lag5_feature_kurt12m  fwd_ret1d  \\\n",
       "date       cluster                                                         \n",
       "2024-03-15 25                  0.580919              2.809109        NaN   \n",
       "           26                  0.566987              2.789701        NaN   \n",
       "           27                  0.525654              2.751046        NaN   \n",
       "           28                  0.518548              2.752472        NaN   \n",
       "           29                  0.519866              2.848368        NaN   \n",
       "\n",
       "                    target  targetBin  \n",
       "date       cluster                     \n",
       "2024-03-15 25          NaN        NaN  \n",
       "           26          NaN        NaN  \n",
       "           27          NaN        NaN  \n",
       "           28          NaN        NaN  \n",
       "           29          NaN        NaN  \n",
       "\n",
       "[5 rows x 89 columns]"
      ]
     },
     "execution_count": 35,
     "metadata": {},
     "output_type": "execute_result"
    }
   ],
   "source": [
    "feats = load_features_data()\n",
    "feats.tail()"
   ]
  },
  {
   "cell_type": "markdown",
   "metadata": {},
   "source": [
    "**Extract the predictive features and target which is one day forward risk adjusted returns - drop na on this subset**"
   ]
  },
  {
   "cell_type": "code",
   "execution_count": 36,
   "metadata": {},
   "outputs": [
    {
     "name": "stdout",
     "output_type": "stream",
     "text": [
      "Shape of features (166530, 79)\n"
     ]
    }
   ],
   "source": [
    "features = [f for f in feats.columns if f.startswith(\"feature\")]\n",
    "lag_feats = [f for f in feats.columns if f.startswith(\"lag\")]\n",
    "target = [\"target\"]\n",
    "\n",
    "all_feats = features + target + lag_feats\n",
    "feats.dropna(subset=all_feats, inplace=True)\n",
    "feats = feats[all_feats]\n",
    "\n",
    "print(\"Shape of features\", feats.shape)"
   ]
  },
  {
   "cell_type": "markdown",
   "metadata": {},
   "source": [
    "**Break out X and y and set up cross-validation**"
   ]
  },
  {
   "cell_type": "code",
   "execution_count": 37,
   "metadata": {},
   "outputs": [],
   "source": [
    "X = feats[all_feats].copy()\n",
    "\n",
    "baseRF = RandomForestRegressor(max_depth=5, \n",
    "                               n_estimators=1000,\n",
    "                               max_features=int(1),\n",
    "                               n_jobs=-3)\n",
    "\n",
    "# simple-grid\n",
    "grid = {'n_estimators': np.arange(100, 1000, 100),\n",
    "        'max_depth': [3, 6, 9],\n",
    "        'max_features': [int(1), 'sqrt'],\n",
    "        'min_weight_fraction_leaf': np.arange(0.0, 0.05, 0.005)}\n",
    "\n",
    "params = ParameterSampler(n_iter=25, param_distributions=grid)\n"
   ]
  },
  {
   "cell_type": "markdown",
   "metadata": {},
   "source": [
    "**Form the training loop, here we train on 3 year expanding windows, using 90% of each split for training and 10% for tuning hyper-parameters, we then use the same model to forecast forward 3-years before re-training again.**"
   ]
  },
  {
   "cell_type": "code",
   "execution_count": 38,
   "metadata": {},
   "outputs": [
    {
     "name": "stderr",
     "output_type": "stream",
     "text": [
      "0it [00:00, ?it/s]"
     ]
    },
    {
     "name": "stdout",
     "output_type": "stream",
     "text": [
      "7\n",
      "(20439, 13) (2250, 13)\n",
      "Iter: 0: Score: 1.7076212604160506\n",
      "Iter: 1: Score: 1.6999246113972242\n",
      "Iter: 2: Score: 1.695660420096738\n",
      "Iter: 3: Score: 1.6921421377741996\n",
      "Iter: 4: Score: 1.6972248515973114\n",
      "Iter: 5: Score: 1.7096650068624888\n",
      "Iter: 6: Score: 1.7123144623682072\n",
      "Iter: 7: Score: 1.699196885014563\n",
      "Iter: 8: Score: 1.7013950950836785\n",
      "Iter: 9: Score: 1.6879553630344764\n",
      "Iter: 10: Score: 1.7038937138358075\n",
      "Iter: 11: Score: 1.6935225124391229\n",
      "Iter: 12: Score: 1.6946237506160595\n",
      "Iter: 13: Score: 1.687679488161436\n",
      "Iter: 14: Score: 1.69473532616149\n",
      "Iter: 15: Score: 1.7032375778179287\n",
      "Iter: 16: Score: 1.6872518208633778\n",
      "Iter: 17: Score: 1.7028547075210312\n",
      "Iter: 18: Score: 1.700631655456489\n",
      "Iter: 19: Score: 1.6918228637831865\n",
      "Iter: 20: Score: 1.6972488115467714\n",
      "Iter: 21: Score: 1.6858081048835079\n",
      "Iter: 22: Score: 1.7022865291115024\n",
      "Iter: 23: Score: 1.687667223885381\n"
     ]
    },
    {
     "name": "stderr",
     "output_type": "stream",
     "text": [
      "1it [00:35, 35.04s/it]"
     ]
    },
    {
     "name": "stdout",
     "output_type": "stream",
     "text": [
      "Iter: 24: Score: 1.7029605944183843\n",
      "{'n_estimators': 100, 'min_weight_fraction_leaf': 0.04, 'max_features': 1, 'max_depth': 3}\n",
      "(40878, 13) (4530, 13)\n",
      "Iter: 0: Score: 1.844988859304403\n",
      "Iter: 1: Score: 1.8678687713406066\n",
      "Iter: 2: Score: 1.8451978797169792\n",
      "Iter: 3: Score: 1.8588102527246724\n",
      "Iter: 4: Score: 1.8644230052890791\n",
      "Iter: 5: Score: 1.8471122302788199\n",
      "Iter: 6: Score: 1.8670196987371002\n",
      "Iter: 7: Score: 1.8444769447491207\n",
      "Iter: 8: Score: 1.8497810015713643\n",
      "Iter: 9: Score: 1.8474655588628948\n",
      "Iter: 10: Score: 1.8510902638042042\n",
      "Iter: 11: Score: 1.8518566558243488\n",
      "Iter: 12: Score: 1.8541196503992605\n",
      "Iter: 13: Score: 1.850342769690807\n",
      "Iter: 14: Score: 1.8513577485955177\n",
      "Iter: 15: Score: 1.8504802021525948\n",
      "Iter: 16: Score: 1.8500935711784583\n",
      "Iter: 17: Score: 1.855014431359565\n",
      "Iter: 18: Score: 1.8540565135827778\n",
      "Iter: 19: Score: 1.8460596547443586\n",
      "Iter: 20: Score: 1.8558416565432199\n",
      "Iter: 21: Score: 1.8481584440113594\n",
      "Iter: 22: Score: 1.8667034318166478\n",
      "Iter: 23: Score: 1.8579456068124358\n",
      "Iter: 24: Score: 1.8542452428151575\n",
      "{'n_estimators': 200, 'min_weight_fraction_leaf': 0.03, 'max_features': 1, 'max_depth': 3}\n"
     ]
    },
    {
     "name": "stderr",
     "output_type": "stream",
     "text": [
      "2it [01:55, 61.89s/it]"
     ]
    },
    {
     "name": "stdout",
     "output_type": "stream",
     "text": [
      "(61290, 13) (6810, 13)\n",
      "Iter: 0: Score: 2.082765391919954\n",
      "Iter: 1: Score: 2.083172786252606\n",
      "Iter: 2: Score: 2.082384269287987\n",
      "Iter: 3: Score: 2.0834890418386323\n",
      "Iter: 4: Score: 2.0832302654600627\n",
      "Iter: 5: Score: 2.0828428883651684\n",
      "Iter: 6: Score: 2.0829080694839375\n",
      "Iter: 7: Score: 2.0840560460570727\n",
      "Iter: 8: Score: 2.240762807583421\n",
      "Iter: 9: Score: 2.0871508673774413\n",
      "Iter: 10: Score: 2.0812583633509005\n",
      "Iter: 11: Score: 2.2328660439443055\n",
      "Iter: 12: Score: 2.080457789238336\n",
      "Iter: 13: Score: 2.0879385699181965\n",
      "Iter: 14: Score: 2.0835693685005756\n",
      "Iter: 15: Score: 2.0879501325697842\n",
      "Iter: 16: Score: 2.0942766136445696\n",
      "Iter: 17: Score: 2.102576087079022\n",
      "Iter: 18: Score: 2.085414245054844\n",
      "Iter: 19: Score: 2.0842326140825587\n",
      "Iter: 20: Score: 2.099624490738531\n",
      "Iter: 21: Score: 2.22276633677418\n",
      "Iter: 22: Score: 2.0813489811807693\n",
      "Iter: 23: Score: 2.0847520746495256\n",
      "Iter: 24: Score: 2.0920299190748364\n",
      "{'n_estimators': 300, 'min_weight_fraction_leaf': 0.005, 'max_features': 1, 'max_depth': 3}\n"
     ]
    },
    {
     "name": "stderr",
     "output_type": "stream",
     "text": [
      "3it [03:29, 76.51s/it]"
     ]
    },
    {
     "name": "stdout",
     "output_type": "stream",
     "text": [
      "(81702, 13) (9060, 13)\n",
      "Iter: 0: Score: 1.6401777033966543\n",
      "Iter: 1: Score: 1.6442472222606648\n",
      "Iter: 2: Score: 1.641263002773385\n",
      "Iter: 3: Score: 1.6443666581485208\n",
      "Iter: 4: Score: 1.6417044827288338\n",
      "Iter: 5: Score: 1.6402961442660735\n",
      "Iter: 6: Score: 1.6402440837706393\n",
      "Iter: 7: Score: 1.6435432054454946\n",
      "Iter: 8: Score: 1.6407338100450362\n",
      "Iter: 9: Score: 1.6398367945074364\n",
      "Iter: 10: Score: 1.6436470190868087\n",
      "Iter: 11: Score: 1.6629491913045245\n",
      "Iter: 12: Score: 1.6418988640290653\n",
      "Iter: 13: Score: 1.6429617799320408\n",
      "Iter: 14: Score: 1.6410353034146976\n",
      "Iter: 15: Score: 1.640489838212951\n",
      "Iter: 16: Score: 1.6435199006270982\n",
      "Iter: 17: Score: 1.6398369601672198\n",
      "Iter: 18: Score: 1.640389967507595\n",
      "Iter: 19: Score: 1.6407008680474577\n",
      "Iter: 20: Score: 1.6394912091652951\n",
      "Iter: 21: Score: 1.6428831511416289\n",
      "Iter: 22: Score: 1.6433871868764511\n",
      "Iter: 23: Score: 1.6382223495835664\n",
      "Iter: 24: Score: 1.640892898150301\n",
      "{'n_estimators': 100, 'min_weight_fraction_leaf': 0.045, 'max_features': 1, 'max_depth': 3}\n"
     ]
    },
    {
     "name": "stderr",
     "output_type": "stream",
     "text": [
      "4it [04:44, 76.00s/it]"
     ]
    },
    {
     "name": "stdout",
     "output_type": "stream",
     "text": [
      "(102114, 13) (11340, 13)\n",
      "Iter: 0: Score: 1.499950990603956\n",
      "Iter: 1: Score: 1.498221806085416\n",
      "Iter: 2: Score: 1.500309836715176\n",
      "Iter: 3: Score: 1.4990976655411037\n",
      "Iter: 4: Score: 1.5012264213211302\n",
      "Iter: 5: Score: 1.4986374196238936\n",
      "Iter: 6: Score: 1.5011074926810692\n",
      "Iter: 7: Score: 1.4984478620148112\n",
      "Iter: 8: Score: 1.4987864013291874\n",
      "Iter: 9: Score: 1.499899902566967\n",
      "Iter: 10: Score: 1.4986883997896145\n",
      "Iter: 11: Score: 1.499181766966865\n",
      "Iter: 12: Score: 1.5009323670477952\n",
      "Iter: 13: Score: 1.4992732980512282\n",
      "Iter: 14: Score: 1.5014027217300858\n",
      "Iter: 15: Score: 1.499055059862965\n",
      "Iter: 16: Score: 1.4990708068859666\n",
      "Iter: 17: Score: 1.4982892873584446\n",
      "Iter: 18: Score: 1.4990000885130512\n",
      "Iter: 19: Score: 1.5000071740515204\n",
      "Iter: 20: Score: 1.4988098727828376\n",
      "Iter: 21: Score: 1.4985976373350778\n",
      "Iter: 22: Score: 1.4986927741982616\n",
      "Iter: 23: Score: 1.499092348960328\n",
      "Iter: 24: Score: 1.500168066883584\n",
      "{'n_estimators': 200, 'min_weight_fraction_leaf': 0.01, 'max_features': 1, 'max_depth': 3}\n"
     ]
    },
    {
     "name": "stderr",
     "output_type": "stream",
     "text": [
      "5it [07:23, 105.82s/it]"
     ]
    },
    {
     "name": "stdout",
     "output_type": "stream",
     "text": [
      "(122526, 13) (13590, 13)\n",
      "Iter: 0: Score: 1.546623979809437\n",
      "Iter: 1: Score: 1.5439421383229606\n",
      "Iter: 2: Score: 1.5469463597610749\n",
      "Iter: 3: Score: 1.5447279642994112\n",
      "Iter: 4: Score: 1.5453789149298058\n",
      "Iter: 5: Score: 1.5468594317164281\n",
      "Iter: 6: Score: 1.5465941799252136\n",
      "Iter: 7: Score: 1.5469006790949722\n",
      "Iter: 8: Score: 1.547986806241072\n",
      "Iter: 9: Score: 1.548232577590718\n",
      "Iter: 10: Score: 1.545300442998237\n",
      "Iter: 11: Score: 1.5461761244777286\n",
      "Iter: 12: Score: 1.5465052738459057\n",
      "Iter: 13: Score: 1.546430231762374\n",
      "Iter: 14: Score: 1.5472411179309002\n",
      "Iter: 15: Score: 1.547855225837436\n",
      "Iter: 16: Score: 1.5472906379997222\n",
      "Iter: 17: Score: 1.5454857624532408\n",
      "Iter: 18: Score: 1.5459993059676573\n",
      "Iter: 19: Score: 1.546386889804564\n",
      "Iter: 20: Score: 1.545838499161958\n",
      "Iter: 21: Score: 1.5435271277378353\n",
      "Iter: 22: Score: 1.5461197160667883\n",
      "Iter: 23: Score: 1.5469236450704782\n",
      "Iter: 24: Score: 1.545143259332172\n",
      "{'n_estimators': 500, 'min_weight_fraction_leaf': 0.0, 'max_features': 1, 'max_depth': 3}\n"
     ]
    },
    {
     "name": "stderr",
     "output_type": "stream",
     "text": [
      "6it [09:58, 122.68s/it]"
     ]
    },
    {
     "name": "stdout",
     "output_type": "stream",
     "text": [
      "(142938, 13) (15870, 13)\n",
      "Iter: 0: Score: 1.4977110931418638\n",
      "Iter: 1: Score: 1.4995790444047001\n",
      "Iter: 2: Score: 1.4980311884825401\n",
      "Iter: 3: Score: 1.4974560530570111\n",
      "Iter: 4: Score: 1.497913165798235\n",
      "Iter: 5: Score: 1.4985514546978718\n",
      "Iter: 6: Score: 1.5004561113392436\n",
      "Iter: 7: Score: 1.498796516689275\n",
      "Iter: 8: Score: 1.49902297508479\n",
      "Iter: 9: Score: 1.4979417930956516\n",
      "Iter: 10: Score: 1.4985581886010946\n",
      "Iter: 11: Score: 1.4984249855865224\n",
      "Iter: 12: Score: 1.4982747805441994\n",
      "Iter: 13: Score: 1.4999349158155926\n",
      "Iter: 14: Score: 1.4985957117221596\n",
      "Iter: 15: Score: 1.4979022627264706\n",
      "Iter: 16: Score: 1.4984202150905535\n",
      "Iter: 17: Score: 1.5114103523177513\n",
      "Iter: 18: Score: 1.4987405954226836\n",
      "Iter: 19: Score: 1.4987798301012323\n",
      "Iter: 20: Score: 1.4993706224155063\n",
      "Iter: 21: Score: 1.4981360194311075\n",
      "Iter: 22: Score: 1.4979515554431995\n",
      "Iter: 23: Score: 1.5021611041757166\n",
      "Iter: 24: Score: 1.503435284629971\n",
      "{'n_estimators': 900, 'min_weight_fraction_leaf': 0.045, 'max_features': 'sqrt', 'max_depth': 3}\n"
     ]
    },
    {
     "name": "stderr",
     "output_type": "stream",
     "text": [
      "7it [14:14, 122.02s/it]\n"
     ]
    }
   ],
   "source": [
    "predictions = []\n",
    "scores = []\n",
    "for train, test in tqdm(get_cv_splits(X, split_length=252*3)):\n",
    "    # break out X and y train, test\n",
    "    X_train, y_train = train[features], train[target] \n",
    "    X_test, y_test = test[features], test[target]\n",
    "\n",
    "    # hyper-param loop\n",
    "    X_train2, X_val, y_train2, y_val = train_val_split(X_train, y_train)\n",
    "    print(X_train2.shape, X_val.shape)\n",
    "\n",
    "    # inner loop for parameter tuning\n",
    "    gscv_scores = {'scores': [], 'grid':[]}\n",
    "    for k, p in enumerate(params):\n",
    "        model = RandomForestRegressor(**p)\n",
    "        model.n_jobs=-1\n",
    "        model.fit(X_train2, y_train2.values.reshape(y_train2.shape[0], ))\n",
    "        _pred = model.predict(X_val)\n",
    "        _score = mean_squared_error(y_val, _pred)\n",
    "        gscv_scores['scores'].append(_score)\n",
    "        gscv_scores['grid'].append(p)\n",
    "        print(f'Iter: {k}: Score: {_score}')\n",
    "\n",
    "    # now fit the best model\n",
    "    best_model = pd.DataFrame(gscv_scores).sort_values(by='scores').head(1)['grid'].values[0]\n",
    "    print(best_model)\n",
    "    best_model = RandomForestRegressor(**best_model)\n",
    "    best_model.n_jobs=-1\n",
    "    best_model.fit(X_train, y_train.values.reshape(y_train.shape[0], ))\n",
    "    preds = best_model.predict(X_test)\n",
    "\n",
    "    # append the predictions\n",
    "    predictions.append(pd.Series(index=y_test.index, data=preds))\n",
    "\n",
    "    # score\n",
    "    scores.append(mean_squared_error(y_test, preds))"
   ]
  },
  {
   "cell_type": "markdown",
   "metadata": {},
   "source": [
    "**Now we join the forecasted returns back into the returns df, we can create a simple portfolio construction strategy where we equal weight the top half, top quartile of the clusters. We can also create a long short strategy that goes long the top quartile of forecasting cluster returns and short the bottom quartile, for a market neutral portfolio.**"
   ]
  },
  {
   "cell_type": "code",
   "execution_count": 45,
   "metadata": {},
   "outputs": [],
   "source": [
    "all_feats = load_features_data()\n",
    "all_feats.tail()\n",
    "\n",
    "predictions = predictions.join(all_feats[['1d_ret']])"
   ]
  },
  {
   "cell_type": "code",
   "execution_count": 52,
   "metadata": {},
   "outputs": [],
   "source": [
    "predictions['signal_quintile']=predictions.groupby(by='date')['predictions'].apply(lambda x: pd.qcut(x, 5, labels=False)).droplevel(0)\n"
   ]
  },
  {
   "cell_type": "code",
   "execution_count": 54,
   "metadata": {},
   "outputs": [],
   "source": [
    "predictions['signal_quintiles_shift'] = predictions.groupby(by='cluster')['signal_quintile'].shift(1)\n"
   ]
  },
  {
   "cell_type": "markdown",
   "metadata": {},
   "source": [
    "**Plot some strategy returns**"
   ]
  },
  {
   "cell_type": "code",
   "execution_count": 61,
   "metadata": {},
   "outputs": [
    {
     "data": {
      "text/plain": [
       "<Axes: title={'center': 'Forecasted by Cluster Quintile'}, xlabel='date'>"
      ]
     },
     "execution_count": 61,
     "metadata": {},
     "output_type": "execute_result"
    },
    {
     "data": {
      "image/png": "[encoded data removed]",
      "text/plain": [
       "<Figure size 640x480 with 1 Axes>"
      ]
     },
     "metadata": {},
     "output_type": "display_data"
    }
   ],
   "source": [
    "(1+predictions.groupby(by=['date', 'signal_quintiles_shift'])['1d_ret'].mean().unstack()).cumprod().plot(title=\"Forecasted by Cluster Quintile\")"
   ]
  },
  {
   "cell_type": "code",
   "execution_count": null,
   "metadata": {},
   "outputs": [],
   "source": []
  }
 ],
 "metadata": {
  "kernelspec": {
   "display_name": "base",
   "language": "python",
   "name": "python3"
  },
  "language_info": {
   "codemirror_mode": {
    "name": "ipython",
    "version": 3
   },
   "file_extension": ".py",
   "mimetype": "text/x-python",
   "name": "python",
   "nbconvert_exporter": "python",
   "pygments_lexer": "ipython3",
   "version": "3.11.5"
  }
 },
 "nbformat": 4,
 "nbformat_minor": 2
}
