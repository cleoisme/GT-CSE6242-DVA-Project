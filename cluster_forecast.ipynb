{
 "cells": [
  {
   "cell_type": "code",
   "execution_count": 1,
   "metadata": {},
   "outputs": [],
   "source": [
    "import pandas as pd\n",
    "import numpy as np\n",
    "from sklearn.ensemble import RandomForestRegressor, HistGradientBoostingRegressor\n",
    "from sklearn.linear_model import ElasticNet, LassoCV, ElasticNetCV\n",
    "from sklearn.pipeline import Pipeline\n",
    "from sklearn.preprocessing import RobustScaler\n",
    "from sklearn.neural_network import MLPRegressor\n",
    "from utils.ml_utils import *\n",
    "\n",
    "from sklearn.metrics import mean_squared_error\n",
    "from sklearn.model_selection import ParameterSampler\n",
    "from tqdm import tqdm\n",
    "\n",
    "from data_prep import load_features_data\n",
    "from sklearn.feature_selection import RFECV, SelectFromModel\n",
    "from sklearn.model_selection import TimeSeriesSplit\n",
    "\n",
    "from sklearn.decomposition import PCA\n",
    "import sqlite3 as sql\n",
    "\n"
   ]
  },
  {
   "cell_type": "markdown",
   "metadata": {},
   "source": [
    "**Load the features data, these are popular trend following features used in prior literature, this notebook assumes you have the pickle file residual_returns.pkl saved in the root directory, you can download this file from the OneDrive**"
   ]
  },
  {
   "cell_type": "code",
   "execution_count": 2,
   "metadata": {},
   "outputs": [
    {
     "data": {
      "text/html": [
       "<div>\n",
       "<style scoped>\n",
       "    .dataframe tbody tr th:only-of-type {\n",
       "        vertical-align: middle;\n",
       "    }\n",
       "\n",
       "    .dataframe tbody tr th {\n",
       "        vertical-align: top;\n",
       "    }\n",
       "\n",
       "    .dataframe thead th {\n",
       "        text-align: right;\n",
       "    }\n",
       "</style>\n",
       "<table border=\"1\" class=\"dataframe\">\n",
       "  <thead>\n",
       "    <tr style=\"text-align: right;\">\n",
       "      <th></th>\n",
       "      <th></th>\n",
       "      <th>ret</th>\n",
       "      <th>rVol</th>\n",
       "      <th>1d_ret</th>\n",
       "      <th>1wk_ret</th>\n",
       "      <th>1m_ret</th>\n",
       "      <th>1Q_ret</th>\n",
       "      <th>6M_ret</th>\n",
       "      <th>12M_ret</th>\n",
       "      <th>feature_1d_ra</th>\n",
       "      <th>feature_1wk_ra</th>\n",
       "      <th>...</th>\n",
       "      <th>lag5_feature_MACD_short</th>\n",
       "      <th>lag5_feature_MACD_medium</th>\n",
       "      <th>lag5_feature_MACD_long</th>\n",
       "      <th>lag5_feature_skew6m</th>\n",
       "      <th>lag5_feature_skew12m</th>\n",
       "      <th>lag5_feature_kurt6m</th>\n",
       "      <th>lag5_feature_kurt12m</th>\n",
       "      <th>fwd_ret1d</th>\n",
       "      <th>target</th>\n",
       "      <th>targetBin</th>\n",
       "    </tr>\n",
       "    <tr>\n",
       "      <th>date</th>\n",
       "      <th>cluster</th>\n",
       "      <th></th>\n",
       "      <th></th>\n",
       "      <th></th>\n",
       "      <th></th>\n",
       "      <th></th>\n",
       "      <th></th>\n",
       "      <th></th>\n",
       "      <th></th>\n",
       "      <th></th>\n",
       "      <th></th>\n",
       "      <th></th>\n",
       "      <th></th>\n",
       "      <th></th>\n",
       "      <th></th>\n",
       "      <th></th>\n",
       "      <th></th>\n",
       "      <th></th>\n",
       "      <th></th>\n",
       "      <th></th>\n",
       "      <th></th>\n",
       "      <th></th>\n",
       "    </tr>\n",
       "  </thead>\n",
       "  <tbody>\n",
       "    <tr>\n",
       "      <th rowspan=\"5\" valign=\"top\">2024-03-15</th>\n",
       "      <th>15</th>\n",
       "      <td>3.398228</td>\n",
       "      <td>0.010781</td>\n",
       "      <td>-0.018600</td>\n",
       "      <td>-0.010795</td>\n",
       "      <td>-0.003738</td>\n",
       "      <td>-0.010729</td>\n",
       "      <td>0.088150</td>\n",
       "      <td>0.044806</td>\n",
       "      <td>-1.725280</td>\n",
       "      <td>-0.447788</td>\n",
       "      <td>...</td>\n",
       "      <td>0.138748</td>\n",
       "      <td>0.259889</td>\n",
       "      <td>0.574767</td>\n",
       "      <td>-0.202834</td>\n",
       "      <td>-0.023611</td>\n",
       "      <td>0.229975</td>\n",
       "      <td>0.324046</td>\n",
       "      <td>NaN</td>\n",
       "      <td>NaN</td>\n",
       "      <td>NaN</td>\n",
       "    </tr>\n",
       "    <tr>\n",
       "      <th>16</th>\n",
       "      <td>3.080426</td>\n",
       "      <td>0.010995</td>\n",
       "      <td>-0.020717</td>\n",
       "      <td>-0.020520</td>\n",
       "      <td>-0.008363</td>\n",
       "      <td>0.004148</td>\n",
       "      <td>0.084058</td>\n",
       "      <td>-0.022932</td>\n",
       "      <td>-1.884206</td>\n",
       "      <td>-0.834625</td>\n",
       "      <td>...</td>\n",
       "      <td>0.097605</td>\n",
       "      <td>0.322557</td>\n",
       "      <td>0.642906</td>\n",
       "      <td>-0.195628</td>\n",
       "      <td>-0.024484</td>\n",
       "      <td>0.209541</td>\n",
       "      <td>0.330980</td>\n",
       "      <td>NaN</td>\n",
       "      <td>NaN</td>\n",
       "      <td>NaN</td>\n",
       "    </tr>\n",
       "    <tr>\n",
       "      <th>17</th>\n",
       "      <td>4.019482</td>\n",
       "      <td>0.011090</td>\n",
       "      <td>-0.018740</td>\n",
       "      <td>-0.010313</td>\n",
       "      <td>0.002589</td>\n",
       "      <td>-0.059504</td>\n",
       "      <td>-0.079410</td>\n",
       "      <td>-0.113126</td>\n",
       "      <td>-1.689814</td>\n",
       "      <td>-0.415871</td>\n",
       "      <td>...</td>\n",
       "      <td>0.101396</td>\n",
       "      <td>0.006033</td>\n",
       "      <td>-0.415118</td>\n",
       "      <td>-0.213701</td>\n",
       "      <td>-0.034735</td>\n",
       "      <td>0.168224</td>\n",
       "      <td>0.327998</td>\n",
       "      <td>NaN</td>\n",
       "      <td>NaN</td>\n",
       "      <td>NaN</td>\n",
       "    </tr>\n",
       "    <tr>\n",
       "      <th>18</th>\n",
       "      <td>10.257413</td>\n",
       "      <td>0.011017</td>\n",
       "      <td>-0.014164</td>\n",
       "      <td>-0.005898</td>\n",
       "      <td>0.047696</td>\n",
       "      <td>0.064581</td>\n",
       "      <td>0.131315</td>\n",
       "      <td>0.153882</td>\n",
       "      <td>-1.285637</td>\n",
       "      <td>-0.239423</td>\n",
       "      <td>...</td>\n",
       "      <td>0.483758</td>\n",
       "      <td>0.557877</td>\n",
       "      <td>0.717302</td>\n",
       "      <td>-0.229808</td>\n",
       "      <td>-0.042143</td>\n",
       "      <td>0.153079</td>\n",
       "      <td>0.316662</td>\n",
       "      <td>NaN</td>\n",
       "      <td>NaN</td>\n",
       "      <td>NaN</td>\n",
       "    </tr>\n",
       "    <tr>\n",
       "      <th>19</th>\n",
       "      <td>3.623791</td>\n",
       "      <td>0.010924</td>\n",
       "      <td>0.001962</td>\n",
       "      <td>0.001796</td>\n",
       "      <td>0.001793</td>\n",
       "      <td>0.111935</td>\n",
       "      <td>0.238240</td>\n",
       "      <td>0.080132</td>\n",
       "      <td>0.179593</td>\n",
       "      <td>0.073513</td>\n",
       "      <td>...</td>\n",
       "      <td>0.173823</td>\n",
       "      <td>0.503369</td>\n",
       "      <td>0.849991</td>\n",
       "      <td>-0.236460</td>\n",
       "      <td>-0.033288</td>\n",
       "      <td>0.163940</td>\n",
       "      <td>0.359519</td>\n",
       "      <td>NaN</td>\n",
       "      <td>NaN</td>\n",
       "      <td>NaN</td>\n",
       "    </tr>\n",
       "  </tbody>\n",
       "</table>\n",
       "<p>5 rows × 89 columns</p>\n",
       "</div>"
      ],
      "text/plain": [
       "                          ret      rVol    1d_ret   1wk_ret    1m_ret  \\\n",
       "date       cluster                                                      \n",
       "2024-03-15 15        3.398228  0.010781 -0.018600 -0.010795 -0.003738   \n",
       "           16        3.080426  0.010995 -0.020717 -0.020520 -0.008363   \n",
       "           17        4.019482  0.011090 -0.018740 -0.010313  0.002589   \n",
       "           18       10.257413  0.011017 -0.014164 -0.005898  0.047696   \n",
       "           19        3.623791  0.010924  0.001962  0.001796  0.001793   \n",
       "\n",
       "                      1Q_ret    6M_ret   12M_ret  feature_1d_ra  \\\n",
       "date       cluster                                                \n",
       "2024-03-15 15      -0.010729  0.088150  0.044806      -1.725280   \n",
       "           16       0.004148  0.084058 -0.022932      -1.884206   \n",
       "           17      -0.059504 -0.079410 -0.113126      -1.689814   \n",
       "           18       0.064581  0.131315  0.153882      -1.285637   \n",
       "           19       0.111935  0.238240  0.080132       0.179593   \n",
       "\n",
       "                    feature_1wk_ra  ...  lag5_feature_MACD_short  \\\n",
       "date       cluster                  ...                            \n",
       "2024-03-15 15            -0.447788  ...                 0.138748   \n",
       "           16            -0.834625  ...                 0.097605   \n",
       "           17            -0.415871  ...                 0.101396   \n",
       "           18            -0.239423  ...                 0.483758   \n",
       "           19             0.073513  ...                 0.173823   \n",
       "\n",
       "                    lag5_feature_MACD_medium  lag5_feature_MACD_long  \\\n",
       "date       cluster                                                     \n",
       "2024-03-15 15                       0.259889                0.574767   \n",
       "           16                       0.322557                0.642906   \n",
       "           17                       0.006033               -0.415118   \n",
       "           18                       0.557877                0.717302   \n",
       "           19                       0.503369                0.849991   \n",
       "\n",
       "                    lag5_feature_skew6m  lag5_feature_skew12m  \\\n",
       "date       cluster                                              \n",
       "2024-03-15 15                 -0.202834             -0.023611   \n",
       "           16                 -0.195628             -0.024484   \n",
       "           17                 -0.213701             -0.034735   \n",
       "           18                 -0.229808             -0.042143   \n",
       "           19                 -0.236460             -0.033288   \n",
       "\n",
       "                    lag5_feature_kurt6m  lag5_feature_kurt12m  fwd_ret1d  \\\n",
       "date       cluster                                                         \n",
       "2024-03-15 15                  0.229975              0.324046        NaN   \n",
       "           16                  0.209541              0.330980        NaN   \n",
       "           17                  0.168224              0.327998        NaN   \n",
       "           18                  0.153079              0.316662        NaN   \n",
       "           19                  0.163940              0.359519        NaN   \n",
       "\n",
       "                    target  targetBin  \n",
       "date       cluster                     \n",
       "2024-03-15 15          NaN        NaN  \n",
       "           16          NaN        NaN  \n",
       "           17          NaN        NaN  \n",
       "           18          NaN        NaN  \n",
       "           19          NaN        NaN  \n",
       "\n",
       "[5 rows x 89 columns]"
      ]
     },
     "execution_count": 2,
     "metadata": {},
     "output_type": "execute_result"
    }
   ],
   "source": [
    "feats = load_features_data()\n",
    "feats.tail()\n"
   ]
  },
  {
   "cell_type": "code",
   "execution_count": 3,
   "metadata": {},
   "outputs": [
    {
     "name": "stdout",
     "output_type": "stream",
     "text": [
      "count    125019.000000\n",
      "mean          0.029297\n",
      "std           1.228097\n",
      "min         -18.536928\n",
      "25%          -0.597784\n",
      "50%           0.062029\n",
      "75%           0.686203\n",
      "max          70.166324\n",
      "Name: target, dtype: float64\n",
      "count    125019.000000\n",
      "mean          0.028428\n",
      "std           1.201198\n",
      "min         -10.000000\n",
      "25%          -0.597784\n",
      "50%           0.062029\n",
      "75%           0.686203\n",
      "max          10.000000\n",
      "Name: target, dtype: float64\n"
     ]
    },
    {
     "data": {
      "image/png": "[encoded data removed]",
      "text/plain": [
       "<Figure size 640x480 with 1 Axes>"
      ]
     },
     "metadata": {},
     "output_type": "display_data"
    }
   ],
   "source": [
    "# distribution of tragets\n",
    "feats['target'].plot(kind='box', title=\"Box Plot of Target Variable\")\n",
    "print(feats['target'].describe())\n",
    "\n",
    "# clip the three large outliers\n",
    "feats['target'] = feats['target'].clip(-10., 10.)\n",
    "print(feats['target'].describe())"
   ]
  },
  {
   "cell_type": "code",
   "execution_count": 4,
   "metadata": {},
   "outputs": [
    {
     "data": {
      "text/plain": [
       "<Axes: >"
      ]
     },
     "execution_count": 4,
     "metadata": {},
     "output_type": "execute_result"
    },
    {
     "data": {
      "image/png": "[encoded data removed]",
      "text/plain": [
       "<Figure size 640x480 with 1 Axes>"
      ]
     },
     "metadata": {},
     "output_type": "display_data"
    }
   ],
   "source": [
    "feats['target'].plot(kind='box')"
   ]
  },
  {
   "cell_type": "markdown",
   "metadata": {},
   "source": [
    "**Extract the predictive features and target, which is one day forward risk adjusted return - drop na on this subset**"
   ]
  },
  {
   "cell_type": "code",
   "execution_count": 5,
   "metadata": {},
   "outputs": [
    {
     "name": "stdout",
     "output_type": "stream",
     "text": [
      "Shape of features (119900, 79)\n"
     ]
    }
   ],
   "source": [
    "features = [f for f in feats.columns if f.startswith(\"feature\")]\n",
    "target = [\"target\"]\n",
    "lag_feats = [f for f in feats.columns if f.startswith('lag')]\n",
    "\n",
    "# make a new feature vector for features + lags\n",
    "\n",
    "all_feats = features + lag_feats + target\n",
    "feats.dropna(subset=all_feats, inplace=True)\n",
    "feats = feats[all_feats]\n",
    "\n",
    "print(\"Shape of features\", feats.shape)\n",
    "\n"
   ]
  },
  {
   "cell_type": "markdown",
   "metadata": {},
   "source": [
    "**Break out X and y and set up cross-validation, define models**"
   ]
  },
  {
   "cell_type": "code",
   "execution_count": 6,
   "metadata": {},
   "outputs": [],
   "source": [
    "X = feats[all_feats].copy()\n",
    "\n",
    "# set some configs\n",
    "N_ITER=25\n",
    "\n",
    "# Random Forest Regressor\n",
    "baseRF = RandomForestRegressor(max_depth=5, \n",
    "                               n_estimators=1000,\n",
    "                               max_features=int(1),\n",
    "                               random_state=49, \n",
    "                               n_jobs=-1)\n",
    "\n",
    "# simple-grid\n",
    "grid = {'rf__n_estimators': np.arange(100, 2000, 100),\n",
    "        'rf__max_depth': [3, 6, 9, 12],\n",
    "        'rf__max_features': [int(1), 'sqrt'],\n",
    "        'rf__min_weight_fraction_leaf': np.arange(0.0, 0.05, 0.005)}\n",
    "paramsRF = ParameterSampler(n_iter=N_ITER, param_distributions=grid)\n",
    "\n",
    "\n",
    "rfPipe = Pipeline(steps=[('scaler', RobustScaler()), ('rf',baseRF)])\n",
    "rfPipeFS = Pipeline(steps=[('scaler', RobustScaler()),\n",
    "                           ('selector', SelectFromModel(baseRF, threshold='mean')),\n",
    "                           ('rf',baseRF)])\n",
    "\n",
    "# Elastic Net Regressor\n",
    "net = ElasticNet(max_iter=1000)\n",
    "eNetPipe = Pipeline(steps=[('scaler', RobustScaler()), ('net', net)])\n",
    "eNetPipePCA = Pipeline(steps=[('scaler', RobustScaler()),\n",
    "                              ('pca', PCA(n_components=.95)),\n",
    "                              ('net', net)])\n",
    "\n",
    "eNet_grid = {'net__alpha': [1e-5, 1e-4, 1e-3, 1e-2],\n",
    "             'net__l1_ratio': np.arange(0.10, .90, 0.01)}\n",
    "\n",
    "paramsNet = ParameterSampler(n_iter=N_ITER, param_distributions=eNet_grid)\n",
    "\n",
    "# MLP Regressor\n",
    "mlp = MLPRegressor(hidden_layer_sizes=(16, 8),\n",
    "                   random_state=49,\n",
    "                   shuffle=False,\n",
    "                   max_iter=500,\n",
    "                   early_stopping=True,\n",
    "                   learning_rate='constant')\n",
    "\n",
    "mlp_pipe = Pipeline(steps=[('scaler', RobustScaler()), ('mlp', mlp)])\n",
    "mlp_pipeFS = Pipeline(steps=[('scaler', RobustScaler()),\n",
    "                             ('selector', SelectFromModel(baseRF, threshold='mean')),\n",
    "                             ('mlp', mlp)])\n",
    "mlp_grid = {'mlp__learning_rate_init': [.000001, .00001, .0001, .001],\n",
    "            'mlp__batch_size': [32, 64, 128, 256],\n",
    "            'mlp__hidden_layer_sizes': [(12, 6), (16, 8), (6, 3), (4, 2), (32, 16)],\n",
    "            'mlp__alpha': [.000001, .00001, .0001, .001, .01]}\n",
    "mlp_sampler = ParameterSampler(n_iter=N_ITER, param_distributions=mlp_grid)\n",
    "\n",
    "\n",
    "# make the hidden layer sizes a little bit smaller here\n",
    "mlp_grid2 = {'mlp__learning_rate_init': [.000001, .00001, .0001, .001],\n",
    "            'mlp__batch_size': [32, 64, 128, 256],\n",
    "            'mlp__hidden_layer_sizes': [(6, 3), (4, 2), (8, 4)],\n",
    "            'mlp__alpha': [.000001, .00001, .0001, .001, .01]}\n",
    "mlp_sampler2 = ParameterSampler(n_iter=N_ITER, param_distributions=mlp_grid2)\n",
    "\n",
    "# append the models\n",
    "models = [(mlp_pipe, mlp_sampler, 'preds_MLP'),\n",
    "          (mlp_pipeFS, mlp_sampler2, 'preds_MLP_FS'),\n",
    "          (eNetPipe, paramsNet, 'preds_eNet'),\n",
    "          (eNetPipePCA, paramsNet, 'preds_eNetPCA'),\n",
    "          (rfPipe, paramsRF, 'preds_RF'),\n",
    "          (rfPipeFS, paramsRF, 'preds_RF_FS')]\n"
   ]
  },
  {
   "cell_type": "markdown",
   "metadata": {},
   "source": [
    "**Form the training loop, here we train on 3 year expanding windows, using 90% of each split for training and 10% for tuning hyper-parameters, we then use the same model to forecast forward 3-years before re-training again.**"
   ]
  },
  {
   "cell_type": "code",
   "execution_count": 7,
   "metadata": {},
   "outputs": [
    {
     "name": "stderr",
     "output_type": "stream",
     "text": [
      "0it [00:00, ?it/s]"
     ]
    },
    {
     "name": "stdout",
     "output_type": "stream",
     "text": [
      "4\n",
      "(22698, 13) (2520, 13)\n",
      "Iter: 0: Score: 1.5083058777207863\n",
      "Iter: 1: Score: 1.5507931928574767\n"
     ]
    },
    {
     "name": "stderr",
     "output_type": "stream",
     "text": [
      "c:\\Users\\jaman\\anaconda3\\Lib\\site-packages\\sklearn\\neural_network\\_multilayer_perceptron.py:691: ConvergenceWarning: Stochastic Optimizer: Maximum iterations (500) reached and the optimization hasn't converged yet.\n",
      "  warnings.warn(\n"
     ]
    },
    {
     "name": "stdout",
     "output_type": "stream",
     "text": [
      "Iter: 2: Score: 2.004211117481786\n",
      "Iter: 3: Score: 1.5185517482923292\n",
      "Iter: 4: Score: 1.5532864821568984\n",
      "Iter: 5: Score: 1.5844046984493254\n",
      "Iter: 6: Score: 1.5334471575142818\n",
      "Iter: 7: Score: 1.5039578189989895\n",
      "Iter: 8: Score: 1.5742976044569998\n"
     ]
    },
    {
     "name": "stderr",
     "output_type": "stream",
     "text": [
      "c:\\Users\\jaman\\anaconda3\\Lib\\site-packages\\sklearn\\neural_network\\_multilayer_perceptron.py:691: ConvergenceWarning: Stochastic Optimizer: Maximum iterations (500) reached and the optimization hasn't converged yet.\n",
      "  warnings.warn(\n"
     ]
    },
    {
     "name": "stdout",
     "output_type": "stream",
     "text": [
      "Iter: 9: Score: 1.7983799442890058\n",
      "Iter: 10: Score: 1.6565985250314548\n",
      "Iter: 11: Score: 1.5065691237811965\n",
      "Iter: 12: Score: 1.5714383746769396\n",
      "Iter: 13: Score: 1.5206539429141803\n",
      "Iter: 14: Score: 1.5410065864421603\n",
      "Iter: 15: Score: 1.578813678031043\n",
      "Iter: 16: Score: 1.5317173805326625\n",
      "Iter: 17: Score: 1.5354328225887384\n",
      "Iter: 18: Score: 1.560786305958302\n",
      "Iter: 19: Score: 1.526327582432145\n",
      "Iter: 20: Score: 1.5410957295942467\n"
     ]
    },
    {
     "name": "stderr",
     "output_type": "stream",
     "text": [
      "c:\\Users\\jaman\\anaconda3\\Lib\\site-packages\\sklearn\\neural_network\\_multilayer_perceptron.py:691: ConvergenceWarning: Stochastic Optimizer: Maximum iterations (500) reached and the optimization hasn't converged yet.\n",
      "  warnings.warn(\n"
     ]
    },
    {
     "name": "stdout",
     "output_type": "stream",
     "text": [
      "Iter: 21: Score: 1.9967006931729616\n",
      "Iter: 22: Score: 1.5696590218798046\n",
      "Iter: 23: Score: 1.5783380619651528\n",
      "Iter: 24: Score: 1.513154786621188\n",
      "     scores                                               grid\n",
      "7  1.503958  {'mlp__learning_rate_init': 1e-05, 'mlp__hidde...\n",
      "Best Model: {'mlp__learning_rate_init': 1e-05, 'mlp__hidden_layer_sizes': (4, 2), 'mlp__batch_size': 256, 'mlp__alpha': 0.01}\n"
     ]
    },
    {
     "name": "stderr",
     "output_type": "stream",
     "text": [
      "1it [02:14, 134.75s/it]"
     ]
    },
    {
     "name": "stdout",
     "output_type": "stream",
     "text": [
      "(45396, 13) (5040, 13)\n",
      "Iter: 0: Score: 1.8137361774531062\n",
      "Iter: 1: Score: 1.7917552526779998\n",
      "Iter: 2: Score: 2.6369075579712904\n",
      "Iter: 3: Score: 1.8966419991057513\n",
      "Iter: 4: Score: 1.5620077856514922\n",
      "Iter: 5: Score: 1.4852340319068693\n",
      "Iter: 6: Score: 1.4764603479874063\n",
      "Iter: 7: Score: 1.6188985166914025\n",
      "Iter: 8: Score: 1.569262424212489\n",
      "Iter: 9: Score: 1.5592246804439425\n",
      "Iter: 10: Score: 1.8225480431820735\n",
      "Iter: 11: Score: 1.4466006009194752\n",
      "Iter: 12: Score: 1.4744138143650527\n",
      "Iter: 13: Score: 1.5264283718864629\n",
      "Iter: 14: Score: 1.9085205093270974\n",
      "Iter: 15: Score: 1.8666308144299555\n",
      "Iter: 16: Score: 1.898816016495261\n",
      "Iter: 17: Score: 1.487042693024627\n",
      "Iter: 18: Score: 1.6918555340059758\n",
      "Iter: 19: Score: 1.5350693295396507\n",
      "Iter: 20: Score: 1.5175477434846145\n",
      "Iter: 21: Score: 2.2040015890336107\n",
      "Iter: 22: Score: 1.4743979882083749\n",
      "Iter: 23: Score: 1.4573336479972656\n",
      "Iter: 24: Score: 1.934842691460655\n",
      "      scores                                               grid\n",
      "11  1.446601  {'mlp__learning_rate_init': 0.001, 'mlp__hidde...\n",
      "Best Model: {'mlp__learning_rate_init': 0.001, 'mlp__hidden_layer_sizes': (4, 2), 'mlp__batch_size': 64, 'mlp__alpha': 1e-05}\n"
     ]
    },
    {
     "name": "stderr",
     "output_type": "stream",
     "text": [
      "2it [05:41, 176.81s/it]"
     ]
    },
    {
     "name": "stdout",
     "output_type": "stream",
     "text": [
      "(68076, 13) (7560, 13)\n",
      "Iter: 0: Score: 1.388151973022939\n",
      "Iter: 1: Score: 1.407404472647332\n",
      "Iter: 2: Score: 1.3816962250829297\n"
     ]
    },
    {
     "name": "stderr",
     "output_type": "stream",
     "text": [
      "c:\\Users\\jaman\\anaconda3\\Lib\\site-packages\\sklearn\\neural_network\\_multilayer_perceptron.py:691: ConvergenceWarning: Stochastic Optimizer: Maximum iterations (500) reached and the optimization hasn't converged yet.\n",
      "  warnings.warn(\n"
     ]
    },
    {
     "name": "stdout",
     "output_type": "stream",
     "text": [
      "Iter: 3: Score: 1.4478743979225333\n",
      "Iter: 4: Score: 1.4008521620673757\n",
      "Iter: 5: Score: 1.3896257173401003\n",
      "Iter: 6: Score: 1.4059753164434172\n",
      "Iter: 7: Score: 1.4009286868377375\n",
      "Iter: 8: Score: 1.4042465113256628\n",
      "Iter: 9: Score: 1.4055583787891217\n",
      "Iter: 10: Score: 1.4083929761943152\n",
      "Iter: 11: Score: 1.388691685125857\n",
      "Iter: 12: Score: 1.4030971178354124\n",
      "Iter: 13: Score: 1.408562965654131\n",
      "Iter: 14: Score: 1.4460412615854128\n",
      "Iter: 15: Score: 1.3947951746229164\n",
      "Iter: 16: Score: 1.3802242927967598\n",
      "Iter: 17: Score: 1.3844067758786205\n"
     ]
    },
    {
     "name": "stderr",
     "output_type": "stream",
     "text": [
      "c:\\Users\\jaman\\anaconda3\\Lib\\site-packages\\sklearn\\neural_network\\_multilayer_perceptron.py:691: ConvergenceWarning: Stochastic Optimizer: Maximum iterations (500) reached and the optimization hasn't converged yet.\n",
      "  warnings.warn(\n"
     ]
    },
    {
     "name": "stdout",
     "output_type": "stream",
     "text": [
      "Iter: 18: Score: 1.7089349244253136\n",
      "Iter: 19: Score: 1.3816616411780351\n",
      "Iter: 20: Score: 1.4291922435850837\n",
      "Iter: 21: Score: 1.393399426133024\n",
      "Iter: 22: Score: 1.4085813266950757\n",
      "Iter: 23: Score: 1.3816792766250272\n",
      "Iter: 24: Score: 1.3899979319887683\n",
      "      scores                                               grid\n",
      "16  1.380224  {'mlp__learning_rate_init': 1e-05, 'mlp__hidde...\n",
      "Best Model: {'mlp__learning_rate_init': 1e-05, 'mlp__hidden_layer_sizes': (12, 6), 'mlp__batch_size': 128, 'mlp__alpha': 0.001}\n"
     ]
    },
    {
     "name": "stderr",
     "output_type": "stream",
     "text": [
      "3it [10:16, 222.09s/it]"
     ]
    },
    {
     "name": "stdout",
     "output_type": "stream",
     "text": [
      "(90756, 13) (10080, 13)\n",
      "Iter: 0: Score: 1.4816183160252898\n",
      "Iter: 1: Score: 1.5290793285584312\n",
      "Iter: 2: Score: 1.492440061078401\n",
      "Iter: 3: Score: 1.5016424820750784\n",
      "Iter: 4: Score: 1.5207395240425519\n",
      "Iter: 5: Score: 1.483384530426679\n",
      "Iter: 6: Score: 1.5154122119613433\n",
      "Iter: 7: Score: 1.5124274146242724\n",
      "Iter: 8: Score: 1.5056584246779874\n"
     ]
    },
    {
     "name": "stderr",
     "output_type": "stream",
     "text": [
      "c:\\Users\\jaman\\anaconda3\\Lib\\site-packages\\sklearn\\neural_network\\_multilayer_perceptron.py:691: ConvergenceWarning: Stochastic Optimizer: Maximum iterations (500) reached and the optimization hasn't converged yet.\n",
      "  warnings.warn(\n"
     ]
    },
    {
     "name": "stdout",
     "output_type": "stream",
     "text": [
      "Iter: 9: Score: 1.6109557722145234\n",
      "Iter: 10: Score: 1.5018043839789719\n",
      "Iter: 11: Score: 1.4953553698533621\n",
      "Iter: 12: Score: 1.4844195261319697\n",
      "Iter: 13: Score: 1.5018035937046545\n",
      "Iter: 14: Score: 1.531404899637237\n",
      "Iter: 15: Score: 1.5071081066048855\n",
      "Iter: 16: Score: 1.4818621243603862\n",
      "Iter: 17: Score: 1.5042472152362125\n",
      "Iter: 18: Score: 1.481850117943651\n",
      "Iter: 19: Score: 1.4889494918219217\n"
     ]
    },
    {
     "name": "stderr",
     "output_type": "stream",
     "text": [
      "c:\\Users\\jaman\\anaconda3\\Lib\\site-packages\\sklearn\\neural_network\\_multilayer_perceptron.py:691: ConvergenceWarning: Stochastic Optimizer: Maximum iterations (500) reached and the optimization hasn't converged yet.\n",
      "  warnings.warn(\n"
     ]
    },
    {
     "name": "stdout",
     "output_type": "stream",
     "text": [
      "Iter: 20: Score: 1.4998330074935808\n",
      "Iter: 21: Score: 1.4954476794543532\n",
      "Iter: 22: Score: 1.4944756717516428\n",
      "Iter: 23: Score: 1.5025758340706248\n",
      "Iter: 24: Score: 1.5263599686188853\n",
      "     scores                                               grid\n",
      "0  1.481618  {'mlp__learning_rate_init': 0.0001, 'mlp__hidd...\n",
      "Best Model: {'mlp__learning_rate_init': 0.0001, 'mlp__hidden_layer_sizes': (4, 2), 'mlp__batch_size': 128, 'mlp__alpha': 0.01}\n"
     ]
    },
    {
     "name": "stderr",
     "output_type": "stream",
     "text": [
      "4it [17:31, 262.79s/it]\n",
      "0it [00:00, ?it/s]"
     ]
    },
    {
     "name": "stdout",
     "output_type": "stream",
     "text": [
      "4\n",
      "(22698, 13) (2520, 13)\n",
      "Iter: 0: Score: 1.4816736815342308\n",
      "Iter: 1: Score: 1.51495952840576\n",
      "Iter: 2: Score: 1.5018974707669772\n",
      "Iter: 3: Score: 1.5044967748820526\n",
      "Iter: 4: Score: 1.489654051591769\n",
      "Iter: 5: Score: 1.4992766409290588\n",
      "Iter: 6: Score: 1.5020922823793845\n"
     ]
    },
    {
     "name": "stderr",
     "output_type": "stream",
     "text": [
      "c:\\Users\\jaman\\anaconda3\\Lib\\site-packages\\sklearn\\neural_network\\_multilayer_perceptron.py:691: ConvergenceWarning: Stochastic Optimizer: Maximum iterations (500) reached and the optimization hasn't converged yet.\n",
      "  warnings.warn(\n"
     ]
    },
    {
     "name": "stdout",
     "output_type": "stream",
     "text": [
      "Iter: 7: Score: 1.4793324803240364\n",
      "Iter: 8: Score: 1.5049621892325928\n",
      "Iter: 9: Score: 1.5220669920435976\n",
      "Iter: 10: Score: 1.506194887557068\n",
      "Iter: 11: Score: 1.499273022834345\n",
      "Iter: 12: Score: 1.4920131504977314\n",
      "Iter: 13: Score: 1.5078770839757725\n"
     ]
    },
    {
     "name": "stderr",
     "output_type": "stream",
     "text": [
      "c:\\Users\\jaman\\anaconda3\\Lib\\site-packages\\sklearn\\neural_network\\_multilayer_perceptron.py:691: ConvergenceWarning: Stochastic Optimizer: Maximum iterations (500) reached and the optimization hasn't converged yet.\n",
      "  warnings.warn(\n"
     ]
    },
    {
     "name": "stdout",
     "output_type": "stream",
     "text": [
      "Iter: 14: Score: 1.4793270271288594\n",
      "Iter: 15: Score: 1.5029228615113566\n",
      "Iter: 16: Score: 1.4839919483399353\n",
      "Iter: 17: Score: 1.4896718658636523\n",
      "Iter: 18: Score: 1.4917435624403053\n",
      "Iter: 19: Score: 1.5015579510585584\n",
      "Iter: 20: Score: 1.5129993522482623\n",
      "Iter: 21: Score: 1.5117362444931297\n"
     ]
    },
    {
     "name": "stderr",
     "output_type": "stream",
     "text": [
      "c:\\Users\\jaman\\anaconda3\\Lib\\site-packages\\sklearn\\neural_network\\_multilayer_perceptron.py:691: ConvergenceWarning: Stochastic Optimizer: Maximum iterations (500) reached and the optimization hasn't converged yet.\n",
      "  warnings.warn(\n"
     ]
    },
    {
     "name": "stdout",
     "output_type": "stream",
     "text": [
      "Iter: 22: Score: 1.4793269430590037\n",
      "Iter: 23: Score: 1.4899631744341102\n"
     ]
    },
    {
     "name": "stderr",
     "output_type": "stream",
     "text": [
      "c:\\Users\\jaman\\anaconda3\\Lib\\site-packages\\sklearn\\neural_network\\_multilayer_perceptron.py:691: ConvergenceWarning: Stochastic Optimizer: Maximum iterations (500) reached and the optimization hasn't converged yet.\n",
      "  warnings.warn(\n"
     ]
    },
    {
     "name": "stdout",
     "output_type": "stream",
     "text": [
      "Iter: 24: Score: 1.614121336506708\n",
      "      scores                                               grid\n",
      "22  1.479327  {'mlp__learning_rate_init': 1e-06, 'mlp__hidde...\n",
      "Best Model: {'mlp__learning_rate_init': 1e-06, 'mlp__hidden_layer_sizes': (8, 4), 'mlp__batch_size': 32, 'mlp__alpha': 1e-06}\n"
     ]
    },
    {
     "name": "stderr",
     "output_type": "stream",
     "text": [
      "c:\\Users\\jaman\\anaconda3\\Lib\\site-packages\\sklearn\\neural_network\\_multilayer_perceptron.py:691: ConvergenceWarning: Stochastic Optimizer: Maximum iterations (500) reached and the optimization hasn't converged yet.\n",
      "  warnings.warn(\n",
      "1it [04:18, 258.42s/it]"
     ]
    },
    {
     "name": "stdout",
     "output_type": "stream",
     "text": [
      "(45396, 13) (5040, 13)\n",
      "Iter: 0: Score: 1.5805248818437478\n",
      "Iter: 1: Score: 1.4584716139370566\n",
      "Iter: 2: Score: 2.141784764732671\n",
      "Iter: 3: Score: 1.510271284333921\n",
      "Iter: 4: Score: 1.7815484557964596\n",
      "Iter: 5: Score: 1.7809324714474628\n",
      "Iter: 6: Score: 1.5491819329449505\n"
     ]
    },
    {
     "name": "stderr",
     "output_type": "stream",
     "text": [
      "c:\\Users\\jaman\\anaconda3\\Lib\\site-packages\\sklearn\\neural_network\\_multilayer_perceptron.py:691: ConvergenceWarning: Stochastic Optimizer: Maximum iterations (500) reached and the optimization hasn't converged yet.\n",
      "  warnings.warn(\n"
     ]
    },
    {
     "name": "stdout",
     "output_type": "stream",
     "text": [
      "Iter: 7: Score: 2.5260829214627725\n",
      "Iter: 8: Score: 1.4805624724839637\n"
     ]
    },
    {
     "name": "stderr",
     "output_type": "stream",
     "text": [
      "c:\\Users\\jaman\\anaconda3\\Lib\\site-packages\\sklearn\\neural_network\\_multilayer_perceptron.py:691: ConvergenceWarning: Stochastic Optimizer: Maximum iterations (500) reached and the optimization hasn't converged yet.\n",
      "  warnings.warn(\n"
     ]
    },
    {
     "name": "stdout",
     "output_type": "stream",
     "text": [
      "Iter: 9: Score: 2.5260829579403823\n",
      "Iter: 10: Score: 1.510278318884827\n",
      "Iter: 11: Score: 1.4322275993690194\n",
      "Iter: 12: Score: 1.432382650456815\n",
      "Iter: 13: Score: 1.6247146850539926\n",
      "Iter: 14: Score: 1.9087638786347234\n",
      "Iter: 15: Score: 1.7175405063641367\n",
      "Iter: 16: Score: 1.825342731015919\n",
      "Iter: 17: Score: 1.4645254880649072\n",
      "Iter: 18: Score: 1.4668684389707658\n"
     ]
    },
    {
     "name": "stderr",
     "output_type": "stream",
     "text": [
      "c:\\Users\\jaman\\anaconda3\\Lib\\site-packages\\sklearn\\neural_network\\_multilayer_perceptron.py:691: ConvergenceWarning: Stochastic Optimizer: Maximum iterations (500) reached and the optimization hasn't converged yet.\n",
      "  warnings.warn(\n"
     ]
    },
    {
     "name": "stdout",
     "output_type": "stream",
     "text": [
      "Iter: 19: Score: 11.236196562917165\n",
      "Iter: 20: Score: 1.48841894150965\n",
      "Iter: 21: Score: 1.96415151863047\n",
      "Iter: 22: Score: 2.1367369791395943\n"
     ]
    },
    {
     "name": "stderr",
     "output_type": "stream",
     "text": [
      "c:\\Users\\jaman\\anaconda3\\Lib\\site-packages\\sklearn\\neural_network\\_multilayer_perceptron.py:691: ConvergenceWarning: Stochastic Optimizer: Maximum iterations (500) reached and the optimization hasn't converged yet.\n",
      "  warnings.warn(\n"
     ]
    },
    {
     "name": "stdout",
     "output_type": "stream",
     "text": [
      "Iter: 23: Score: 2.9715163493970307\n"
     ]
    },
    {
     "name": "stderr",
     "output_type": "stream",
     "text": [
      "c:\\Users\\jaman\\anaconda3\\Lib\\site-packages\\sklearn\\neural_network\\_multilayer_perceptron.py:691: ConvergenceWarning: Stochastic Optimizer: Maximum iterations (500) reached and the optimization hasn't converged yet.\n",
      "  warnings.warn(\n"
     ]
    },
    {
     "name": "stdout",
     "output_type": "stream",
     "text": [
      "Iter: 24: Score: 28.89048507895501\n",
      "      scores                                               grid\n",
      "11  1.432228  {'mlp__learning_rate_init': 0.001, 'mlp__hidde...\n",
      "Best Model: {'mlp__learning_rate_init': 0.001, 'mlp__hidden_layer_sizes': (4, 2), 'mlp__batch_size': 256, 'mlp__alpha': 1e-06}\n"
     ]
    },
    {
     "name": "stderr",
     "output_type": "stream",
     "text": [
      "2it [09:59, 306.75s/it]"
     ]
    },
    {
     "name": "stdout",
     "output_type": "stream",
     "text": [
      "(68076, 13) (7560, 13)\n",
      "Iter: 0: Score: 1.4039156169340645\n",
      "Iter: 1: Score: 1.3931066981824125\n",
      "Iter: 2: Score: 1.3794905405348945\n",
      "Iter: 3: Score: 1.3813078413436666\n",
      "Iter: 4: Score: 1.380781411489255\n",
      "Iter: 5: Score: 1.3887750184544807\n",
      "Iter: 6: Score: 1.4004538762499288\n",
      "Iter: 7: Score: 1.4004121485291698\n",
      "Iter: 8: Score: 1.3909325779360826\n"
     ]
    }
   ],
   "source": [
    "def train_single_model(model, sampler, model_name):\n",
    "    predictions = []\n",
    "    scores = []\n",
    "    for train, test in tqdm(get_cv_splits(X, split_length=252*5)):\n",
    "        # break out X and y train, test\n",
    "        X_train, y_train = train[features], train[target] \n",
    "        X_test, y_test = test[features], test[target]\n",
    "\n",
    "        # hyper-param loop\n",
    "        X_train2, X_val, y_train2, y_val = train_val_split(X_train, y_train)\n",
    "        print(X_train2.shape, X_val.shape)\n",
    "\n",
    "        # inner loop for parameter tuning\n",
    "        gscv_scores = {'scores': [], 'grid':[]}\n",
    "        for k, p in enumerate(sampler):\n",
    "            model.set_params(**p)\n",
    "            try:\n",
    "                model.n_jobs=-1\n",
    "            except Exception as e:\n",
    "                pass\n",
    "            model.fit(X_train2, y_train2.values.reshape(y_train2.shape[0], ))\n",
    "            _pred = model.predict(X_val)\n",
    "            _score = mean_squared_error(y_val, _pred)\n",
    "            gscv_scores['scores'].append(_score)\n",
    "            gscv_scores['grid'].append(p)\n",
    "            print(f'Iter: {k}: Score: {_score}')\n",
    "\n",
    "        # now fit the best model\n",
    "        best_model = pd.DataFrame(gscv_scores).sort_values(by='scores').head(1)['grid'].values[0]\n",
    "        print(pd.DataFrame(gscv_scores).sort_values(by='scores').head(1))\n",
    "        print(f'Best Model: {best_model}')\n",
    "        best_model = model.set_params(**best_model)\n",
    "        best_model.n_jobs=-1\n",
    "        best_model.fit(X_train, y_train.values.reshape(y_train.shape[0], ))\n",
    "        preds = best_model.predict(X_test)\n",
    "\n",
    "        # append the predictions\n",
    "        predictions.append(pd.Series(index=y_test.index, data=preds))\n",
    "       \n",
    "        # score\n",
    "        scores.append(mean_squared_error(y_test, preds))\n",
    "\n",
    "    # predictions\n",
    "    predictions = pd.concat(predictions).to_frame(model_name)\n",
    "    return predictions\n",
    "\n",
    "# train all models selected\n",
    "predictions = []\n",
    "for model in models:\n",
    "    out = train_single_model(model[0], model[1], model[2])\n",
    "    predictions.append(out)\n",
    "\n",
    "# concat the predictions by columns\n",
    "predictions = pd.concat(predictions, axis=1)"
   ]
  },
  {
   "cell_type": "markdown",
   "metadata": {},
   "source": [
    "**Check distribution of the targets**"
   ]
  },
  {
   "cell_type": "code",
   "execution_count": null,
   "metadata": {},
   "outputs": [
    {
     "data": {
      "text/plain": [
       "<Axes: title={'center': 'distribution of predictions'}, ylabel='Frequency'>"
      ]
     },
     "execution_count": 8,
     "metadata": {},
     "output_type": "execute_result"
    },
    {
     "data": {
      "image/png": "[encoded data removed]",
      "text/plain": [
       "<Figure size 640x480 with 1 Axes>"
      ]
     },
     "metadata": {},
     "output_type": "display_data"
    }
   ],
   "source": [
    "# We can see predictions go negative at about the 25% percentile, market mainly goes up\n",
    "predictions.plot(kind='hist', bins=1000, title=\"distribution of predictions\")"
   ]
  },
  {
   "cell_type": "markdown",
   "metadata": {},
   "source": [
    "**Join in predictions with the original dataset which has the cluster returns**"
   ]
  },
  {
   "cell_type": "code",
   "execution_count": null,
   "metadata": {},
   "outputs": [
    {
     "name": "stdout",
     "output_type": "stream",
     "text": [
      "                Annual_Return Annual_Volatility        DD       MDD    Sharpe  \\\n",
      "preds_MLP_Q_0.0      0.083343          0.214813   0.14496 -0.565184  0.478647   \n",
      "preds_MLP_Q_1.0      0.131823           0.21136  0.148099 -0.520837   0.69621   \n",
      "preds_MLP_Q_2.0      0.051629          0.210543  0.147852 -0.645283  0.349097   \n",
      "preds_MLP_Q_3.0      0.109574          0.214467  0.149817 -0.486483  0.614437   \n",
      "\n",
      "                  Sortino    Calmar ppct_postive_rets  \n",
      "preds_MLP_Q_0.0  0.709296  0.147462          0.542222  \n",
      "preds_MLP_Q_1.0  0.993599  0.253099          0.539471  \n",
      "preds_MLP_Q_2.0  0.497119  0.080009          0.518307  \n",
      "preds_MLP_Q_3.0  0.879585  0.225238           0.53037  \n",
      "#################################\n",
      "                   Annual_Return Annual_Volatility        DD       MDD  \\\n",
      "preds_MLP_FS_Q_0.0      0.097549          0.212268   0.15198 -0.502376   \n",
      "preds_MLP_FS_Q_1.0      0.122218           0.20441  0.139596 -0.393925   \n",
      "preds_MLP_FS_Q_2.0      0.058846          0.209376  0.150303 -0.411403   \n",
      "preds_MLP_FS_Q_3.0      0.085322           0.21779  0.150144  -0.46314   \n",
      "\n",
      "                      Sharpe   Sortino    Calmar ppct_postive_rets  \n",
      "preds_MLP_FS_Q_0.0  0.545088  0.761316  0.194175          0.546106  \n",
      "preds_MLP_FS_Q_1.0  0.700928  1.026366  0.310258          0.505733  \n",
      "preds_MLP_FS_Q_2.0  0.412709  0.574915  0.143036          0.474677  \n",
      "preds_MLP_FS_Q_3.0   0.56389  0.817944  0.184225          0.452222  \n",
      "#################################\n",
      "                 Annual_Return Annual_Volatility        DD       MDD  \\\n",
      "preds_eNet_Q_0.0      0.056298          0.210678  0.149056 -0.688197   \n",
      "preds_eNet_Q_1.0      0.072262          0.211492   0.15393 -0.590507   \n",
      "preds_eNet_Q_2.0      0.084671          0.213308  0.146443 -0.630173   \n",
      "preds_eNet_Q_3.0      0.098346          0.221243  0.149354 -0.546357   \n",
      "\n",
      "                    Sharpe   Sortino    Calmar ppct_postive_rets  \n",
      "preds_eNet_Q_0.0   0.36488  0.515727  0.081805          0.542918  \n",
      "preds_eNet_Q_1.0  0.436285  0.599433  0.122373          0.543552  \n",
      "preds_eNet_Q_2.0  0.487072  0.709465  0.134361          0.540803  \n",
      "preds_eNet_Q_3.0  0.533691  0.790575  0.180003          0.539958  \n",
      "#################################\n",
      "                    Annual_Return Annual_Volatility        DD       MDD  \\\n",
      "preds_eNetPCA_Q_0.0      0.058017          0.212445  0.148607    -0.654   \n",
      "preds_eNetPCA_Q_1.0      0.095273          0.211386  0.151084 -0.612463   \n",
      "preds_eNetPCA_Q_2.0      0.070475          0.217073  0.151375 -0.665974   \n",
      "preds_eNetPCA_Q_3.0      0.087728          0.216302   0.14715 -0.531075   \n",
      "\n",
      "                       Sharpe   Sortino    Calmar ppct_postive_rets  \n",
      "preds_eNetPCA_Q_0.0  0.370877  0.530198  0.088711           0.54186  \n",
      "preds_eNetPCA_Q_1.0  0.536675  0.750879  0.155556           0.54186  \n",
      "preds_eNetPCA_Q_2.0  0.421797  0.604859  0.105822          0.540169  \n",
      "preds_eNetPCA_Q_3.0  0.496146  0.729309  0.165189          0.538901  \n",
      "#################################\n",
      "               Annual_Return Annual_Volatility        DD       MDD    Sharpe  \\\n",
      "preds_RF_Q_0.0      0.070822          0.215483  0.149091  -0.65078  0.424205   \n",
      "preds_RF_Q_1.0      0.080245          0.211515  0.150128  -0.65694  0.470872   \n",
      "preds_RF_Q_2.0      0.057811          0.206924  0.148887 -0.558793  0.375428   \n",
      "preds_RF_Q_3.0      0.103191          0.221203  0.148562 -0.593794  0.553451   \n",
      "\n",
      "                 Sortino    Calmar ppct_postive_rets  \n",
      "preds_RF_Q_0.0  0.613109  0.108827           0.54186  \n",
      "preds_RF_Q_1.0  0.663409  0.122149          0.538266  \n",
      "preds_RF_Q_2.0  0.521769  0.103456          0.540169  \n",
      "preds_RF_Q_3.0  0.824066  0.173783          0.545032  \n",
      "#################################\n",
      "                  Annual_Return Annual_Volatility        DD       MDD  \\\n",
      "preds_RF_FS_Q_0.0      0.056755          0.212651  0.151078 -0.599975   \n",
      "preds_RF_FS_Q_1.0      0.096601          0.209316  0.145392 -0.601687   \n",
      "preds_RF_FS_Q_2.0      0.075309          0.210432  0.149916  -0.60327   \n",
      "preds_RF_FS_Q_3.0      0.084765          0.218011  0.148615 -0.659253   \n",
      "\n",
      "                     Sharpe   Sortino    Calmar ppct_postive_rets  \n",
      "preds_RF_FS_Q_0.0  0.365742  0.514805  0.094596          0.535729  \n",
      "preds_RF_FS_Q_1.0  0.545199  0.784901  0.160551          0.536786  \n",
      "preds_RF_FS_Q_2.0  0.450632  0.632534  0.124835          0.541649  \n",
      "preds_RF_FS_Q_3.0  0.481466  0.706288  0.128577          0.543129  \n",
      "#################################\n"
     ]
    },
    {
     "name": "stderr",
     "output_type": "stream",
     "text": [
      "C:\\Users\\jaman\\AppData\\Local\\Temp\\ipykernel_47820\\470266720.py:14: PerformanceWarning: DataFrame is highly fragmented.  This is usually the result of calling `frame.insert` many times, which has poor performance.  Consider joining all columns at once using pd.concat(axis=1) instead. To get a de-fragmented frame, use `newframe = frame.copy()`\n",
      "  predictions[f'{pred_col}_signalQ'] = predictions.groupby(by='date')[pred_col].apply(lambda x: pd.qcut(x, 4, labels=False, duplicates='drop')).droplevel(0)\n"
     ]
    },
    {
     "data": {
      "text/plain": [
       "24"
      ]
     },
     "execution_count": 9,
     "metadata": {},
     "output_type": "execute_result"
    }
   ],
   "source": [
    "# Bring in the data\n",
    "data = load_features_data()\n",
    "\n",
    "# join in predictions\n",
    "predictions = predictions.merge(data, how=\"left\", left_index=True, right_index=True)\n",
    "predictions.sort_index(inplace=True)\n",
    "\n",
    "# get the prediction columns\n",
    "pred_cols = [f for f in predictions.columns if f.startswith('preds_')]\n",
    "\n",
    "def getRetsForStrat(predictions, pred_cols):\n",
    "    ret_list = []\n",
    "    for pred_col in pred_cols:\n",
    "        predictions[f'{pred_col}_signalQ'] = predictions.groupby(by='date')[pred_col].apply(lambda x: pd.qcut(x, 4, labels=False, duplicates='drop')).droplevel(0)\n",
    "        predictions[f'{pred_col}_signalQ'] = predictions.groupby(by='cluster')[f'{pred_col}_signalQ'].shift(1)\n",
    "        rets = predictions.groupby(by=['date', f'{pred_col}_signalQ'])['1d_ret'].mean().unstack()\n",
    "        rets.rename(columns={col: f'{pred_col}_Q_{col}' for col in rets.columns}, inplace=True)\n",
    "        ret_list.append(rets)\n",
    "    return ret_list\n",
    "\n",
    "ret_breakouts = []\n",
    "# get all the returns\n",
    "all_rets = getRetsForStrat(predictions, pred_cols)\n",
    "for one_ret in all_rets:\n",
    "    print(get_returns_breakout(one_ret))\n",
    "    ret_breakouts.append(get_returns_breakout(one_ret))\n",
    "    print('#################################')\n",
    "\n",
    "# stack the returns\n",
    "stacked_strat_rets = pd.concat([r.stack().to_frame('ret') for r in all_rets]) # this can hopefully be the data used for streamlit\n",
    "stacked_strat_rets_cumprod = (1+stacked_strat_rets.unstack()).cumprod()\n",
    "\n",
    "# save to sqlite3 DB\n",
    "conn = sql.connect(\"ml_results.db\")\n",
    "\n",
    "stacked_strat_rets_cumprod.columns = stacked_strat_rets_cumprod.columns.droplevel(0)\n",
    "stacked_strat_rets_cumprod.to_sql('strategy_returns', conn, if_exists='replace', index=True)\n",
    "pd.concat(ret_breakouts).to_sql(\"metrics_df\", conn, if_exists='replace', index=True)"
   ]
  }
 ],
 "metadata": {
  "kernelspec": {
   "display_name": "base",
   "language": "python",
   "name": "python3"
  },
  "language_info": {
   "codemirror_mode": {
    "name": "ipython",
    "version": 3
   },
   "file_extension": ".py",
   "mimetype": "text/x-python",
   "name": "python",
   "nbconvert_exporter": "python",
   "pygments_lexer": "ipython3",
   "version": "3.11.5"
  }
 },
 "nbformat": 4,
 "nbformat_minor": 2
}
