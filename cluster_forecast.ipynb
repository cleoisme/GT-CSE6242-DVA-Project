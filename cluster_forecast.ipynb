{
 "cells": [
  {
   "cell_type": "code",
   "execution_count": 69,
   "metadata": {},
   "outputs": [],
   "source": [
    "import pandas as pd\n",
    "import numpy as np\n",
    "from sklearn.ensemble import RandomForestRegressor\n",
    "from sklearn.linear_model import ElasticNet, LassoCV, ElasticNetCV\n",
    "from sklearn.pipeline import Pipeline\n",
    "from sklearn.preprocessing import RobustScaler\n",
    "from sklearn.neural_network import MLPRegressor\n",
    "from utils.ml_utils import *\n",
    "\n",
    "from sklearn.metrics import mean_squared_error\n",
    "from sklearn.model_selection import ParameterSampler\n",
    "from tqdm import tqdm\n",
    "\n",
    "from data_prep import load_features_data\n",
    "from sklearn.feature_selection import RFECV, SelectFromModel\n",
    "from sklearn.model_selection import TimeSeriesSplit\n",
    "\n"
   ]
  },
  {
   "cell_type": "markdown",
   "metadata": {},
   "source": [
    "**Load the features data, these are popular trend following features used in prior literature, this notebook assumes you have the pickle file residual_returns.pkl saved in the root directory, you can download this file from the OneDrive**"
   ]
  },
  {
   "cell_type": "code",
   "execution_count": 70,
   "metadata": {},
   "outputs": [
    {
     "data": {
      "text/html": [
       "<div>\n",
       "<style scoped>\n",
       "    .dataframe tbody tr th:only-of-type {\n",
       "        vertical-align: middle;\n",
       "    }\n",
       "\n",
       "    .dataframe tbody tr th {\n",
       "        vertical-align: top;\n",
       "    }\n",
       "\n",
       "    .dataframe thead th {\n",
       "        text-align: right;\n",
       "    }\n",
       "</style>\n",
       "<table border=\"1\" class=\"dataframe\">\n",
       "  <thead>\n",
       "    <tr style=\"text-align: right;\">\n",
       "      <th></th>\n",
       "      <th></th>\n",
       "      <th>ret</th>\n",
       "      <th>rVol</th>\n",
       "      <th>1d_ret</th>\n",
       "      <th>1wk_ret</th>\n",
       "      <th>1m_ret</th>\n",
       "      <th>1Q_ret</th>\n",
       "      <th>6M_ret</th>\n",
       "      <th>12M_ret</th>\n",
       "      <th>feature_1d_ra</th>\n",
       "      <th>feature_1wk_ra</th>\n",
       "      <th>...</th>\n",
       "      <th>lag5_feature_MACD_short</th>\n",
       "      <th>lag5_feature_MACD_medium</th>\n",
       "      <th>lag5_feature_MACD_long</th>\n",
       "      <th>lag5_feature_skew6m</th>\n",
       "      <th>lag5_feature_skew12m</th>\n",
       "      <th>lag5_feature_kurt6m</th>\n",
       "      <th>lag5_feature_kurt12m</th>\n",
       "      <th>fwd_ret1d</th>\n",
       "      <th>target</th>\n",
       "      <th>targetBin</th>\n",
       "    </tr>\n",
       "    <tr>\n",
       "      <th>date</th>\n",
       "      <th>cluster</th>\n",
       "      <th></th>\n",
       "      <th></th>\n",
       "      <th></th>\n",
       "      <th></th>\n",
       "      <th></th>\n",
       "      <th></th>\n",
       "      <th></th>\n",
       "      <th></th>\n",
       "      <th></th>\n",
       "      <th></th>\n",
       "      <th></th>\n",
       "      <th></th>\n",
       "      <th></th>\n",
       "      <th></th>\n",
       "      <th></th>\n",
       "      <th></th>\n",
       "      <th></th>\n",
       "      <th></th>\n",
       "      <th></th>\n",
       "      <th></th>\n",
       "      <th></th>\n",
       "    </tr>\n",
       "  </thead>\n",
       "  <tbody>\n",
       "    <tr>\n",
       "      <th rowspan=\"5\" valign=\"top\">2024-03-15</th>\n",
       "      <th>25</th>\n",
       "      <td>4.383299</td>\n",
       "      <td>0.012166</td>\n",
       "      <td>-0.017495</td>\n",
       "      <td>-0.027395</td>\n",
       "      <td>-0.000720</td>\n",
       "      <td>0.102992</td>\n",
       "      <td>0.072872</td>\n",
       "      <td>0.146811</td>\n",
       "      <td>-1.438042</td>\n",
       "      <td>-1.007008</td>\n",
       "      <td>...</td>\n",
       "      <td>0.398363</td>\n",
       "      <td>0.585645</td>\n",
       "      <td>0.664800</td>\n",
       "      <td>-0.222085</td>\n",
       "      <td>0.386809</td>\n",
       "      <td>0.580919</td>\n",
       "      <td>2.809109</td>\n",
       "      <td>NaN</td>\n",
       "      <td>NaN</td>\n",
       "      <td>NaN</td>\n",
       "    </tr>\n",
       "    <tr>\n",
       "      <th>26</th>\n",
       "      <td>2.462165</td>\n",
       "      <td>0.012035</td>\n",
       "      <td>-0.001765</td>\n",
       "      <td>0.009387</td>\n",
       "      <td>0.015050</td>\n",
       "      <td>-0.022086</td>\n",
       "      <td>0.025308</td>\n",
       "      <td>-0.005369</td>\n",
       "      <td>-0.146644</td>\n",
       "      <td>0.348834</td>\n",
       "      <td>...</td>\n",
       "      <td>-0.199871</td>\n",
       "      <td>-0.179508</td>\n",
       "      <td>0.128255</td>\n",
       "      <td>-0.217538</td>\n",
       "      <td>0.392190</td>\n",
       "      <td>0.566987</td>\n",
       "      <td>2.789701</td>\n",
       "      <td>NaN</td>\n",
       "      <td>NaN</td>\n",
       "      <td>NaN</td>\n",
       "    </tr>\n",
       "    <tr>\n",
       "      <th>27</th>\n",
       "      <td>2.082460</td>\n",
       "      <td>0.012796</td>\n",
       "      <td>-0.035808</td>\n",
       "      <td>-0.060372</td>\n",
       "      <td>-0.092488</td>\n",
       "      <td>-0.037253</td>\n",
       "      <td>0.112426</td>\n",
       "      <td>0.139470</td>\n",
       "      <td>-2.798448</td>\n",
       "      <td>-2.110060</td>\n",
       "      <td>...</td>\n",
       "      <td>-0.032563</td>\n",
       "      <td>0.246765</td>\n",
       "      <td>0.754907</td>\n",
       "      <td>-0.231616</td>\n",
       "      <td>0.380269</td>\n",
       "      <td>0.525654</td>\n",
       "      <td>2.751046</td>\n",
       "      <td>NaN</td>\n",
       "      <td>NaN</td>\n",
       "      <td>NaN</td>\n",
       "    </tr>\n",
       "    <tr>\n",
       "      <th>28</th>\n",
       "      <td>10.425301</td>\n",
       "      <td>0.012590</td>\n",
       "      <td>-0.011795</td>\n",
       "      <td>0.038502</td>\n",
       "      <td>0.142882</td>\n",
       "      <td>0.110394</td>\n",
       "      <td>0.209679</td>\n",
       "      <td>0.370151</td>\n",
       "      <td>-0.936814</td>\n",
       "      <td>1.367633</td>\n",
       "      <td>...</td>\n",
       "      <td>0.523603</td>\n",
       "      <td>0.554301</td>\n",
       "      <td>0.698447</td>\n",
       "      <td>-0.231386</td>\n",
       "      <td>0.365261</td>\n",
       "      <td>0.518548</td>\n",
       "      <td>2.752472</td>\n",
       "      <td>NaN</td>\n",
       "      <td>NaN</td>\n",
       "      <td>NaN</td>\n",
       "    </tr>\n",
       "    <tr>\n",
       "      <th>29</th>\n",
       "      <td>1.745186</td>\n",
       "      <td>0.012396</td>\n",
       "      <td>-0.012951</td>\n",
       "      <td>-0.018736</td>\n",
       "      <td>0.068956</td>\n",
       "      <td>0.007108</td>\n",
       "      <td>-0.013731</td>\n",
       "      <td>-0.046507</td>\n",
       "      <td>-1.044764</td>\n",
       "      <td>-0.675943</td>\n",
       "      <td>...</td>\n",
       "      <td>0.626469</td>\n",
       "      <td>0.518373</td>\n",
       "      <td>0.183227</td>\n",
       "      <td>-0.230371</td>\n",
       "      <td>0.372743</td>\n",
       "      <td>0.519866</td>\n",
       "      <td>2.848368</td>\n",
       "      <td>NaN</td>\n",
       "      <td>NaN</td>\n",
       "      <td>NaN</td>\n",
       "    </tr>\n",
       "  </tbody>\n",
       "</table>\n",
       "<p>5 rows × 89 columns</p>\n",
       "</div>"
      ],
      "text/plain": [
       "                          ret      rVol    1d_ret   1wk_ret    1m_ret  \\\n",
       "date       cluster                                                      \n",
       "2024-03-15 25        4.383299  0.012166 -0.017495 -0.027395 -0.000720   \n",
       "           26        2.462165  0.012035 -0.001765  0.009387  0.015050   \n",
       "           27        2.082460  0.012796 -0.035808 -0.060372 -0.092488   \n",
       "           28       10.425301  0.012590 -0.011795  0.038502  0.142882   \n",
       "           29        1.745186  0.012396 -0.012951 -0.018736  0.068956   \n",
       "\n",
       "                      1Q_ret    6M_ret   12M_ret  feature_1d_ra  \\\n",
       "date       cluster                                                \n",
       "2024-03-15 25       0.102992  0.072872  0.146811      -1.438042   \n",
       "           26      -0.022086  0.025308 -0.005369      -0.146644   \n",
       "           27      -0.037253  0.112426  0.139470      -2.798448   \n",
       "           28       0.110394  0.209679  0.370151      -0.936814   \n",
       "           29       0.007108 -0.013731 -0.046507      -1.044764   \n",
       "\n",
       "                    feature_1wk_ra  ...  lag5_feature_MACD_short  \\\n",
       "date       cluster                  ...                            \n",
       "2024-03-15 25            -1.007008  ...                 0.398363   \n",
       "           26             0.348834  ...                -0.199871   \n",
       "           27            -2.110060  ...                -0.032563   \n",
       "           28             1.367633  ...                 0.523603   \n",
       "           29            -0.675943  ...                 0.626469   \n",
       "\n",
       "                    lag5_feature_MACD_medium  lag5_feature_MACD_long  \\\n",
       "date       cluster                                                     \n",
       "2024-03-15 25                       0.585645                0.664800   \n",
       "           26                      -0.179508                0.128255   \n",
       "           27                       0.246765                0.754907   \n",
       "           28                       0.554301                0.698447   \n",
       "           29                       0.518373                0.183227   \n",
       "\n",
       "                    lag5_feature_skew6m  lag5_feature_skew12m  \\\n",
       "date       cluster                                              \n",
       "2024-03-15 25                 -0.222085              0.386809   \n",
       "           26                 -0.217538              0.392190   \n",
       "           27                 -0.231616              0.380269   \n",
       "           28                 -0.231386              0.365261   \n",
       "           29                 -0.230371              0.372743   \n",
       "\n",
       "                    lag5_feature_kurt6m  lag5_feature_kurt12m  fwd_ret1d  \\\n",
       "date       cluster                                                         \n",
       "2024-03-15 25                  0.580919              2.809109        NaN   \n",
       "           26                  0.566987              2.789701        NaN   \n",
       "           27                  0.525654              2.751046        NaN   \n",
       "           28                  0.518548              2.752472        NaN   \n",
       "           29                  0.519866              2.848368        NaN   \n",
       "\n",
       "                    target  targetBin  \n",
       "date       cluster                     \n",
       "2024-03-15 25          NaN        NaN  \n",
       "           26          NaN        NaN  \n",
       "           27          NaN        NaN  \n",
       "           28          NaN        NaN  \n",
       "           29          NaN        NaN  \n",
       "\n",
       "[5 rows x 89 columns]"
      ]
     },
     "execution_count": 70,
     "metadata": {},
     "output_type": "execute_result"
    }
   ],
   "source": [
    "feats = load_features_data()\n",
    "feats.tail()"
   ]
  },
  {
   "cell_type": "code",
   "execution_count": 71,
   "metadata": {},
   "outputs": [
    {
     "name": "stdout",
     "output_type": "stream",
     "text": [
      "count    174209.000000\n",
      "mean          0.031924\n",
      "std           1.285065\n",
      "min         -19.381877\n",
      "25%          -0.646536\n",
      "50%           0.065431\n",
      "75%           0.736927\n",
      "max          16.556220\n",
      "Name: target, dtype: float64\n"
     ]
    },
    {
     "data": {
      "image/png": "[encoded data removed]",
      "text/plain": [
       "<Figure size 640x480 with 1 Axes>"
      ]
     },
     "metadata": {},
     "output_type": "display_data"
    }
   ],
   "source": [
    "# distribution of tragets\n",
    "feats['target'].plot(kind='hist', bins=200)\n",
    "print(feats['target'].describe())"
   ]
  },
  {
   "cell_type": "markdown",
   "metadata": {},
   "source": [
    "**Extract the predictive features and target, which is one day forward risk adjusted return - drop na on this subset**"
   ]
  },
  {
   "cell_type": "code",
   "execution_count": 72,
   "metadata": {},
   "outputs": [
    {
     "name": "stdout",
     "output_type": "stream",
     "text": [
      "Shape of features (166530, 79)\n"
     ]
    }
   ],
   "source": [
    "features = [f for f in feats.columns if f.startswith(\"feature\")]\n",
    "target = [\"target\"]\n",
    "lag_feats = [f for f in feats.columns if f.startswith('lag')]\n",
    "\n",
    "all_feats = features + target + lag_feats\n",
    "feats.dropna(subset=all_feats, inplace=True)\n",
    "feats = feats[all_feats]\n",
    "\n",
    "print(\"Shape of features\", feats.shape)"
   ]
  },
  {
   "cell_type": "markdown",
   "metadata": {},
   "source": [
    "**Break out X and y and set up cross-validation, define models**"
   ]
  },
  {
   "cell_type": "code",
   "execution_count": 73,
   "metadata": {},
   "outputs": [],
   "source": [
    "X = feats[all_feats].copy()\n",
    "\n",
    "# set some configs\n",
    "N_ITER=1\n",
    "\n",
    "# Random Forest Regressor\n",
    "baseRF = RandomForestRegressor(max_depth=5, \n",
    "                               n_estimators=1000,\n",
    "                               max_features=int(1),\n",
    "                               random_state=49, \n",
    "                               n_jobs=-3)\n",
    "\n",
    "# simple-grid\n",
    "grid = {'rf__n_estimators': np.arange(100, 1000, 100),\n",
    "        'rf__max_depth': [3, 6, 9, 12],\n",
    "        'rf__max_features': [int(1), 'sqrt'],\n",
    "        'rf__min_weight_fraction_leaf': np.arange(0.0, 0.05, 0.005)}\n",
    "paramsRF = ParameterSampler(n_iter=N_ITER, param_distributions=grid)\n",
    "\n",
    "rfPipe = Pipeline(steps=[('scaler', RobustScaler()),\n",
    "                        ('selector', SelectFromModel(estimator=ElasticNetCV(), threshold=0.)),\n",
    "                        ('rf',baseRF)])\n",
    "\n",
    "# Elastic Net Regressor\n",
    "net = ElasticNet()\n",
    "eNetPipe = Pipeline(steps=[('scaler', RobustScaler()), ('net', net)])\n",
    "eNet_grid = {'net__alpha': [.000001, .00001, .0001, .001, .01, .10, 1.],\n",
    "             'net__l1_ratio': np.arange(.05, 1., .05),\n",
    "             'net__tol': [1e-2, 1e-3, 1e-4, 1e-5, 1e-6]}\n",
    "paramsNet = ParameterSampler(n_iter=N_ITER, param_distributions=eNet_grid)\n",
    "\n",
    "# MLP Regressor\n",
    "mlp = MLPRegressor(hidden_layer_sizes=(8, 4),\n",
    "                   random_state=49,\n",
    "                   shuffle=True,\n",
    "                   max_iter=500,\n",
    "                   early_stopping=False,\n",
    "                   learning_rate='adaptive')\n",
    "\n",
    "mlp_pipe = Pipeline(steps=[('scaler', RobustScaler()),\n",
    "                           ('selector', SelectFromModel(estimator=ElasticNetCV(), threshold=0.)),\n",
    "                           ('mlp', mlp)])\n",
    "mlp_grid = {'mlp__learning_rate_init': [.000001, .00001, .0001, .001, .01, .10],\n",
    "            'mlp__batch_size': [16, 32, 64, 128, 256],\n",
    "            'mlp__alpha': [.000001, .00001, .0001, .001, .01, .10]}\n",
    "mlp_sampler = ParameterSampler(n_iter=N_ITER, param_distributions=mlp_grid)\n",
    "\n",
    "models = [(rfPipe, paramsRF, 'preds_RandomForest'),\n",
    "          (eNetPipe, paramsNet, 'preds_ElasticNet'),\n",
    "          (mlp_pipe, mlp_sampler, 'preds_MLP')]\n"
   ]
  },
  {
   "cell_type": "markdown",
   "metadata": {},
   "source": [
    "**Form the training loop, here we train on 3 year expanding windows, using 90% of each split for training and 10% for tuning hyper-parameters, we then use the same model to forecast forward 3-years before re-training again.**"
   ]
  },
  {
   "cell_type": "code",
   "execution_count": 74,
   "metadata": {},
   "outputs": [
    {
     "name": "stderr",
     "output_type": "stream",
     "text": [
      "0it [00:00, ?it/s]"
     ]
    },
    {
     "name": "stdout",
     "output_type": "stream",
     "text": [
      "4\n",
      "(34047, 13) (3780, 13)\n",
      "Iter: 0: Score: 1.8060454116200102\n",
      "{'rf__n_estimators': 300, 'rf__min_weight_fraction_leaf': 0.005, 'rf__max_features': 'sqrt', 'rf__max_depth': 3}\n"
     ]
    },
    {
     "name": "stderr",
     "output_type": "stream",
     "text": [
      "1it [00:02,  2.71s/it]"
     ]
    },
    {
     "name": "stdout",
     "output_type": "stream",
     "text": [
      "(68094, 13) (7560, 13)\n",
      "Iter: 0: Score: 1.9027832075250921\n",
      "{'rf__n_estimators': 700, 'rf__min_weight_fraction_leaf': 0.02, 'rf__max_features': 'sqrt', 'rf__max_depth': 3}\n"
     ]
    },
    {
     "name": "stderr",
     "output_type": "stream",
     "text": [
      "2it [00:12,  6.73s/it]"
     ]
    },
    {
     "name": "stdout",
     "output_type": "stream",
     "text": [
      "(102114, 13) (11340, 13)\n",
      "Iter: 0: Score: 1.49881105587062\n",
      "{'rf__n_estimators': 500, 'rf__min_weight_fraction_leaf': 0.0, 'rf__max_features': 1, 'rf__max_depth': 3}\n"
     ]
    },
    {
     "name": "stderr",
     "output_type": "stream",
     "text": [
      "3it [00:16,  5.79s/it]"
     ]
    },
    {
     "name": "stdout",
     "output_type": "stream",
     "text": [
      "(136134, 13) (15120, 13)\n",
      "Iter: 0: Score: 1.5255679298609812\n",
      "{'rf__n_estimators': 500, 'rf__min_weight_fraction_leaf': 0.015, 'rf__max_features': 'sqrt', 'rf__max_depth': 6}\n"
     ]
    },
    {
     "name": "stderr",
     "output_type": "stream",
     "text": [
      "4it [00:43, 10.79s/it]\n",
      "0it [00:00, ?it/s]"
     ]
    },
    {
     "name": "stdout",
     "output_type": "stream",
     "text": [
      "4\n",
      "(34047, 13) (3780, 13)\n",
      "Iter: 0: Score: 1.784341973792938\n",
      "{'net__tol': 1e-05, 'net__l1_ratio': 0.8500000000000001, 'net__alpha': 0.01}\n",
      "(68094, 13) (7560, 13)\n"
     ]
    },
    {
     "name": "stderr",
     "output_type": "stream",
     "text": [
      "2it [00:00,  3.76it/s]"
     ]
    },
    {
     "name": "stdout",
     "output_type": "stream",
     "text": [
      "Iter: 0: Score: 1.9087671210540436\n",
      "{'net__tol': 0.0001, 'net__l1_ratio': 0.45, 'net__alpha': 0.0001}\n"
     ]
    },
    {
     "name": "stderr",
     "output_type": "stream",
     "text": [
      "3it [00:00,  4.17it/s]"
     ]
    },
    {
     "name": "stdout",
     "output_type": "stream",
     "text": [
      "(102114, 13) (11340, 13)\n",
      "Iter: 0: Score: 1.5010489651107017\n",
      "{'net__tol': 0.01, 'net__l1_ratio': 0.6000000000000001, 'net__alpha': 0.0001}\n",
      "(136134, 13) (15120, 13)\n"
     ]
    },
    {
     "name": "stderr",
     "output_type": "stream",
     "text": [
      "4it [00:00,  4.44it/s]\n"
     ]
    },
    {
     "name": "stdout",
     "output_type": "stream",
     "text": [
      "Iter: 0: Score: 1.5242499763134592\n",
      "{'net__tol': 0.01, 'net__l1_ratio': 0.6000000000000001, 'net__alpha': 0.01}\n"
     ]
    },
    {
     "name": "stderr",
     "output_type": "stream",
     "text": [
      "0it [00:00, ?it/s]"
     ]
    },
    {
     "name": "stdout",
     "output_type": "stream",
     "text": [
      "4\n",
      "(34047, 13) (3780, 13)\n",
      "Iter: 0: Score: 1.8123748026039896\n",
      "{'mlp__learning_rate_init': 0.01, 'mlp__batch_size': 256, 'mlp__alpha': 0.01}\n"
     ]
    },
    {
     "name": "stderr",
     "output_type": "stream",
     "text": [
      "1it [00:04,  4.22s/it]"
     ]
    },
    {
     "name": "stdout",
     "output_type": "stream",
     "text": [
      "(68094, 13) (7560, 13)\n",
      "Iter: 0: Score: 1.899545670921844\n",
      "{'mlp__learning_rate_init': 1e-05, 'mlp__batch_size': 16, 'mlp__alpha': 1e-06}\n"
     ]
    },
    {
     "name": "stderr",
     "output_type": "stream",
     "text": [
      "2it [00:43, 24.96s/it]"
     ]
    },
    {
     "name": "stdout",
     "output_type": "stream",
     "text": [
      "(102114, 13) (11340, 13)\n",
      "Iter: 0: Score: 1.5186203443030482\n",
      "{'mlp__learning_rate_init': 0.01, 'mlp__batch_size': 16, 'mlp__alpha': 1e-05}\n"
     ]
    },
    {
     "name": "stderr",
     "output_type": "stream",
     "text": [
      "3it [01:54, 45.81s/it]"
     ]
    },
    {
     "name": "stdout",
     "output_type": "stream",
     "text": [
      "(136134, 13) (15120, 13)\n",
      "Iter: 0: Score: 1.563256930351783\n",
      "{'mlp__learning_rate_init': 0.001, 'mlp__batch_size': 16, 'mlp__alpha': 0.0001}\n"
     ]
    },
    {
     "name": "stderr",
     "output_type": "stream",
     "text": [
      "4it [03:25, 51.39s/it]\n"
     ]
    }
   ],
   "source": [
    "def train_single_model(model, sampler, model_name):\n",
    "    predictions = []\n",
    "    scores = []\n",
    "    for train, test in tqdm(get_cv_splits(X, split_length=252*5)):\n",
    "        # break out X and y train, test\n",
    "        X_train, y_train = train[features], train[target] \n",
    "        X_test, y_test = test[features], test[target]\n",
    "\n",
    "        # hyper-param loop\n",
    "        X_train2, X_val, y_train2, y_val = train_val_split(X_train, y_train)\n",
    "        print(X_train2.shape, X_val.shape)\n",
    "\n",
    "        # inner loop for parameter tuning\n",
    "        gscv_scores = {'scores': [], 'grid':[]}\n",
    "        for k, p in enumerate(sampler):\n",
    "            model.set_params(**p)\n",
    "            try:\n",
    "                model.n_jobs=-1\n",
    "            except Exception as e:\n",
    "                pass\n",
    "            model.fit(X_train2, y_train2.values.reshape(y_train2.shape[0], ))\n",
    "            _pred = model.predict(X_val)\n",
    "            _score = mean_squared_error(y_val, _pred)\n",
    "            gscv_scores['scores'].append(_score)\n",
    "            gscv_scores['grid'].append(p)\n",
    "            print(f'Iter: {k}: Score: {_score}')\n",
    "\n",
    "        # now fit the best model\n",
    "        best_model = pd.DataFrame(gscv_scores).sort_values(by='scores').head(1)['grid'].values[0]\n",
    "        print(best_model)\n",
    "        best_model = model.set_params(**best_model)\n",
    "        best_model.n_jobs=-1\n",
    "        best_model.fit(X_train, y_train.values.reshape(y_train.shape[0], ))\n",
    "        preds = best_model.predict(X_test)\n",
    "\n",
    "        # append the predictions\n",
    "        predictions.append(pd.Series(index=y_test.index, data=preds))\n",
    "\n",
    "        # score\n",
    "        scores.append(mean_squared_error(y_test, preds))\n",
    "\n",
    "    # predictions\n",
    "    predictions = pd.concat(predictions).to_frame(model_name)\n",
    "    return predictions\n",
    "\n",
    "# train all models selected\n",
    "predictions = []\n",
    "for model in models:\n",
    "    out = train_single_model(model[0], model[1], model[2])\n",
    "    predictions.append(out)\n",
    "\n",
    "# concat the predictions by columns\n",
    "predictions = pd.concat(predictions, axis=1)"
   ]
  },
  {
   "cell_type": "markdown",
   "metadata": {},
   "source": [
    "**Check distribution of the targets**"
   ]
  },
  {
   "cell_type": "code",
   "execution_count": 75,
   "metadata": {},
   "outputs": [
    {
     "data": {
      "text/plain": [
       "<Axes: title={'center': 'distribution of predictions'}, ylabel='Frequency'>"
      ]
     },
     "execution_count": 75,
     "metadata": {},
     "output_type": "execute_result"
    },
    {
     "data": {
      "image/png": "[encoded data removed]",
      "text/plain": [
       "<Figure size 640x480 with 1 Axes>"
      ]
     },
     "metadata": {},
     "output_type": "display_data"
    }
   ],
   "source": [
    "# We can see predictions go negative at about the 25% percentile, market mainly goes up\n",
    "predictions.plot(kind='hist', bins=1000, title=\"distribution of predictions\")"
   ]
  },
  {
   "cell_type": "markdown",
   "metadata": {},
   "source": [
    "**Join in predictions with the original dataset which has the cluster returns**"
   ]
  },
  {
   "cell_type": "code",
   "execution_count": 76,
   "metadata": {},
   "outputs": [
    {
     "name": "stdout",
     "output_type": "stream",
     "text": [
      "                         Annual_Return Annual_Volatility        DD       MDD  \\\n",
      "preds_RandomForest_Q_0.0      0.067933          0.235349  0.169079 -0.608103   \n",
      "preds_RandomForest_Q_1.0      0.068361          0.239596  0.170999 -0.598345   \n",
      "preds_RandomForest_Q_2.0      0.046776          0.236829  0.169745 -0.609168   \n",
      "preds_RandomForest_Q_3.0      0.064493          0.238612  0.171288 -0.590003   \n",
      "\n",
      "                            Sharpe   Sortino    Calmar ppct_postive_rets  \n",
      "preds_RandomForest_Q_0.0   0.39761   0.55345  0.111713          0.534064  \n",
      "preds_RandomForest_Q_1.0  0.396319  0.555305  0.114249          0.541297  \n",
      "preds_RandomForest_Q_2.0  0.311924  0.435197  0.076787          0.531031  \n",
      "preds_RandomForest_Q_3.0  0.381865  0.531956  0.109309          0.536398  \n",
      "#################################\n",
      "                       Annual_Return Annual_Volatility        DD       MDD  \\\n",
      "preds_ElasticNet_Q_0.0      0.055562          0.235762  0.169582 -0.606183   \n",
      "preds_ElasticNet_Q_1.0      0.089033          0.237836  0.168663 -0.549162   \n",
      "preds_ElasticNet_Q_2.0      0.062924          0.240975   0.17182 -0.625842   \n",
      "preds_ElasticNet_Q_3.0       0.04512          0.236515  0.171104 -0.603154   \n",
      "\n",
      "                          Sharpe   Sortino    Calmar ppct_postive_rets  \n",
      "preds_ElasticNet_Q_0.0  0.347886  0.483649  0.091659          0.524732  \n",
      "preds_ElasticNet_Q_1.0  0.478042  0.674096  0.162126          0.534531  \n",
      "preds_ElasticNet_Q_2.0  0.374143  0.524731  0.100542          0.534998  \n",
      "preds_ElasticNet_Q_3.0   0.30555  0.422357  0.074807          0.538264  \n",
      "#################################\n",
      "                Annual_Return Annual_Volatility        DD       MDD    Sharpe  \\\n",
      "preds_MLP_Q_0.0      0.059618          0.235867  0.166251 -0.465254  0.363627   \n",
      "preds_MLP_Q_1.0      0.128661          0.234278  0.156706 -0.351713  0.708278   \n",
      "preds_MLP_Q_2.0       0.09293          0.228659  0.156122 -0.501098  0.576756   \n",
      "preds_MLP_Q_3.0      0.068158          0.221865  0.154669 -0.526203  0.484975   \n",
      "\n",
      "                  Sortino    Calmar ppct_postive_rets  \n",
      "preds_MLP_Q_0.0  0.515894   0.12814          0.534288  \n",
      "preds_MLP_Q_1.0  1.058883  0.365812          0.470283  \n",
      "preds_MLP_Q_2.0   0.84473  0.185453          0.443462  \n",
      "preds_MLP_Q_3.0  0.695672  0.129529          0.420299  \n",
      "#################################\n"
     ]
    },
    {
     "ename": "ValueError",
     "evalue": "Length mismatch: Expected axis has 1 elements, new values have 12 elements",
     "output_type": "error",
     "traceback": [
      "\u001b[1;31m---------------------------------------------------------------------------\u001b[0m",
      "\u001b[1;31mValueError\u001b[0m                                Traceback (most recent call last)",
      "Cell \u001b[1;32mIn[76], line 35\u001b[0m\n\u001b[0;32m     32\u001b[0m stacked_strat_rets_cumprod \u001b[38;5;241m=\u001b[39m (\u001b[38;5;241m1\u001b[39m\u001b[38;5;241m+\u001b[39mstacked_strat_rets\u001b[38;5;241m.\u001b[39munstack())\u001b[38;5;241m.\u001b[39mcumprod()\n\u001b[0;32m     34\u001b[0m \u001b[38;5;66;03m# save to pickle\u001b[39;00m\n\u001b[1;32m---> 35\u001b[0m stacked_strat_rets\u001b[38;5;241m.\u001b[39mcolumns \u001b[38;5;241m=\u001b[39m stacked_strat_rets_cumprod\u001b[38;5;241m.\u001b[39mcolumns\u001b[38;5;241m.\u001b[39mdroplevel(\u001b[38;5;241m0\u001b[39m)\n\u001b[0;32m     36\u001b[0m stacked_strat_rets_cumprod\u001b[38;5;241m.\u001b[39mto_pickle(\u001b[38;5;124m\"\u001b[39m\u001b[38;5;124mcum_cluster_returns.pkl\u001b[39m\u001b[38;5;124m\"\u001b[39m)\n\u001b[0;32m     37\u001b[0m pd\u001b[38;5;241m.\u001b[39mconcat(ret_breakouts)\u001b[38;5;241m.\u001b[39mto_pickle(\u001b[38;5;124m\"\u001b[39m\u001b[38;5;124mmetrics_df.pkl\u001b[39m\u001b[38;5;124m\"\u001b[39m)\n",
      "File \u001b[1;32mc:\\Users\\jaman\\anaconda3\\Lib\\site-packages\\pandas\\core\\generic.py:6002\u001b[0m, in \u001b[0;36mNDFrame.__setattr__\u001b[1;34m(self, name, value)\u001b[0m\n\u001b[0;32m   6000\u001b[0m \u001b[38;5;28;01mtry\u001b[39;00m:\n\u001b[0;32m   6001\u001b[0m     \u001b[38;5;28mobject\u001b[39m\u001b[38;5;241m.\u001b[39m\u001b[38;5;21m__getattribute__\u001b[39m(\u001b[38;5;28mself\u001b[39m, name)\n\u001b[1;32m-> 6002\u001b[0m     \u001b[38;5;28;01mreturn\u001b[39;00m \u001b[38;5;28mobject\u001b[39m\u001b[38;5;241m.\u001b[39m\u001b[38;5;21m__setattr__\u001b[39m(\u001b[38;5;28mself\u001b[39m, name, value)\n\u001b[0;32m   6003\u001b[0m \u001b[38;5;28;01mexcept\u001b[39;00m \u001b[38;5;167;01mAttributeError\u001b[39;00m:\n\u001b[0;32m   6004\u001b[0m     \u001b[38;5;28;01mpass\u001b[39;00m\n",
      "File \u001b[1;32mc:\\Users\\jaman\\anaconda3\\Lib\\site-packages\\pandas\\_libs\\properties.pyx:69\u001b[0m, in \u001b[0;36mpandas._libs.properties.AxisProperty.__set__\u001b[1;34m()\u001b[0m\n",
      "File \u001b[1;32mc:\\Users\\jaman\\anaconda3\\Lib\\site-packages\\pandas\\core\\generic.py:730\u001b[0m, in \u001b[0;36mNDFrame._set_axis\u001b[1;34m(self, axis, labels)\u001b[0m\n\u001b[0;32m    725\u001b[0m \u001b[38;5;250m\u001b[39m\u001b[38;5;124;03m\"\"\"\u001b[39;00m\n\u001b[0;32m    726\u001b[0m \u001b[38;5;124;03mThis is called from the cython code when we set the `index` attribute\u001b[39;00m\n\u001b[0;32m    727\u001b[0m \u001b[38;5;124;03mdirectly, e.g. `series.index = [1, 2, 3]`.\u001b[39;00m\n\u001b[0;32m    728\u001b[0m \u001b[38;5;124;03m\"\"\"\u001b[39;00m\n\u001b[0;32m    729\u001b[0m labels \u001b[38;5;241m=\u001b[39m ensure_index(labels)\n\u001b[1;32m--> 730\u001b[0m \u001b[38;5;28mself\u001b[39m\u001b[38;5;241m.\u001b[39m_mgr\u001b[38;5;241m.\u001b[39mset_axis(axis, labels)\n\u001b[0;32m    731\u001b[0m \u001b[38;5;28mself\u001b[39m\u001b[38;5;241m.\u001b[39m_clear_item_cache()\n",
      "File \u001b[1;32mc:\\Users\\jaman\\anaconda3\\Lib\\site-packages\\pandas\\core\\internals\\managers.py:225\u001b[0m, in \u001b[0;36mBaseBlockManager.set_axis\u001b[1;34m(self, axis, new_labels)\u001b[0m\n\u001b[0;32m    223\u001b[0m \u001b[38;5;28;01mdef\u001b[39;00m \u001b[38;5;21mset_axis\u001b[39m(\u001b[38;5;28mself\u001b[39m, axis: AxisInt, new_labels: Index) \u001b[38;5;241m-\u001b[39m\u001b[38;5;241m>\u001b[39m \u001b[38;5;28;01mNone\u001b[39;00m:\n\u001b[0;32m    224\u001b[0m     \u001b[38;5;66;03m# Caller is responsible for ensuring we have an Index object.\u001b[39;00m\n\u001b[1;32m--> 225\u001b[0m     \u001b[38;5;28mself\u001b[39m\u001b[38;5;241m.\u001b[39m_validate_set_axis(axis, new_labels)\n\u001b[0;32m    226\u001b[0m     \u001b[38;5;28mself\u001b[39m\u001b[38;5;241m.\u001b[39maxes[axis] \u001b[38;5;241m=\u001b[39m new_labels\n",
      "File \u001b[1;32mc:\\Users\\jaman\\anaconda3\\Lib\\site-packages\\pandas\\core\\internals\\base.py:70\u001b[0m, in \u001b[0;36mDataManager._validate_set_axis\u001b[1;34m(self, axis, new_labels)\u001b[0m\n\u001b[0;32m     67\u001b[0m     \u001b[38;5;28;01mpass\u001b[39;00m\n\u001b[0;32m     69\u001b[0m \u001b[38;5;28;01melif\u001b[39;00m new_len \u001b[38;5;241m!=\u001b[39m old_len:\n\u001b[1;32m---> 70\u001b[0m     \u001b[38;5;28;01mraise\u001b[39;00m \u001b[38;5;167;01mValueError\u001b[39;00m(\n\u001b[0;32m     71\u001b[0m         \u001b[38;5;124mf\u001b[39m\u001b[38;5;124m\"\u001b[39m\u001b[38;5;124mLength mismatch: Expected axis has \u001b[39m\u001b[38;5;132;01m{\u001b[39;00mold_len\u001b[38;5;132;01m}\u001b[39;00m\u001b[38;5;124m elements, new \u001b[39m\u001b[38;5;124m\"\u001b[39m\n\u001b[0;32m     72\u001b[0m         \u001b[38;5;124mf\u001b[39m\u001b[38;5;124m\"\u001b[39m\u001b[38;5;124mvalues have \u001b[39m\u001b[38;5;132;01m{\u001b[39;00mnew_len\u001b[38;5;132;01m}\u001b[39;00m\u001b[38;5;124m elements\u001b[39m\u001b[38;5;124m\"\u001b[39m\n\u001b[0;32m     73\u001b[0m     )\n",
      "\u001b[1;31mValueError\u001b[0m: Length mismatch: Expected axis has 1 elements, new values have 12 elements"
     ]
    }
   ],
   "source": [
    "# bring in the data\n",
    "data = load_features_data()\n",
    "\n",
    "# join in predictions\n",
    "predictions = predictions.merge(data, how=\"left\", left_index=True, right_index=True)\n",
    "predictions.sort_index(inplace=True)\n",
    "\n",
    "# get the prediction columns\n",
    "pred_cols = [f for f in predictions.columns if f.startswith('preds_')]\n",
    "\n",
    "def getRetsForStrat(predictions, pred_cols):\n",
    "    ret_list = []\n",
    "    for pred_col in pred_cols:\n",
    "        predictions[f'{pred_col}_signalQ'] = predictions.groupby(by='date')[pred_col].apply(lambda x: pd.qcut(x, 4, labels=False, duplicates='drop')).droplevel(0)\n",
    "        predictions[f'{pred_col}_signalQ'] = predictions.groupby(by='cluster')[f'{pred_col}_signalQ'].shift(1)\n",
    "\n",
    "        rets = predictions.groupby(by=['date', f'{pred_col}_signalQ'])['1d_ret'].mean().unstack()\n",
    "        rets.rename(columns={col: f'{pred_col}_Q_{col}' for col in rets.columns}, inplace=True)\n",
    "        ret_list.append(rets)\n",
    "    return ret_list\n",
    "\n",
    "ret_breakouts = []\n",
    "# get all the returns\n",
    "all_rets = getRetsForStrat(predictions, pred_cols)\n",
    "for one_ret in all_rets:\n",
    "    print(get_returns_breakout(one_ret))\n",
    "    ret_breakouts.append(get_returns_breakout(one_ret))\n",
    "    print('#################################')\n",
    "\n",
    "# stack the returns\n",
    "stacked_strat_rets = pd.concat([r.stack().to_frame('ret') for r in all_rets]) # this can hopefully be the data used for streamlit\n",
    "stacked_strat_rets_cumprod = (1+stacked_strat_rets.unstack()).cumprod()\n",
    "\n",
    "# save to pickle\n",
    "stacked_strat_rets_cumprod.columns = stacked_strat_rets_cumprod.columns.droplevel(0)\n",
    "stacked_strat_rets_cumprod.to_pickle(\"cum_cluster_returns.pkl\")\n",
    "pd.concat(ret_breakouts).to_pickle(\"metrics_df.pkl\")"
   ]
  }
 ],
 "metadata": {
  "kernelspec": {
   "display_name": "base",
   "language": "python",
   "name": "python3"
  },
  "language_info": {
   "codemirror_mode": {
    "name": "ipython",
    "version": 3
   },
   "file_extension": ".py",
   "mimetype": "text/x-python",
   "name": "python",
   "nbconvert_exporter": "python",
   "pygments_lexer": "ipython3",
   "version": "3.11.5"
  }
 },
 "nbformat": 4,
 "nbformat_minor": 2
}
